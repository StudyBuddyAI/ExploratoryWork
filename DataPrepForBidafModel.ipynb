{
 "cells": [
  {
   "cell_type": "code",
   "execution_count": 143,
   "metadata": {},
   "outputs": [],
   "source": [
    "import numpy as np\n",
    "import pandas as pd\n",
    "import scipy as sp\n",
    "\n",
    "import json\n",
    "import bson\n",
    "from bson.json_util import dumps,default\n",
    "import uuid\n",
    "\n",
    "import glob\n",
    "\n",
    "from pymongo import MongoClient"
   ]
  },
  {
   "cell_type": "code",
   "execution_count": 4,
   "metadata": {},
   "outputs": [],
   "source": [
    "with open('datasets/squad-train-v1.1.json') as json_file:  \n",
    "    json_data = json.load(json_file)"
   ]
  },
  {
   "cell_type": "code",
   "execution_count": 7,
   "metadata": {},
   "outputs": [],
   "source": [
    "data = json_data['data']"
   ]
  },
  {
   "cell_type": "code",
   "execution_count": 10,
   "metadata": {},
   "outputs": [
    {
     "name": "stdout",
     "output_type": "stream",
     "text": [
      "442\n"
     ]
    }
   ],
   "source": [
    "print(len(data))"
   ]
  },
  {
   "cell_type": "code",
   "execution_count": 11,
   "metadata": {},
   "outputs": [
    {
     "name": "stdout",
     "output_type": "stream",
     "text": [
      "{'title': 'University_of_Notre_Dame', 'paragraphs': [{'context': 'Architecturally, the school has a Catholic character. Atop the Main Building\\'s gold dome is a golden statue of the Virgin Mary. Immediately in front of the Main Building and facing it, is a copper statue of Christ with arms upraised with the legend \"Venite Ad Me Omnes\". Next to the Main Building is the Basilica of the Sacred Heart. Immediately behind the basilica is the Grotto, a Marian place of prayer and reflection. It is a replica of the grotto at Lourdes, France where the Virgin Mary reputedly appeared to Saint Bernadette Soubirous in 1858. At the end of the main drive (and in a direct line that connects through 3 statues and the Gold Dome), is a simple, modern stone statue of Mary.', 'qas': [{'answers': [{'answer_start': 515, 'text': 'Saint Bernadette Soubirous'}], 'question': 'To whom did the Virgin Mary allegedly appear in 1858 in Lourdes France?', 'id': '5733be284776f41900661182'}, {'answers': [{'answer_start': 188, 'text': 'a copper statue of Christ'}], 'question': 'What is in front of the Notre Dame Main Building?', 'id': '5733be284776f4190066117f'}, {'answers': [{'answer_start': 279, 'text': 'the Main Building'}], 'question': 'The Basilica of the Sacred heart at Notre Dame is beside to which structure?', 'id': '5733be284776f41900661180'}, {'answers': [{'answer_start': 381, 'text': 'a Marian place of prayer and reflection'}], 'question': 'What is the Grotto at Notre Dame?', 'id': '5733be284776f41900661181'}, {'answers': [{'answer_start': 92, 'text': 'a golden statue of the Virgin Mary'}], 'question': 'What sits on top of the Main Building at Notre Dame?', 'id': '5733be284776f4190066117e'}]}, {'context': \"As at most other universities, Notre Dame's students run a number of news media outlets. The nine student-run outlets include three newspapers, both a radio and television station, and several magazines and journals. Begun as a one-page journal in September 1876, the Scholastic magazine is issued twice monthly and claims to be the oldest continuous collegiate publication in the United States. The other magazine, The Juggler, is released twice a year and focuses on student literature and artwork. The Dome yearbook is published annually. The newspapers have varying publication interests, with The Observer published daily and mainly reporting university and other news, and staffed by students from both Notre Dame and Saint Mary's College. Unlike Scholastic and The Dome, The Observer is an independent publication and does not have a faculty advisor or any editorial oversight from the University. In 1987, when some students believed that The Observer began to show a conservative bias, a liberal newspaper, Common Sense was published. Likewise, in 2003, when other students believed that the paper showed a liberal bias, the conservative paper Irish Rover went into production. Neither paper is published as often as The Observer; however, all three are distributed to all students. Finally, in Spring 2008 an undergraduate journal for political science research, Beyond Politics, made its debut.\", 'qas': [{'answers': [{'answer_start': 248, 'text': 'September 1876'}], 'question': 'When did the Scholastic Magazine of Notre dame begin publishing?', 'id': '5733bf84d058e614000b61be'}, {'answers': [{'answer_start': 441, 'text': 'twice'}], 'question': \"How often is Notre Dame's the Juggler published?\", 'id': '5733bf84d058e614000b61bf'}, {'answers': [{'answer_start': 598, 'text': 'The Observer'}], 'question': 'What is the daily student paper at Notre Dame called?', 'id': '5733bf84d058e614000b61c0'}, {'answers': [{'answer_start': 126, 'text': 'three'}], 'question': 'How many student news papers are found at Notre Dame?', 'id': '5733bf84d058e614000b61bd'}, {'answers': [{'answer_start': 908, 'text': '1987'}], 'question': 'In what year did the student paper Common Sense begin publication at Notre Dame?', 'id': '5733bf84d058e614000b61c1'}]}, {'context': 'The university is the major seat of the Congregation of Holy Cross (albeit not its official headquarters, which are in Rome). Its main seminary, Moreau Seminary, is located on the campus across St. Joseph lake from the Main Building. Old College, the oldest building on campus and located near the shore of St. Mary lake, houses undergraduate seminarians. Retired priests and brothers reside in Fatima House (a former retreat center), Holy Cross House, as well as Columba Hall near the Grotto. The university through the Moreau Seminary has ties to theologian Frederick Buechner. While not Catholic, Buechner has praised writers from Notre Dame and Moreau Seminary created a Buechner Prize for Preaching.', 'qas': [{'answers': [{'answer_start': 119, 'text': 'Rome'}], 'question': 'Where is the headquarters of the Congregation of the Holy Cross?', 'id': '5733bed24776f41900661188'}, {'answers': [{'answer_start': 145, 'text': 'Moreau Seminary'}], 'question': 'What is the primary seminary of the Congregation of the Holy Cross?', 'id': '5733bed24776f41900661189'}, {'answers': [{'answer_start': 234, 'text': 'Old College'}], 'question': 'What is the oldest structure at Notre Dame?', 'id': '5733bed24776f4190066118a'}, {'answers': [{'answer_start': 356, 'text': 'Retired priests and brothers'}], 'question': 'What individuals live at Fatima House at Notre Dame?', 'id': '5733bed24776f4190066118b'}, {'answers': [{'answer_start': 675, 'text': 'Buechner Prize for Preaching'}], 'question': 'Which prize did Frederick Buechner create?', 'id': '5733bed24776f4190066118c'}]}, {'context': 'The College of Engineering was established in 1920, however, early courses in civil and mechanical engineering were a part of the College of Science since the 1870s. Today the college, housed in the Fitzpatrick, Cushing, and Stinson-Remick Halls of Engineering, includes five departments of study – aerospace and mechanical engineering, chemical and biomolecular engineering, civil engineering and geological sciences, computer science and engineering, and electrical engineering – with eight B.S. degrees offered. Additionally, the college offers five-year dual degree programs with the Colleges of Arts and Letters and of Business awarding additional B.A. and Master of Business Administration (MBA) degrees, respectively.', 'qas': [{'answers': [{'answer_start': 487, 'text': 'eight'}], 'question': 'How many BS level degrees are offered in the College of Engineering at Notre Dame?', 'id': '5733a6424776f41900660f51'}, {'answers': [{'answer_start': 46, 'text': '1920'}], 'question': 'In what year was the College of Engineering at Notre Dame formed?', 'id': '5733a6424776f41900660f4e'}, {'answers': [{'answer_start': 126, 'text': 'the College of Science'}], 'question': 'Before the creation of the College of Engineering similar studies were carried out at which Notre Dame college?', 'id': '5733a6424776f41900660f4f'}, {'answers': [{'answer_start': 271, 'text': 'five'}], 'question': 'How many departments are within the Stinson-Remick Hall of Engineering?', 'id': '5733a6424776f41900660f50'}, {'answers': [{'answer_start': 155, 'text': 'the 1870s'}], 'question': 'The College of Science began to offer civil engineering courses beginning at what time at Notre Dame?', 'id': '5733a6424776f41900660f52'}]}, {'context': \"All of Notre Dame's undergraduate students are a part of one of the five undergraduate colleges at the school or are in the First Year of Studies program. The First Year of Studies program was established in 1962 to guide incoming freshmen in their first year at the school before they have declared a major. Each student is given an academic advisor from the program who helps them to choose classes that give them exposure to any major in which they are interested. The program also includes a Learning Resource Center which provides time management, collaborative learning, and subject tutoring. This program has been recognized previously, by U.S. News & World Report, as outstanding.\", 'qas': [{'answers': [{'answer_start': 496, 'text': 'Learning Resource Center'}], 'question': 'What entity provides help with the management of time for new students at Notre Dame?', 'id': '5733a70c4776f41900660f64'}, {'answers': [{'answer_start': 68, 'text': 'five'}], 'question': 'How many colleges for undergraduates are at Notre Dame?', 'id': '5733a70c4776f41900660f62'}, {'answers': [{'answer_start': 155, 'text': 'The First Year of Studies program'}], 'question': 'What was created at Notre Dame in 1962 to assist first year students?', 'id': '5733a70c4776f41900660f63'}, {'answers': [{'answer_start': 647, 'text': 'U.S. News & World Report'}], 'question': 'Which organization declared the First Year of Studies program at Notre Dame \"outstanding?\"', 'id': '5733a70c4776f41900660f65'}]}, {'context': 'The university first offered graduate degrees, in the form of a Master of Arts (MA), in the 1854–1855 academic year. The program expanded to include Master of Laws (LL.M.) and Master of Civil Engineering in its early stages of growth, before a formal graduate school education was developed with a thesis not required to receive the degrees. This changed in 1924 with formal requirements developed for graduate degrees, including offering Doctorate (PhD) degrees. Today each of the five colleges offer graduate education. Most of the departments from the College of Arts and Letters offer PhD programs, while a professional Master of Divinity (M.Div.) program also exists. All of the departments in the College of Science offer PhD programs, except for the Department of Pre-Professional Studies. The School of Architecture offers a Master of Architecture, while each of the departments of the College of Engineering offer PhD programs. The College of Business offers multiple professional programs including MBA and Master of Science in Accountancy programs. It also operates facilities in Chicago and Cincinnati for its executive MBA program. Additionally, the Alliance for Catholic Education program offers a Master of Education program where students study at the university during the summer and teach in Catholic elementary schools, middle schools, and high schools across the Southern United States for two school years.', 'qas': [{'answers': [{'answer_start': 358, 'text': '1924'}], 'question': 'The granting of Doctorate degrees first occurred in what year at Notre Dame?', 'id': '5733a7bd4776f41900660f6b'}, {'answers': [{'answer_start': 624, 'text': 'Master of Divinity'}], 'question': 'What type of degree is an M.Div.?', 'id': '5733a7bd4776f41900660f6c'}, {'answers': [{'answer_start': 1163, 'text': 'Alliance for Catholic Education'}], 'question': 'Which program at Notre Dame offers a Master of Education degree?', 'id': '5733a7bd4776f41900660f6e'}, {'answers': [{'answer_start': 92, 'text': '1854'}], 'question': 'In what year was a Master of Arts course first offered at Notre Dame?', 'id': '5733a7bd4776f41900660f6a'}, {'answers': [{'answer_start': 757, 'text': 'Department of Pre-Professional Studies'}], 'question': 'Which department at Notre Dame is the only one to not offer a PhD program?', 'id': '5733a7bd4776f41900660f6d'}]}, {'context': \"The Joan B. Kroc Institute for International Peace Studies at the University of Notre Dame is dedicated to research, education and outreach on the causes of violent conflict and the conditions for sustainable peace. It offers PhD, Master's, and undergraduate degrees in peace studies. It was founded in 1986 through the donations of Joan B. Kroc, the widow of McDonald's owner Ray Kroc. The institute was inspired by the vision of the Rev. Theodore M. Hesburgh CSC, President Emeritus of the University of Notre Dame. The institute has contributed to international policy discussions about peace building practices.\", 'qas': [{'answers': [{'answer_start': 4, 'text': 'Joan B. Kroc Institute for International Peace Studies'}], 'question': 'What institute at Notre Dame studies  the reasons for violent conflict?', 'id': '5733ac31d058e614000b5ff3'}, {'answers': [{'answer_start': 466, 'text': 'President Emeritus of the University of Notre Dame'}], 'question': \"What is the title of Notre Dame's Theodore Hesburgh?\", 'id': '5733ac31d058e614000b5ff6'}, {'answers': [{'answer_start': 303, 'text': '1986'}], 'question': 'In what year was the Joan B. Kroc Institute for International Peace Studies founded?', 'id': '5733ac31d058e614000b5ff4'}, {'answers': [{'answer_start': 377, 'text': 'Ray Kroc'}], 'question': 'To whom was John B. Kroc married?', 'id': '5733ac31d058e614000b5ff5'}, {'answers': [{'answer_start': 360, 'text': \"McDonald's\"}], 'question': 'What company did Ray Kroc own?', 'id': '5733ac31d058e614000b5ff7'}]}, {'context': 'The library system of the university is divided between the main library and each of the colleges and schools. The main building is the 14-story Theodore M. Hesburgh Library, completed in 1963, which is the third building to house the main collection of books. The front of the library is adorned with the Word of Life mural designed by artist Millard Sheets. This mural is popularly known as \"Touchdown Jesus\" because of its proximity to Notre Dame Stadium and Jesus\\' arms appearing to make the signal for a touchdown.', 'qas': [{'answers': [{'answer_start': 136, 'text': '14'}], 'question': 'How many stories tall is the main library at Notre Dame?', 'id': '5733ad384776f41900660fec'}, {'answers': [{'answer_start': 145, 'text': 'Theodore M. Hesburgh Library'}], 'question': 'What is the name of the main library at Notre Dame?', 'id': '5733ad384776f41900660fed'}, {'answers': [{'answer_start': 188, 'text': '1963'}], 'question': 'In what year was the Theodore M. Hesburgh Library at Notre Dame finished?', 'id': '5733ad384776f41900660fee'}, {'answers': [{'answer_start': 344, 'text': 'Millard Sheets'}], 'question': 'Which artist created the mural on the Theodore M. Hesburgh Library?', 'id': '5733ad384776f41900660fef'}, {'answers': [{'answer_start': 394, 'text': 'Touchdown Jesus'}], 'question': 'What is a common name to reference the mural created by Millard Sheets at Notre Dame?', 'id': '5733ad384776f41900660ff0'}]}, {'context': 'Notre Dame is known for its competitive admissions, with the incoming class enrolling in fall 2015 admitting 3,577 from a pool of 18,156 (19.7%). The academic profile of the enrolled class continues to rate among the top 10 to 15 in the nation for national research universities. The university practices a non-restrictive early action policy that allows admitted students to consider admission to Notre Dame as well as any other colleges to which they were accepted. 1,400 of the 3,577 (39.1%) were admitted under the early action plan. Admitted students came from 1,311 high schools and the average student traveled more than 750 miles to Notre Dame, making it arguably the most representative university in the United States. While all entering students begin in the College of the First Year of Studies, 25% have indicated they plan to study in the liberal arts or social sciences, 24% in engineering, 24% in business, 24% in science, and 3% in architecture.', 'qas': [{'answers': [{'answer_start': 109, 'text': '3,577'}], 'question': 'How many incoming students did Notre Dame admit in fall 2015?', 'id': '5733ae924776f41900661014'}, {'answers': [{'answer_start': 138, 'text': '19.7%'}], 'question': 'What percentage of students were admitted to Notre Dame in fall 2015?', 'id': '5733ae924776f41900661013'}, {'answers': [{'answer_start': 213, 'text': 'the top 10 to 15 in the nation'}], 'question': 'Where does Notre Dame rank in terms of academic profile among research universities in the US?', 'id': '5733ae924776f41900661015'}, {'answers': [{'answer_start': 488, 'text': '39.1%'}], 'question': 'What percentage of students at Notre Dame participated in the Early Action program?', 'id': '5733ae924776f41900661016'}, {'answers': [{'answer_start': 618, 'text': 'more than 750 miles'}], 'question': 'How many miles does the average student at Notre Dame travel to study there?', 'id': '5733ae924776f41900661017'}]}, {'context': 'In 2015-2016, Notre Dame ranked 18th overall among \"national universities\" in the United States in U.S. News & World Report\\'s Best Colleges 2016. In 2014, USA Today ranked Notre Dame 10th overall for American universities based on data from College Factual. Forbes.com\\'s America\\'s Best Colleges ranks Notre Dame 13th among colleges in the United States in 2015, 8th among Research Universities, and 1st in the Midwest. U.S. News & World Report also lists Notre Dame Law School as 22nd overall. BusinessWeek ranks Mendoza College of Business undergraduate school as 1st overall. It ranks the MBA program as 20th overall. The Philosophical Gourmet Report ranks Notre Dame\\'s graduate philosophy program as 15th nationally, while ARCHITECT Magazine ranked the undergraduate architecture program as 12th nationally. Additionally, the study abroad program ranks sixth in highest participation percentage in the nation, with 57.6% of students choosing to study abroad in 17 countries. According to payscale.com, undergraduate alumni of University of Notre Dame have a mid-career median salary $110,000, making it the 24th highest among colleges and universities in the United States. The median starting salary of $55,300 ranked 58th in the same peer group.', 'qas': [{'answers': [{'answer_start': 32, 'text': '18th overall'}], 'question': 'Where did U.S. News & World Report rank Notre Dame in its 2015-2016 university rankings?', 'id': '5733afd3d058e614000b6045'}, {'answers': [{'answer_start': 362, 'text': '8th'}], 'question': 'Forbes.com placed Notre Dame at what position compared to other US research universities?', 'id': '5733afd3d058e614000b6047'}, {'answers': [{'answer_start': 565, 'text': '1st overall'}], 'question': 'The undergrad school at the Mendoza College of Business was ranked where according to BusinessWeek?', 'id': '5733afd3d058e614000b6048'}, {'answers': [{'answer_start': 155, 'text': 'USA Today'}], 'question': 'In 2014 what entity named Notre Dame 10th best of all American universities?', 'id': '5733afd3d058e614000b6046'}, {'answers': [{'answer_start': 918, 'text': '57.6%'}], 'question': 'What percentage of Notre Dame students decide to study abroad?', 'id': '5733afd3d058e614000b6049'}]}, {'context': \"Father Joseph Carrier, C.S.C. was Director of the Science Museum and the Library and Professor of Chemistry and Physics until 1874. Carrier taught that scientific research and its promise for progress were not antagonistic to the ideals of intellectual and moral culture endorsed by the Church. One of Carrier's students was Father John Augustine Zahm (1851–1921) who was made Professor and Co-Director of the Science Department at age 23 and by 1900 was a nationally prominent scientist and naturalist. Zahm was active in the Catholic Summer School movement, which introduced Catholic laity to contemporary intellectual issues. His book Evolution and Dogma (1896) defended certain aspects of evolutionary theory as true, and argued, moreover, that even the great Church teachers Thomas Aquinas and Augustine taught something like it. The intervention of Irish American Catholics in Rome prevented Zahm's censure by the Vatican. In 1913, Zahm and former President Theodore Roosevelt embarked on a major expedition through the Amazon.\", 'qas': [{'answers': [{'answer_start': 0, 'text': 'Father Joseph Carrier, C.S.C.'}], 'question': 'What person was the Director of the Science Museum at Notre Dame in the late 19th century?', 'id': '5733b0fb4776f41900661041'}, {'answers': [{'answer_start': 353, 'text': '1851–1921'}], 'question': 'What was the lifespan of John Augustine Zahm?', 'id': '5733b0fb4776f41900661043'}, {'answers': [{'answer_start': 406, 'text': 'the Science Department'}], 'question': 'What program did John Augustine Zahm come to co-direct at Nore Dame?', 'id': '5733b0fb4776f41900661044'}, {'answers': [{'answer_start': 638, 'text': 'Evolution and Dogma'}], 'question': 'What book did John Zahm write in 1896?', 'id': '5733b0fb4776f41900661045'}, {'answers': [{'answer_start': 85, 'text': 'Professor of Chemistry and Physics'}], 'question': 'What professorship did Father Josh Carrier hold at Notre Dame?', 'id': '5733b0fb4776f41900661042'}]}, {'context': \"In 1882, Albert Zahm (John Zahm's brother) built an early wind tunnel used to compare lift to drag of aeronautical models. Around 1899, Professor Jerome Green became the first American to send a wireless message. In 1931, Father Julius Nieuwland performed early work on basic reactions that was used to create neoprene. Study of nuclear physics at the university began with the building of a nuclear accelerator in 1936, and continues now partly through a partnership in the Joint Institute for Nuclear Astrophysics.\", 'qas': [{'answers': [{'answer_start': 3, 'text': '1882'}], 'question': 'In what year did Albert Zahm begin comparing aeronatical models at Notre Dame?', 'id': '5733b1da4776f41900661068'}, {'answers': [{'answer_start': 136, 'text': 'Professor Jerome Green'}], 'question': 'Which professor sent the first wireless message in the USA?', 'id': '5733b1da4776f41900661069'}, {'answers': [{'answer_start': 123, 'text': 'Around 1899'}], 'question': 'In what year did Jerome Green send his first wireless message?', 'id': '5733b1da4776f4190066106a'}, {'answers': [{'answer_start': 222, 'text': 'Father Julius Nieuwland'}], 'question': 'Which individual worked on projects at Notre Dame that eventually created neoprene?', 'id': '5733b1da4776f4190066106b'}, {'answers': [{'answer_start': 49, 'text': 'an early wind tunnel'}], 'question': 'What did the brother of John Zahm construct at Notre Dame?', 'id': '5733b1da4776f41900661067'}]}, {'context': \"The Lobund Institute grew out of pioneering research in germ-free-life which began in 1928. This area of research originated in a question posed by Pasteur as to whether animal life was possible without bacteria. Though others had taken up this idea, their research was short lived and inconclusive. Lobund was the first research organization to answer definitively, that such life is possible and that it can be prolonged through generations. But the objective was not merely to answer Pasteur's question but also to produce the germ free animal as a new tool for biological and medical research. This objective was reached and for years Lobund was a unique center for the study and production of germ free animals and for their use in biological and medical investigations. Today the work has spread to other universities. In the beginning it was under the Department of Biology and a program leading to the master's degree accompanied the research program. In the 1940s Lobund achieved independent status as a purely research organization and in 1950 was raised to the status of an Institute. In 1958 it was brought back into the Department of Biology as integral part of that department, but with its own program leading to the degree of PhD in Gnotobiotics.\", 'qas': [{'answers': [{'answer_start': 0, 'text': 'The Lobund Institute'}], 'question': 'Work on a germ-free-life ended up in the creation of which Notre Dame institute?', 'id': '5733b2fe4776f4190066108f'}, {'answers': [{'answer_start': 963, 'text': 'the 1940s'}], 'question': 'Around what time did Lobund of Notre Dame become independent?', 'id': '5733b2fe4776f41900661091'}, {'answers': [{'answer_start': 1049, 'text': '1950'}], 'question': 'In what year did Lobund at Notre Dame become an Institute?', 'id': '5733b2fe4776f41900661092'}, {'answers': [{'answer_start': 1099, 'text': '1958'}], 'question': 'The Lobund Institute was merged into the Department of Biology at Notre Dame in what year?', 'id': '5733b2fe4776f41900661093'}, {'answers': [{'answer_start': 86, 'text': '1928'}], 'question': 'When did study of a germ-free-life begin at Notre Dame?', 'id': '5733b2fe4776f41900661090'}]}, {'context': \"The Review of Politics was founded in 1939 by Gurian, modeled after German Catholic journals. It quickly emerged as part of an international Catholic intellectual revival, offering an alternative vision to positivist philosophy. For 44 years, the Review was edited by Gurian, Matthew Fitzsimons, Frederick Crosson, and Thomas Stritch. Intellectual leaders included Gurian, Jacques Maritain, Frank O'Malley, Leo Richard Ward, F. A. Hermens, and John U. Nef. It became a major forum for political ideas and modern political concerns, especially from a Catholic and scholastic tradition.\", 'qas': [{'answers': [{'answer_start': 0, 'text': 'The Review of Politics'}], 'question': 'Gurian created what in 1939 at Notre Dame?', 'id': '5733b3d64776f419006610a3'}, {'answers': [{'answer_start': 68, 'text': 'German Catholic journals'}], 'question': 'What was the Review of Politics inspired by?', 'id': '5733b3d64776f419006610a4'}, {'answers': [{'answer_start': 233, 'text': '44'}], 'question': 'Over how many years did Gurian edit the Review of Politics at Notre Dame?', 'id': '5733b3d64776f419006610a5'}, {'answers': [{'answer_start': 4, 'text': 'Review of Politics'}], 'question': 'Thomas Stritch was an editor of which publican from Notre Dame?', 'id': '5733b3d64776f419006610a6'}]}, {'context': 'As of 2012[update] research continued in many fields. The university president, John Jenkins, described his hope that Notre Dame would become \"one of the pre–eminent research institutions in the world\" in his inaugural address. The university has many multi-disciplinary institutes devoted to research in varying fields, including the Medieval Institute, the Kellogg Institute for International Studies, the Kroc Institute for International Peace studies, and the Center for Social Concerns. Recent research includes work on family conflict and child development, genome mapping, the increasing trade deficit of the United States with China, studies in fluid mechanics, computational science and engineering, and marketing trends on the Internet. As of 2013, the university is home to the Notre Dame Global Adaptation Index which ranks countries annually based on how vulnerable they are to climate change and how prepared they are to adapt.', 'qas': [{'answers': [{'answer_start': 80, 'text': 'John Jenkins'}], 'question': 'Who was the president of Notre Dame in 2012?', 'id': '5733b5344776f419006610dd'}, {'answers': [{'answer_start': 118, 'text': 'Notre Dame'}], 'question': 'The Kellogg Institute for International Studies is part of which university?', 'id': '5733b5344776f419006610de'}, {'answers': [{'answer_start': 427, 'text': 'International Peace studies'}], 'question': 'What does the Kroc Institute at Notre Dame focus on?', 'id': '5733b5344776f419006610df'}, {'answers': [{'answer_start': 753, 'text': '2013'}], 'question': 'In what year did Notre Dame begin to host the Global Adaptation Index?', 'id': '5733b5344776f419006610e0'}, {'answers': [{'answer_start': 891, 'text': 'climate change'}], 'question': 'What threat does the Global Adaptation Index study?', 'id': '5733b5344776f419006610e1'}]}, {'context': 'In 2014 the Notre Dame student body consisted of 12,179 students, with 8,448 undergraduates, 2,138 graduate and professional and 1,593 professional (Law, M.Div., Business, M.Ed.) students. Around 21–24% of students are children of alumni, and although 37% of students come from the Midwestern United States, the student body represents all 50 states and 100 countries. As of March 2007[update] The Princeton Review ranked the school as the fifth highest \\'dream school\\' for parents to send their children. As of March 2015[update] The Princeton Review ranked Notre Dame as the ninth highest. The school has been previously criticized for its lack of diversity, and The Princeton Review ranks the university highly among schools at which \"Alternative Lifestyles [are] Not an Alternative.\" It has also been commended by some diversity oriented publications; Hispanic Magazine in 2004 ranked the university ninth on its list of the top–25 colleges for Latinos, and The Journal of Blacks in Higher Education recognized the university in 2006 for raising enrollment of African-American students. With 6,000 participants, the university\\'s intramural sports program was named in 2004 by Sports Illustrated as the best program in the country, while in 2007 The Princeton Review named it as the top school where \"Everyone Plays Intramural Sports.\" The annual Bookstore Basketball tournament is the largest outdoor five-on-five tournament in the world with over 700 teams participating each year, while the Notre Dame Men\\'s Boxing Club hosts the annual Bengal Bouts tournament that raises money for the Holy Cross Missions in Bangladesh.', 'qas': [{'answers': [{'answer_start': 71, 'text': '8,448'}], 'question': 'How many undergrads were attending Notre Dame in 2014?', 'id': '5733b5df4776f41900661105'}, {'answers': [{'answer_start': 196, 'text': '21–24%'}], 'question': 'What percentage of students at Notre Dame are the children of former Notre Dame students?', 'id': '5733b5df4776f41900661106'}, {'answers': [{'answer_start': 1446, 'text': 'over 700'}], 'question': 'How many teams participate in the Notre Dame Bookstore Basketball tournament?', 'id': '5733b5df4776f41900661107'}, {'answers': [{'answer_start': 1588, 'text': 'the Holy Cross Missions in Bangladesh'}], 'question': 'For what cause is money raised at the Bengal Bouts tournament at Notre Dame?', 'id': '5733b5df4776f41900661108'}, {'answers': [{'answer_start': 49, 'text': '12,179'}], 'question': 'How many students in total were at Notre Dame in 2014?', 'id': '5733b5df4776f41900661109'}]}, {'context': \"About 80% of undergraduates and 20% of graduate students live on campus. The majority of the graduate students on campus live in one of four graduate housing complexes on campus, while all on-campus undergraduates live in one of the 29 residence halls. Because of the religious affiliation of the university, all residence halls are single-sex, with 15 male dorms and 14 female dorms. The university maintains a visiting policy (known as parietal hours) for those students who live in dormitories, specifying times when members of the opposite sex are allowed to visit other students' dorm rooms; however, all residence halls have 24-hour social spaces for students regardless of gender. Many residence halls have at least one nun and/or priest as a resident. There are no traditional social fraternities or sororities at the university, but a majority of students live in the same residence hall for all four years. Some intramural sports are based on residence hall teams, where the university offers the only non-military academy program of full-contact intramural American football. At the end of the intramural season, the championship game is played on the field in Notre Dame Stadium.\", 'qas': [{'answers': [{'answer_start': 6, 'text': '80%'}], 'question': 'What percentage of undergrads live on the Notre Dame campus?', 'id': '5733b699d058e614000b6118'}, {'answers': [{'answer_start': 136, 'text': 'four'}], 'question': \"How many student housing areas are reserved for Notre Dame's graduate students?\", 'id': '5733b699d058e614000b6119'}, {'answers': [{'answer_start': 350, 'text': '15'}], 'question': 'How many dorms for males are on the Notre Dame campus?', 'id': '5733b699d058e614000b611a'}, {'answers': [{'answer_start': 32, 'text': '20%'}], 'question': 'What amount of the graduate student body at Notre Dame live on the campus?', 'id': '5733b699d058e614000b611b'}, {'answers': [{'answer_start': 368, 'text': '14'}], 'question': 'There are how many dorms for females at Notre Dame?', 'id': '5733b699d058e614000b611c'}]}, {'context': 'The university is affiliated with the Congregation of Holy Cross (Latin: Congregatio a Sancta Cruce, abbreviated postnominals: \"CSC\"). While religious affiliation is not a criterion for admission, more than 93% of students identify as Christian, with over 80% of the total being Catholic. Collectively, Catholic Mass is celebrated over 100 times per week on campus, and a large campus ministry program provides for the faith needs of the community. There are multitudes of religious statues and artwork around campus, most prominent of which are the statue of Mary on the Main Building, the Notre Dame Grotto, and the Word of Life mural on Hesburgh Library depicting Christ as a teacher. Additionally, every classroom displays a crucifix. There are many religious clubs (catholic and non-Catholic) at the school, including Council #1477 of the Knights of Columbus (KOC), Baptist Collegiate Ministry (BCM), Jewish Club, Muslim Student Association, Orthodox Christian Fellowship, The Mormon Club, and many more. The Notre Dame KofC are known for being the first collegiate council of KofC, operating a charitable concession stand during every home football game and owning their own building on campus which can be used as a cigar lounge. Fifty-seven chapels are located throughout the campus.', 'qas': [{'answers': [{'answer_start': 73, 'text': 'Congregatio a Sancta Cruce'}], 'question': 'What is Congregation of Holy Cross in Latin?', 'id': '5733b7f74776f4190066112d'}, {'answers': [{'answer_start': 197, 'text': 'more than 93%'}], 'question': 'What percentage of Notre Dame students feel they are Christian?', 'id': '5733b7f74776f4190066112e'}, {'answers': [{'answer_start': 331, 'text': 'over 100 times'}], 'question': 'How often is Catholic mass held at Notre Dame in a week?', 'id': '5733b7f74776f4190066112f'}, {'answers': [{'answer_start': 1237, 'text': 'Fifty-seven'}], 'question': 'How many chapels are on the Notre Dame campus?', 'id': '5733b7f74776f41900661130'}, {'answers': [{'answer_start': 251, 'text': 'over 80%'}], 'question': 'What amount of the student body of Notre Dame identifies as Catholic?', 'id': '5733b7f74776f41900661131'}]}, {'context': 'This Main Building, and the library collection, was entirely destroyed by a fire in April 1879, and the school closed immediately and students were sent home. The university founder, Fr. Sorin and the president at the time, the Rev. William Corby, immediately planned for the rebuilding of the structure that had housed virtually the entire University. Construction was started on the 17th of May and by the incredible zeal of administrator and workers the building was completed before the fall semester of 1879. The library collection was also rebuilt and stayed housed in the new Main Building for years afterwards. Around the time of the fire, a music hall was opened. Eventually becoming known as Washington Hall, it hosted plays and musical acts put on by the school. By 1880, a science program was established at the university, and a Science Hall (today LaFortune Student Center) was built in 1883. The hall housed multiple classrooms and science labs needed for early research at the university.', 'qas': [{'answers': [{'answer_start': 702, 'text': 'Washington Hall'}], 'question': 'What was the music hall at Notre Dame called?', 'id': '57338653d058e614000b5c84'}, {'answers': [{'answer_start': 90, 'text': '1879'}], 'question': 'In what year was the Main Building at Notre Dame razed in a fire?', 'id': '57338653d058e614000b5c81'}, {'answers': [{'answer_start': 228, 'text': 'Rev. William Corby'}], 'question': 'Who was the president of Notre Dame in 1879?', 'id': '57338653d058e614000b5c82'}, {'answers': [{'answer_start': 385, 'text': '17th of May'}], 'question': 'On what date was the rebuilding of The Main Building begun at Notre Dame after the fire that claimed the previous?', 'id': '57338653d058e614000b5c83'}, {'answers': [{'answer_start': 862, 'text': 'LaFortune Student Center'}], 'question': 'What did the Science Hall at Notre Dame come to be known as?', 'id': '57338653d058e614000b5c85'}]}, {'context': \"In 1919 Father James Burns became president of Notre Dame, and in three years he produced an academic revolution that brought the school up to national standards by adopting the elective system and moving away from the university's traditional scholastic and classical emphasis. By contrast, the Jesuit colleges, bastions of academic conservatism, were reluctant to move to a system of electives. Their graduates were shut out of Harvard Law School for that reason. Notre Dame continued to grow over the years, adding more colleges, programs, and sports teams. By 1921, with the addition of the College of Commerce, Notre Dame had grown from a small college to a university with five colleges and a professional law school. The university continued to expand and add new residence halls and buildings with each subsequent president.\", 'qas': [{'answers': [{'answer_start': 244, 'text': 'scholastic and classical'}], 'question': 'What type of education was pushed at Notre Dame before its embracing of national standards?', 'id': '57338724d058e614000b5c9f'}, {'answers': [{'answer_start': 595, 'text': 'College of Commerce'}], 'question': 'Which college did Notre Dame add in 1921?', 'id': '57338724d058e614000b5ca1'}, {'answers': [{'answer_start': 8, 'text': 'Father James Burns'}], 'question': 'In 1919 a new president of Notre Dame was named, who was it?', 'id': '57338724d058e614000b5c9d'}, {'answers': [{'answer_start': 66, 'text': 'three years'}], 'question': 'Over how many years did the change to national standards undertaken at Notre Dame in the early 20th century take place?', 'id': '57338724d058e614000b5c9e'}, {'answers': [{'answer_start': 430, 'text': 'Harvard Law School'}], 'question': 'Those who attended a Jesuit college may have been forbidden from joining which Law School due to the curricula at the Jesuit institution?', 'id': '57338724d058e614000b5ca0'}]}, {'context': 'One of the main driving forces in the growth of the University was its football team, the Notre Dame Fighting Irish. Knute Rockne became head coach in 1918. Under Rockne, the Irish would post a record of 105 wins, 12 losses, and five ties. During his 13 years the Irish won three national championships, had five undefeated seasons, won the Rose Bowl in 1925, and produced players such as George Gipp and the \"Four Horsemen\". Knute Rockne has the highest winning percentage (.881) in NCAA Division I/FBS football history. Rockne\\'s offenses employed the Notre Dame Box and his defenses ran a 7–2–2 scheme. The last game Rockne coached was on December 14, 1930 when he led a group of Notre Dame all-stars against the New York Giants in New York City.', 'qas': [{'answers': [{'answer_start': 117, 'text': 'Knute Rockne'}], 'question': 'The Notre Dame football team got a new head coach in 1918, who was it?', 'id': '573387acd058e614000b5cb1'}, {'answers': [{'answer_start': 204, 'text': '105'}], 'question': 'What was the amount of wins Knute Rockne attained at Notre Dame while head coach?', 'id': '573387acd058e614000b5cb2'}, {'answers': [{'answer_start': 354, 'text': '1925'}], 'question': 'In what year did the team lead by Knute Rockne win the Rose Bowl?', 'id': '573387acd058e614000b5cb5'}, {'answers': [{'answer_start': 251, 'text': '13'}], 'question': 'How many years was Knute Rockne head coach at Notre Dame?', 'id': '573387acd058e614000b5cb3'}, {'answers': [{'answer_start': 274, 'text': 'three'}], 'question': 'How many national titles were won when Knute Rockne coached at Notre Dame?', 'id': '573387acd058e614000b5cb4'}]}, {'context': \"The success of its football team made Notre Dame a household name. The success of Note Dame reflected rising status of Irish Americans and Catholics in the 1920s. Catholics rallied up around the team and listen to the games on the radio, especially when it knocked off the schools that symbolized the Protestant establishment in America — Harvard, Yale, Princeton, and Army. Yet this role as high-profile flagship institution of Catholicism made it an easy target of anti-Catholicism. The most remarkable episode of violence was the clash between Notre Dame students and the Ku Klux Klan in 1924. Nativism and anti-Catholicism, especially when directed towards immigrants, were cornerstones of the KKK's rhetoric, and Notre Dame was seen as a symbol of the threat posed by the Catholic Church. The Klan decided to have a week-long Klavern in South Bend. Clashes with the student body started on March 17, when students, aware of the anti-Catholic animosity, blocked the Klansmen from descending from their trains in the South Bend station and ripped the KKK clothes and regalia. On May 19 thousands of students massed downtown protesting the Klavern, and only the arrival of college president Fr. Matthew Walsh prevented any further clashes. The next day, football coach Knute Rockne spoke at a campus rally and implored the students to obey the college president and refrain from further violence. A few days later the Klavern broke up, but the hostility shown by the students was an omen and a contribution to the downfall of the KKK in Indiana.\", 'qas': [{'answers': [{'answer_start': 297, 'text': 'the Protestant establishment'}], 'question': 'Catholic people identified with Notre Dame, what religious group did people feel Yale represented?', 'id': '573388ce4776f41900660cc3'}, {'answers': [{'answer_start': 571, 'text': 'the Ku Klux Klan'}], 'question': 'Notre Dame students had a showdown in 1924 with which anti-catholic group?', 'id': '573388ce4776f41900660cc4'}, {'answers': [{'answer_start': 1193, 'text': 'Fr. Matthew Walsh'}], 'question': 'Which college president of Notre Dame is credited with preventing more confrontations between students and the KKK?', 'id': '573388ce4776f41900660cc7'}, {'answers': [{'answer_start': 819, 'text': 'a week-long Klavern'}], 'question': 'What type of event did the Klan intend to have at Notre Dame in March of 1924?', 'id': '573388ce4776f41900660cc5'}, {'answers': [{'answer_start': 842, 'text': 'South Bend'}], 'question': 'Where did Notre Dame students and the KKK have their encounter?', 'id': '573388ce4776f41900660cc6'}]}, {'context': 'Holy Cross Father John Francis O\\'Hara was elected vice-president in 1933 and president of Notre Dame in 1934. During his tenure at Notre Dame, he brought numerous refugee intellectuals to campus; he selected Frank H. Spearman, Jeremiah D. M. Ford, Irvin Abell, and Josephine Brownson for the Laetare Medal, instituted in 1883. O\\'Hara strongly believed that the Fighting Irish football team could be an effective means to \"acquaint the public with the ideals that dominate\" Notre Dame. He wrote, \"Notre Dame football is a spiritual service because it is played for the honor and glory of God and of his Blessed Mother. When St. Paul said: \\'Whether you eat or drink, or whatsoever else you do, do all for the glory of God,\\' he included football.\"', 'qas': [{'answers': [{'answer_start': 11, 'text': \"Father John Francis O'Hara\"}], 'question': 'Which person became vice-president of Notre Dame in 1933?', 'id': '57338a51d058e614000b5cf0'}, {'answers': [{'answer_start': 11, 'text': \"Father John Francis O'Hara\"}], 'question': 'Who was the president of Notre Dame in 1934?', 'id': '57338a51d058e614000b5cf1'}, {'answers': [{'answer_start': 292, 'text': 'Laetare Medal'}], 'question': 'Irvin Abell was given what award by Notre Dame?', 'id': '57338a51d058e614000b5cf2'}, {'answers': [{'answer_start': 321, 'text': '1883'}], 'question': 'Which year was the Laetare Medal first given out at Notre Dame?', 'id': '57338a51d058e614000b5cf3'}, {'answers': [{'answer_start': 587, 'text': 'God'}], 'question': \"For whos glory did Father O'Hara believed that the Notre Dame football team played?\", 'id': '57338a51d058e614000b5cf4'}]}, {'context': \"The Rev. John J. Cavanaugh, C.S.C. served as president from 1946 to 1952. Cavanaugh's legacy at Notre Dame in the post-war years was devoted to raising academic standards and reshaping the university administration to suit it to an enlarged educational mission and an expanded student body and stressing advanced studies and research at a time when Notre Dame quadrupled in student census, undergraduate enrollment increased by more than half, and graduate student enrollment grew fivefold. Cavanaugh also established the Lobund Institute for Animal Studies and Notre Dame's Medieval Institute. Cavanaugh also presided over the construction of the Nieuwland Science Hall, Fisher Hall, and the Morris Inn, as well as the Hall of Liberal Arts (now O'Shaughnessy Hall), made possible by a donation from I.A. O'Shaughnessy, at the time the largest ever made to an American Catholic university. Cavanaugh also established a system of advisory councils at the university, which continue today and are vital to the university's governance and development\", 'qas': [{'answers': [{'answer_start': 428, 'text': 'more than half'}], 'question': 'Around the time that Rev. Cavanaugh became president of Notre Dame by how much did the undergrad student body of Notre Dame increase?', 'id': '5733926d4776f41900660d8e'}, {'answers': [{'answer_start': 522, 'text': 'Lobund Institute for Animal Studies'}], 'question': 'Which institute involving animal life did Cavanaugh create at Notre Dame?', 'id': '5733926d4776f41900660d8f'}, {'answers': [{'answer_start': 720, 'text': 'Hall of Liberal Arts'}], 'question': \"What is O'Shaughnessy Hall of Notre Dame formerly known as?\", 'id': '5733926d4776f41900660d91'}, {'answers': [{'answer_start': 4, 'text': 'Rev. John J. Cavanaugh, C.S.C.'}], 'question': 'Which president did Notre Dame have in 1947?', 'id': '5733926d4776f41900660d8d'}, {'answers': [{'answer_start': 575, 'text': 'Medieval Institute'}], 'question': 'Outside of an institute studying animals, what other institute did Cavanugh create at Notre Dame?', 'id': '5733926d4776f41900660d90'}]}, {'context': 'The Rev. Theodore Hesburgh, C.S.C., (1917–2015) served as president for 35 years (1952–87) of dramatic transformations. In that time the annual operating budget rose by a factor of 18 from $9.7 million to $176.6 million, and the endowment by a factor of 40 from $9 million to $350 million, and research funding by a factor of 20 from $735,000 to $15 million. Enrollment nearly doubled from 4,979 to 9,600, faculty more than doubled 389 to 950, and degrees awarded annually doubled from 1,212 to 2,500.', 'qas': [{'answers': [{'answer_start': 37, 'text': '1917–2015'}], 'question': 'What was the lifespan of Theodore Hesburgh?', 'id': '573393184776f41900660da6'}, {'answers': [{'answer_start': 181, 'text': '18'}], 'question': 'In the time that Hesburgh was president of Notre Dame by what factor did the operating budget increase?', 'id': '573393184776f41900660da8'}, {'answers': [{'answer_start': 262, 'text': '$9 million'}], 'question': 'What was the size of the Notre Dame endowment when Theodore Hesburgh became president?', 'id': '573393184776f41900660da9'}, {'answers': [{'answer_start': 82, 'text': '1952–87'}], 'question': 'During what years was Theodor Hesburgh president of Notre Dame?', 'id': '573393184776f41900660da7'}, {'answers': [{'answer_start': 439, 'text': '950'}], 'question': 'How many faculty members were at Notre Dame when Hesburgh left the role of president?', 'id': '573393184776f41900660daa'}]}, {'context': 'Hesburgh is also credited with transforming the face of Notre Dame by making it a coeducational institution. In the mid-1960s Notre Dame and Saint Mary\\'s College developed a co-exchange program whereby several hundred students took classes not offered at their home institution, an arrangement that added undergraduate women to a campus that already had a few women in the graduate schools. After extensive debate, merging with St. Mary\\'s was rejected, primarily because of the differential in faculty qualifications and pay scales. \"In American college education,\" explained the Rev. Charles E. Sheedy, C.S.C., Notre Dame\\'s Dean of Arts and Letters, \"certain features formerly considered advantageous and enviable are now seen as anachronistic and out of place.... In this environment of diversity, the integration of the sexes is a normal and expected aspect, replacing separatism.\" Thomas Blantz, C.S.C., Notre Dame\\'s Vice President of Student Affairs, added that coeducation \"opened up a whole other pool of very bright students.\" Two of the male residence halls were converted for the newly admitted female students that first year, while two others were converted for the next school year. In 1971 Mary Ann Proctor became the first female undergraduate; she transferred from St. Mary\\'s College. In 1972 the first woman to graduate was Angela Sienko, who earned a bachelor\\'s degree in marketing.', 'qas': [{'answers': [{'answer_start': 82, 'text': 'coeducational'}], 'question': 'What type of educational institute is Hesburgh given credit for creating at Notre Dame?', 'id': '573393e1d058e614000b5dc2'}, {'answers': [{'answer_start': 625, 'text': 'Dean of Arts and Letters'}], 'question': 'Which role did Charles Sheedy have at Notre Dame?', 'id': '573393e1d058e614000b5dc4'}, {'answers': [{'answer_start': 921, 'text': 'Vice President of Student Affairs'}], 'question': 'What title did Thomas Blantz have at Notre Dame?', 'id': '573393e1d058e614000b5dc5'}, {'answers': [{'answer_start': 1199, 'text': '1971'}], 'question': 'In what year did Notre Dame have its earliest undergraduate that was female?', 'id': '573393e1d058e614000b5dc6'}, {'answers': [{'answer_start': 141, 'text': \"Saint Mary's College\"}], 'question': 'With what institute did Notre Dame agree to an exchange program in the 1960s?', 'id': '573393e1d058e614000b5dc3'}]}, {'context': \"In the 18 years under the presidency of Edward Malloy, C.S.C., (1987–2005), there was a rapid growth in the school's reputation, faculty, and resources. He increased the faculty by more than 500 professors; the academic quality of the student body has improved dramatically, with the average SAT score rising from 1240 to 1360; the number of minority students more than doubled; the endowment grew from $350 million to more than $3 billion; the annual operating budget rose from $177 million to more than $650 million; and annual research funding improved from $15 million to more than $70 million. Notre Dame's most recent[when?] capital campaign raised $1.1 billion, far exceeding its goal of $767 million, and is the largest in the history of Catholic higher education.\", 'qas': [{'answers': [{'answer_start': 64, 'text': '1987–2005'}], 'question': 'During what years was Edward Malloy president of Notre Dame?', 'id': '573394c84776f41900660ddd'}, {'answers': [{'answer_start': 314, 'text': '1240'}], 'question': 'What was the SAT score, on average, at Notre Dame when Edward Malloy became president?', 'id': '573394c84776f41900660ddf'}, {'answers': [{'answer_start': 403, 'text': '$350 million'}], 'question': 'When Malloy became president of Notre Dame what was the size of the endowment?', 'id': '573394c84776f41900660de0'}, {'answers': [{'answer_start': 576, 'text': 'more than $70 million'}], 'question': 'When Malloy reached the end of his time as president how much annuals funding for research did Notre Dame have?', 'id': '573394c84776f41900660de1'}, {'answers': [{'answer_start': 191, 'text': '500'}], 'question': 'The amount of professors at Notre Dame increased by what amount under Malloy?', 'id': '573394c84776f41900660dde'}]}, {'context': 'Since 2005, Notre Dame has been led by John I. Jenkins, C.S.C., the 17th president of the university. Jenkins took over the position from Malloy on July 1, 2005. In his inaugural address, Jenkins described his goals of making the university a leader in research that recognizes ethics and building the connection between faith and studies. During his tenure, Notre Dame has increased its endowment, enlarged its student body, and undergone many construction projects on campus, including Compton Family Ice Arena, a new architecture hall, additional residence halls, and the Campus Crossroads, a $400m enhancement and expansion of Notre Dame Stadium.', 'qas': [{'answers': [{'answer_start': 6, 'text': '2005'}], 'question': 'When did John Jenkins become the president of Notre Dame?', 'id': '5733974d4776f41900660e17'}, {'answers': [{'answer_start': 68, 'text': '17th'}], 'question': 'In terms of the amount of presidents Notre Dame has had, where is John Jenkins on the list?', 'id': '5733974d4776f41900660e18'}, {'answers': [{'answer_start': 138, 'text': 'Malloy'}], 'question': 'Who was the Notre Dame president that preceded John Jenkins?', 'id': '5733974d4776f41900660e19'}, {'answers': [{'answer_start': 488, 'text': 'Compton Family Ice Arena'}], 'question': 'Which arena was constructed under Jenkins at Notre Dame?', 'id': '5733974d4776f41900660e1a'}, {'answers': [{'answer_start': 596, 'text': '$400m'}], 'question': 'How much money was spent on enhancing Notre Dame Stadium under John Jenkins?', 'id': '5733974d4776f41900660e1b'}]}, {'context': \"Because of its Catholic identity, a number of religious buildings stand on campus. The Old College building has become one of two seminaries on campus run by the Congregation of Holy Cross. The current Basilica of the Sacred Heart is located on the spot of Fr. Sorin's original church, which became too small for the growing college. It is built in French Revival style and it is decorated by stained glass windows imported directly from France. The interior was painted by Luigi Gregori, an Italian painter invited by Fr. Sorin to be artist in residence. The Basilica also features a bell tower with a carillon. Inside the church there are also sculptures by Ivan Mestrovic. The Grotto of Our Lady of Lourdes, which was built in 1896, is a replica of the original in Lourdes, France. It is very popular among students and alumni as a place of prayer and meditation, and it is considered one of the most beloved spots on campus.\", 'qas': [{'answers': [{'answer_start': 162, 'text': 'Congregation of Holy Cross'}], 'question': 'Which congregation is in charge of the Old College at Notre Dame?', 'id': '573398164776f41900660e21'}, {'answers': [{'answer_start': 202, 'text': 'Basilica of the Sacred Heart'}], 'question': 'What structure is found on the location of the original church of Father Sorin at Notre Dame?', 'id': '573398164776f41900660e22'}, {'answers': [{'answer_start': 349, 'text': 'French Revival'}], 'question': 'In which architectural style is the Basilica of the Sacred Heart at Notre Dame made?', 'id': '573398164776f41900660e23'}, {'answers': [{'answer_start': 474, 'text': 'Luigi Gregori'}], 'question': 'Which individual painted the inside of the Basilica of the Sacred Heart at Notre Dame?', 'id': '573398164776f41900660e24'}, {'answers': [{'answer_start': 730, 'text': '1896'}], 'question': 'In what year was the Grotto of Our Lady of Lourdes at Notre Dame constructed?', 'id': '573398164776f41900660e25'}]}, {'context': 'A Science Hall was built in 1883 under the direction of Fr. Zahm, but in 1950 it was converted to a student union building and named LaFortune Center, after Joseph LaFortune, an oil executive from Tulsa, Oklahoma. Commonly known as \"LaFortune\" or \"LaFun,\" it is a 4-story building of 83,000 square feet that provides the Notre Dame community with a meeting place for social, recreational, cultural, and educational activities. LaFortune employs 35 part-time student staff and 29 full-time non-student staff and has an annual budget of $1.2 million. Many businesses, services, and divisions of The Office of Student Affairs are found within. The building also houses restaurants from national restaurant chains.', 'qas': [{'answers': [{'answer_start': 56, 'text': 'Fr. Zahm'}], 'question': 'Which person oversaw the creation of a science hall at Notre Dame in 1883?', 'id': '573398ebd058e614000b5e66'}, {'answers': [{'answer_start': 73, 'text': '1950'}], 'question': 'In what year did the student union building at Notre Dame get renamed to LaFortune Center?', 'id': '573398ebd058e614000b5e67'}, {'answers': [{'answer_start': 157, 'text': 'Joseph LaFortune'}], 'question': 'After which individual was the LaFortune Center Notre Dame named?', 'id': '573398ebd058e614000b5e68'}, {'answers': [{'answer_start': 284, 'text': '83,000 square feet'}], 'question': 'How large in square feet is the LaFortune Center at Notre Dame?', 'id': '573398ebd058e614000b5e69'}, {'answers': [{'answer_start': 535, 'text': '$1.2 million'}], 'question': \"What is the annual budget of Notre Dame's LaFortune Center?\", 'id': '573398ebd058e614000b5e6a'}]}, {'context': \"Since the construction of its oldest buildings, the university's physical plant has grown substantially. Over the years 29 residence halls have been built to accommodate students and each has been constructed with its own chapel. Many academic building were added together with a system of libraries, the most prominent of which is the Theodore Hesburgh Library, built in 1963 and today containing almost 4 million books. Since 2004, several buildings have been added, including the DeBartolo Performing Arts Center, the Guglielmino Complex, and the Jordan Hall of Science. Additionally, a new residence for men, Duncan Hall, was begun on March 8, 2007, and began accepting residents for the Fall 2008 semester. Ryan Hall was completed and began housing undergraduate women in the fall of 2009. A new engineering building, Stinson-Remick Hall, a new combination Center for Social Concerns/Institute for Church Life building, Geddes Hall, and a law school addition have recently been completed as well. Additionally the new hockey arena opened in the fall of 2011. The Stayer Center for Executive Education, which houses the Mendoza College of Business Executive Education Department opened in March 2013 just South of the Mendoza College of Business building. Because of its long athletic tradition, the university features also many building dedicated to sport. The most famous is Notre Dame Stadium, home of the Fighting Irish football team; it has been renovated several times and today it can hold more than 80 thousand people. Prominent venues include also the Edmund P. Joyce Center, with indoor basketball and volleyball courts, and the Compton Family Ice Arena, a two-rink facility dedicated to hockey. Also, there are many outdoor fields, as the Frank Eck Stadium for baseball.\", 'qas': [{'answers': [{'answer_start': 120, 'text': '29'}], 'question': 'How many halls are at Notre Dame that house students?', 'id': '57339a5bd058e614000b5e91'}, {'answers': [{'answer_start': 336, 'text': 'Theodore Hesburgh Library'}], 'question': 'Which library was built at Notre Dame in 1963?', 'id': '57339a5bd058e614000b5e92'}, {'answers': [{'answer_start': 398, 'text': 'almost 4 million'}], 'question': 'How many books are housed at the Theodore Hesburgh Library?', 'id': '57339a5bd058e614000b5e93'}, {'answers': [{'answer_start': 613, 'text': 'Duncan Hall'}], 'question': 'Construction for which hall started on March 8th 2007 at Notre Dame?', 'id': '57339a5bd058e614000b5e94'}, {'answers': [{'answer_start': 1755, 'text': 'Frank Eck Stadium'}], 'question': 'Which baseball stadium is found at Notre Dame?', 'id': '57339a5bd058e614000b5e95'}]}, {'context': 'The University of Notre Dame has made being a sustainability leader an integral part of its mission, creating the Office of Sustainability in 2008 to achieve a number of goals in the areas of power generation, design and construction, waste reduction, procurement, food services, transportation, and water.As of 2012[update] four building construction projects were pursuing LEED-Certified status and three were pursuing LEED Silver. Notre Dame\\'s dining services sources 40% of its food locally and offers sustainably caught seafood as well as many organic, fair-trade, and vegan options. On the Sustainable Endowments Institute\\'s College Sustainability Report Card 2010, University of Notre Dame received a \"B\" grade. The university also houses the Kroc Institute for International Peace Studies. Father Gustavo Gutierrez, the founder of Liberation Theology is a current faculty member.', 'qas': [{'answers': [{'answer_start': 142, 'text': '2008'}], 'question': 'In what year did Notre Dame create the Office of Sustainability?', 'id': '57339b36d058e614000b5ea3'}, {'answers': [{'answer_start': 471, 'text': '40%'}], 'question': 'What percentage of the food served at Notre Dame is locally grown?', 'id': '57339b36d058e614000b5ea4'}, {'answers': [{'answer_start': 596, 'text': 'Sustainable Endowments Institute'}], 'question': 'Notre Dame got a \"B\" for its sustainability practices from which entity?', 'id': '57339b36d058e614000b5ea5'}, {'answers': [{'answer_start': 750, 'text': 'Kroc Institute for International Peace Studies'}], 'question': 'Gustavo Gutierrez is faculty of which institute?', 'id': '57339b36d058e614000b5ea6'}]}, {'context': 'The university owns several centers around the world used for international studies and research, conferences abroad, and alumni support. The university has had a presence in London, England, since 1968. Since 1998, its London center has been based in the former United University Club at 1 Suffolk Street in Trafalgar Square. The center enables the Colleges of Arts & Letters, Business Administration, Science, Engineering and the Law School to develop their own programs in London, as well as hosting conferences and symposia. Other Global Gateways are located in Beijing, Chicago, Dublin, Jerusalem and Rome.', 'qas': [{'answers': [{'answer_start': 198, 'text': '1968'}], 'question': 'In what year did Notre Dame first have a facility in England?', 'id': '57339c184776f41900660ea5'}, {'answers': [{'answer_start': 289, 'text': '1 Suffolk Street in Trafalgar Square'}], 'question': 'At which location is the London Center operated by Notre Dame found?', 'id': '57339c184776f41900660ea6'}, {'answers': [{'answer_start': 535, 'text': 'Global Gateways'}], 'question': 'Notre Dame has a center in Beijing, what is it referred to as?', 'id': '57339c184776f41900660ea7'}, {'answers': [{'answer_start': 210, 'text': '1998'}], 'question': 'In what year did the Suffolk Street location start to house a Notre Dame facility?', 'id': '57339c184776f41900660ea8'}]}, {'context': \"The College of Arts and Letters was established as the university's first college in 1842 with the first degrees given in 1849. The university's first academic curriculum was modeled after the Jesuit Ratio Studiorum from Saint Louis University. Today the college, housed in O'Shaughnessy Hall, includes 20 departments in the areas of fine arts, humanities, and social sciences, and awards Bachelor of Arts (B.A.) degrees in 33 majors, making it the largest of the university's colleges. There are around 2,500 undergraduates and 750 graduates enrolled in the college.\", 'qas': [{'answers': [{'answer_start': 0, 'text': 'The College of Arts and Letters'}], 'question': \"What was Notre Dame's first college?\", 'id': '5733a3cbd058e614000b5f3f'}, {'answers': [{'answer_start': 85, 'text': '1842'}], 'question': 'In what year was the The College of Arts and Letters at Notre Dame created?', 'id': '5733a3cbd058e614000b5f40'}, {'answers': [{'answer_start': 122, 'text': '1849'}], 'question': 'In what year did the College of Arts and Letters at Notre Dame grant its first degree?', 'id': '5733a3cbd058e614000b5f41'}, {'answers': [{'answer_start': 221, 'text': 'Saint Louis University'}], 'question': 'On which university did Notre Dame base its curriculum on?', 'id': '5733a3cbd058e614000b5f42'}, {'answers': [{'answer_start': 424, 'text': '33'}], 'question': 'How many BA majors does the College of Arts and Letters at Notre Dame offer?', 'id': '5733a3cbd058e614000b5f43'}]}, {'context': \"The College of Science was established at the university in 1865 by president Father Patrick Dillon. Dillon's scientific courses were six years of work, including higher-level mathematics courses. Today the college, housed in the newly built Jordan Hall of Science, includes over 1,200 undergraduates in six departments of study – biology, chemistry, mathematics, physics, pre-professional studies, and applied and computational mathematics and statistics (ACMS) – each awarding Bachelor of Science (B.S.) degrees. According to university statistics, its science pre-professional program has one of the highest acceptance rates to medical school of any university in the United States.\", 'qas': [{'answers': [{'answer_start': 78, 'text': 'Father Patrick Dillon'}], 'question': 'Which president at Notre Dame created the College of Science?', 'id': '5733a4c54776f41900660f2d'}, {'answers': [{'answer_start': 60, 'text': '1865'}], 'question': 'In what year was the Notre Dame College of Science formed?', 'id': '5733a4c54776f41900660f2e'}, {'answers': [{'answer_start': 134, 'text': 'six years'}], 'question': 'How many years long was a scientific course under Patrick Dillon at Notre Dame?', 'id': '5733a4c54776f41900660f2f'}, {'answers': [{'answer_start': 242, 'text': 'Jordan Hall of Science'}], 'question': 'Which hall at Notre Dame contains the current College of Science?', 'id': '5733a4c54776f41900660f30'}, {'answers': [{'answer_start': 275, 'text': 'over 1,200'}], 'question': 'How many undergrad students attend the College of Science at Notre Dame today?', 'id': '5733a4c54776f41900660f31'}]}, {'context': 'The School of Architecture was established in 1899, although degrees in architecture were first awarded by the university in 1898. Today the school, housed in Bond Hall, offers a five-year undergraduate program leading to the Bachelor of Architecture degree. All undergraduate students study the third year of the program in Rome. The university is globally recognized for its Notre Dame School of Architecture, a faculty that teaches (pre-modernist) traditional and classical architecture and urban planning (e.g. following the principles of New Urbanism and New Classical Architecture). It also awards the renowned annual Driehaus Architecture Prize.', 'qas': [{'answers': [{'answer_start': 4, 'text': 'School of Architecture'}], 'question': 'In 1899 Notre Dame formed which college?', 'id': '5733a55a4776f41900660f3a'}, {'answers': [{'answer_start': 159, 'text': 'Bond Hall'}], 'question': 'In what building is the current School of Architecture housed at Notre Dame?', 'id': '5733a55a4776f41900660f3b'}, {'answers': [{'answer_start': 179, 'text': 'five-year'}], 'question': 'What length is the course of study at the Notre Dame School of Architecture?', 'id': '5733a55a4776f41900660f3c'}, {'answers': [{'answer_start': 325, 'text': 'Rome'}], 'question': 'In which location do students of the School of Architecture of Notre Dame spend their 3rd year?', 'id': '5733a55a4776f41900660f3d'}, {'answers': [{'answer_start': 624, 'text': 'Driehaus Architecture Prize'}], 'question': 'Which prestigious prize does the School of Architecture at Notre Dame give out?', 'id': '5733a55a4776f41900660f3e'}]}, {'context': \"The library system also includes branch libraries for Architecture, Chemistry & Physics, Engineering, Law, and Mathematics as well as information centers in the Mendoza College of Business, the Kellogg Institute for International Studies, the Joan B. Kroc Institute for International Peace Studies, and a slide library in O'Shaughnessy Hall. A theology library was also opened in fall of 2015. Located on the first floor of Stanford Hall, it is the first branch of the library system to be housed in a dorm room. The library system holds over three million volumes, was the single largest university library in the world upon its completion, and remains one of the 100 largest libraries in the country.\", 'qas': [{'answers': [{'answer_start': 388, 'text': '2015'}], 'question': 'In what year did the opening of a theology library at Notre Dame occur?', 'id': '5733adb64776f41900661001'}, {'answers': [{'answer_start': 405, 'text': 'the first floor of Stanford Hall'}], 'question': 'Where is the theology library at Notre Dame?', 'id': '5733adb64776f41900661002'}, {'answers': [{'answer_start': 538, 'text': 'over three million volumes'}], 'question': 'How many books are held by the Notre Dame libraries?', 'id': '5733adb64776f41900661003'}, {'answers': [{'answer_start': 654, 'text': 'one of the 100 largest'}], 'question': \"Currently where does Notre Dame's library rank in the nation?\", 'id': '5733adb64776f41900661004'}]}, {'context': \"The rise of Hitler and other dictators in the 1930s forced numerous Catholic intellectuals to flee Europe; president John O'Hara brought many to Notre Dame. From Germany came Anton-Hermann Chroust (1907–1982) in classics and law, and Waldemar Gurian a German Catholic intellectual of Jewish descent. Positivism dominated American intellectual life in the 1920s onward but in marked contrast, Gurian received a German Catholic education and wrote his doctoral dissertation under Max Scheler. Ivan Meštrović (1883–1962), a renowned sculptor, brought Croatian culture to campus, 1955–62. Yves Simon (1903–61), brought to ND in the 1940s the insights of French studies in the Aristotelian-Thomistic tradition of philosophy; his own teacher Jacques Maritain (1882–73) was a frequent visitor to campus.\", 'qas': [{'answers': [{'answer_start': 0, 'text': 'The rise of Hitler and other dictators'}], 'question': 'What caused many intellectual Catholics to leave europe in the 1930s?', 'id': '5733b496d058e614000b60ce'}, {'answers': [{'answer_start': 162, 'text': 'Germany'}], 'question': 'From where did Anton-Hermann Chroust come to reach Notre Dame?', 'id': '5733b496d058e614000b60cf'}, {'answers': [{'answer_start': 212, 'text': 'classics and law'}], 'question': 'What field of study did Anton-Hermann Chroust specialize in?', 'id': '5733b496d058e614000b60d0'}, {'answers': [{'answer_start': 478, 'text': 'Max Scheler'}], 'question': 'Who did Waldemar Gurian receive his tutelage under while seeking his doctorate?', 'id': '5733b496d058e614000b60d1'}, {'answers': [{'answer_start': 519, 'text': 'a renowned sculptor'}], 'question': 'What was Ivan Meštrović known for being?', 'id': '5733b496d058e614000b60d2'}]}, {'context': 'The University of Notre Dame du Lac (or simply Notre Dame /ˌnoʊtərˈdeɪm/ NOH-tər-DAYM) is a Catholic research university located adjacent to South Bend, Indiana, in the United States. In French, Notre Dame du Lac means \"Our Lady of the Lake\" and refers to the university\\'s patron saint, the Virgin Mary. The main campus covers 1,250 acres in a suburban setting and it contains a number of recognizable landmarks, such as the Golden Dome, the \"Word of Life\" mural (commonly known as Touchdown Jesus), and the Basilica.', 'qas': [{'answers': [{'answer_start': 4, 'text': 'University of Notre Dame du'}], 'question': 'The school known as Notre Dame is known by a more lengthy name, what is it?', 'id': '573382a14776f41900660c2d'}, {'answers': [{'answer_start': 92, 'text': 'Catholic research university'}], 'question': 'What type of institution is the Notre Dame?', 'id': '573382a14776f41900660c2e'}, {'answers': [{'answer_start': 220, 'text': 'Our Lady of the Lake'}], 'question': 'The French words Notre Dame du Lac translate to what in English?', 'id': '573382a14776f41900660c2f'}, {'answers': [{'answer_start': 287, 'text': 'the Virgin Mary'}], 'question': 'Who is the patron saint of Notre Dame?', 'id': '573382a14776f41900660c30'}, {'answers': [{'answer_start': 327, 'text': '1,250'}], 'question': 'How large is Notre Dame in acres?', 'id': '573382a14776f41900660c31'}]}, {'context': \"Notre Dame rose to national prominence in the early 1900s for its Fighting Irish football team, especially under the guidance of the legendary coach Knute Rockne. The university's athletic teams are members of the NCAA Division I and are known collectively as the Fighting Irish. The football team, an Independent, has accumulated eleven consensus national championships, seven Heisman Trophy winners, 62 members in the College Football Hall of Fame and 13 members in the Pro Football Hall of Fame and is considered one of the most famed and successful college football teams in history. Other ND teams, chiefly in the Atlantic Coast Conference, have accumulated 16 national championships. The Notre Dame Victory March is often regarded as the most famous and recognizable collegiate fight song.\", 'qas': [{'answers': [{'answer_start': 62, 'text': 'its Fighting Irish football team'}], 'question': 'What caused Notre Dame to become notable in the early 20th century?', 'id': '573383494776f41900660c41'}, {'answers': [{'answer_start': 149, 'text': 'Knute Rockne'}], 'question': 'Which 20th century Notre Dame football coach is most notable?', 'id': '573383494776f41900660c42'}, {'answers': [{'answer_start': 214, 'text': 'NCAA Division I'}], 'question': 'Which athletic association are the student athletes at Notre Dame a part of?', 'id': '573383494776f41900660c43'}, {'answers': [{'answer_start': 372, 'text': 'seven'}], 'question': 'How many students at Notre Dame received the Heisman Trophy?', 'id': '573383494776f41900660c44'}, {'answers': [{'answer_start': 454, 'text': '13'}], 'question': 'There were multiple students from Notre Dame who entered the Pro Football Hall of Fame, how many?', 'id': '573383494776f41900660c45'}]}, {'context': \"Besides its prominence in sports, Notre Dame is also a large, four-year, highly residential research University, and is consistently ranked among the top twenty universities in the United States  and as a major global university. The undergraduate component of the university is organized into four colleges (Arts and Letters, Science, Engineering, Business) and the Architecture School. The latter is known for teaching New Classical Architecture and for awarding the globally renowned annual Driehaus Architecture Prize. Notre Dame's graduate program has more than 50 master's, doctoral and professional degree programs offered by the five schools, with the addition of the Notre Dame Law School and a MD-PhD program offered in combination with IU medical School. It maintains a system of libraries, cultural venues, artistic and scientific museums, including Hesburgh Library and the Snite Museum of Art. Over 80% of the university's 8,000 undergraduates live on campus in one of 29 single-sex residence halls, each with its own traditions, legacies, events and intramural sports teams. The university counts approximately 120,000 alumni, considered among the strongest alumni networks among U.S. colleges.\", 'qas': [{'answers': [{'answer_start': 140, 'text': 'among the top twenty'}], 'question': 'Where among US universities does Notre Dame rank?', 'id': '573383e94776f41900660c5a'}, {'answers': [{'answer_start': 294, 'text': 'four'}], 'question': 'How many individual colleges are part of Notre Dame?', 'id': '573383e94776f41900660c5b'}, {'answers': [{'answer_start': 494, 'text': 'Driehaus Architecture Prize'}], 'question': 'Which prize does the Architecture School at Notre Dame give out?', 'id': '573383e94776f41900660c5c'}, {'answers': [{'answer_start': 557, 'text': 'more than 50'}], 'question': 'How many doctorate and masters programs are available at Notre Dame?', 'id': '573383e94776f41900660c5d'}, {'answers': [{'answer_start': 887, 'text': 'Snite Museum of Art'}], 'question': 'Which art museum does Notre Dame administer?', 'id': '573383e94776f41900660c5e'}]}, {'context': \"In 1842, the Bishop of Vincennes, Célestine Guynemer de la Hailandière, offered land to Father Edward Sorin of the Congregation of the Holy Cross, on the condition that he build a college in two years. Fr. Sorin arrived on the site with eight Holy Cross brothers from France and Ireland on November 26, 1842, and began the school using Father Stephen Badin's old log chapel. He soon erected additional buildings, including Old College, the first church, and the first main building. They immediately acquired two students and set about building additions to the campus.\", 'qas': [{'answers': [{'answer_start': 3, 'text': '1842'}], 'question': 'In what year was Father Edward Sorin given two years to create a college?', 'id': '5733849bd058e614000b5c56'}, {'answers': [{'answer_start': 34, 'text': 'Célestine Guynemer de la Hailandière'}], 'question': 'Which individual offered land to Father Edward Sorin?', 'id': '5733849bd058e614000b5c57'}, {'answers': [{'answer_start': 111, 'text': 'the Congregation of the Holy Cross'}], 'question': 'Which church was Father Edward Sorin representing?', 'id': '5733849bd058e614000b5c58'}, {'answers': [{'answer_start': 290, 'text': 'November 26, 1842'}], 'question': 'On what date did brothers from Holy Cross arrive at the future location of Notre Dame?', 'id': '5733849bd058e614000b5c59'}, {'answers': [{'answer_start': 336, 'text': \"Father Stephen Badin's old log chapel\"}], 'question': 'Which structure was the first used for the purposes of the college?', 'id': '5733849bd058e614000b5c5a'}]}, {'context': 'The first degrees from the college were awarded in 1849. The university was expanded with new buildings to accommodate more students and faculty. With each new president, new academic programs were offered and new buildings built to accommodate them. The original Main Building built by Sorin just after he arrived was replaced by a larger \"Main Building\" in 1865, which housed the university\\'s administration, classrooms, and dormitories. Beginning in 1873, a library collection was started by Father Lemonnier. By 1879 it had grown to ten thousand volumes that were housed in the Main Building.', 'qas': [{'answers': [{'answer_start': 51, 'text': '1849'}], 'question': 'In what year did the initial degrees get handed out at Notre Dame?', 'id': '573385394776f41900660c7f'}, {'answers': [{'answer_start': 359, 'text': '1865'}], 'question': 'In what year did the original Sorin built Main Building get replaced?', 'id': '573385394776f41900660c80'}, {'answers': [{'answer_start': 495, 'text': 'Father Lemonnier'}], 'question': 'Which individual began a library at Notre Dame?', 'id': '573385394776f41900660c81'}, {'answers': [{'answer_start': 516, 'text': '1879'}], 'question': 'In what year had the library at Notre Dame reach 10,000 books?', 'id': '573385394776f41900660c82'}, {'answers': [{'answer_start': 453, 'text': '1873'}], 'question': 'In what year was the library at Notre Dame started?', 'id': '573385394776f41900660c83'}]}, {'context': 'The television station, NDtv, grew from one show in 2002 to a full 24-hour channel with original programming by September 2006. WSND-FM serves the student body and larger South Bend community at 88.9 FM, offering students a chance to become involved in bringing classical music, fine arts and educational programming, and alternative rock to the airwaves. Another radio station, WVFI, began as a partner of WSND-FM. More recently, however, WVFI has been airing independently and is streamed on the Internet.', 'qas': [{'answers': [{'answer_start': 24, 'text': 'NDtv'}], 'question': 'Which television station finds its home at Notre Dame?', 'id': '5733c0064776f41900661198'}, {'answers': [{'answer_start': 40, 'text': 'one show'}], 'question': 'How many programs did NDtv feature in 2002?', 'id': '5733c0064776f41900661199'}, {'answers': [{'answer_start': 128, 'text': 'WSND-FM'}], 'question': 'Which radio station provides radio to the students of Notre Dame at 88.9 FM?', 'id': '5733c0064776f4190066119a'}, {'answers': [{'answer_start': 440, 'text': 'WVFI'}], 'question': 'Which internet radio station of Notre Dame is served as an internet stream?', 'id': '5733c0064776f4190066119b'}]}, {'context': 'The first phase of Eddy Street Commons, a $215 million development located adjacent to the University of Notre Dame campus and funded by the university, broke ground on June 3, 2008. The Eddy Street Commons drew union protests when workers hired by the City of South Bend to construct the public parking garage picketed the private work site after a contractor hired non-union workers. The developer, Kite Realty out of Indianapolis, has made agreements with major national chains rather than local businesses, a move that has led to criticism from alumni and students.', 'qas': [{'answers': [{'answer_start': 42, 'text': '$215 million'}], 'question': 'How much is Eddy Street Commons at Notre Dame expected to cost?', 'id': '5733c0e6d058e614000b61d7'}, {'answers': [{'answer_start': 169, 'text': 'June 3, 2008'}], 'question': 'When was ground broke on the Eddy Street Commons Project of Notre Dame?', 'id': '5733c0e6d058e614000b61d8'}, {'answers': [{'answer_start': 401, 'text': 'Kite Realty'}], 'question': 'Who is the developer of Eddy Street Commons?', 'id': '5733c0e6d058e614000b61d9'}, {'answers': [{'answer_start': 249, 'text': 'the City of South Bend'}], 'question': 'Which entity did Notre Dame hire to build a parking structure outside of Eddy Street Commons?', 'id': '5733c0e6d058e614000b61da'}, {'answers': [{'answer_start': 367, 'text': 'non-union workers'}], 'question': 'There were protested as a part of the construction at Eddy Street Commons, they came due tot he hiring of whom?', 'id': '5733c0e6d058e614000b61db'}]}, {'context': \"Notre Dame teams are known as the Fighting Irish. They compete as a member of the National Collegiate Athletic Association (NCAA) Division I, primarily competing in the Atlantic Coast Conference (ACC) for all sports since the 2013–14 school year. The Fighting Irish previously competed in the Horizon League from 1982-83 to 1985-86, and again from 1987-88 to 1994-95, and then in the Big East Conference through 2012–13. Men's sports include baseball, basketball, crew, cross country, fencing, football, golf, ice hockey, lacrosse, soccer, swimming & diving, tennis and track & field; while women's sports include basketball, cross country, fencing, golf, lacrosse, rowing, soccer, softball, swimming & diving, tennis, track & field and volleyball. The football team competes as an Football Bowl Subdivision (FBS) Independent since its inception in 1887. Both fencing teams compete in the Midwest Fencing Conference, and the men's ice hockey team competes in Hockey East.\", 'qas': [{'answers': [{'answer_start': 82, 'text': 'National Collegiate Athletic Association'}], 'question': 'What does the acronym NCAA stand for?', 'id': '5733c1a94776f419006611a6'}, {'answers': [{'answer_start': 293, 'text': 'Horizon League'}], 'question': 'Which league did Notre Dame Fighting Irish teams participate in in 1982?', 'id': '5733c1a94776f419006611a7'}, {'answers': [{'answer_start': 889, 'text': 'Midwest Fencing Conference'}], 'question': 'What when conference do the Notre Dame fencing teams take part in?', 'id': '5733c1a94776f419006611a8'}, {'answers': [{'answer_start': 959, 'text': 'Hockey East'}], 'question': 'There is a conference that the male hockey team of Notre Dame competes in, what is it?', 'id': '5733c1a94776f419006611a9'}, {'answers': [{'answer_start': 384, 'text': 'Big East Conference'}], 'question': 'In what conference did the Fighting Irish take part in in 2012?', 'id': '5733c1a94776f419006611aa'}]}, {'context': \"Notre Dame's conference affiliations for all of its sports except football and fencing changed in July 2013 as a result of major conference realignment, and its fencing affiliation will change in July 2014. The Irish left the Big East for the ACC during a prolonged period of instability in the Big East; while they maintain their football independence, they have committed to play five games per season against ACC opponents. In ice hockey, the Irish were forced to find a new conference home after the Big Ten Conference's decision to add the sport in 2013–14 led to a cascade of conference moves that culminated in the dissolution of the school's former hockey home, the Central Collegiate Hockey Association, after the 2012–13 season. Notre Dame moved its hockey team to Hockey East. After Notre Dame joined the ACC, the conference announced it would add fencing as a sponsored sport beginning in the 2014–15 school year. There are many theories behind the adoption of the athletics moniker but it is known that the Fighting Irish name was used in the early 1920s with respect to the football team and was popularized by alumnus Francis Wallace in his New York Daily News columns. The official colors of Notre Dame are Navy Blue and Gold Rush which are worn in competition by its athletic teams. In addition, the color green is often worn because of the Fighting Irish nickname. The Notre Dame Leprechaun is the mascot of the athletic teams. Created by Theodore W. Drake in 1964, the leprechaun was first used on the football pocket schedule and later on the football program covers. The leprechaun was featured on the cover of Time in November 1964 and gained national exposure.\", 'qas': [{'answers': [{'answer_start': 239, 'text': 'the ACC'}], 'question': 'To what conference did the Fighting Irish go after the Big East?', 'id': '5733c29c4776f419006611b8'}, {'answers': [{'answer_start': 382, 'text': 'five'}], 'question': 'How many teams in each season do the Fighting Irish commit to play against ACC opponents?', 'id': '5733c29c4776f419006611b9'}, {'answers': [{'answer_start': 674, 'text': 'Central Collegiate Hockey Association'}], 'question': 'Where did the Fighting Irish hockey team compete prior to a move to Hockey East, in terms of conference?', 'id': '5733c29c4776f419006611ba'}, {'answers': [{'answer_start': 1223, 'text': 'Navy Blue and Gold Rush'}], 'question': 'What colors are the official ones used by Notre Dame in sport competition?', 'id': '5733c29c4776f419006611bb'}, {'answers': [{'answer_start': 1398, 'text': 'Leprechaun'}], 'question': 'What type of mascot do the Notre Dame sport teams have?', 'id': '5733c29c4776f419006611bc'}]}, {'context': 'On July 1, 2014, the University of Notre Dame and Under Armour reached an agreement in which Under Armour will provide uniforms, apparel,equipment, and monetary compensation to Notre Dame for 10 years. This contract, worth almost $100 million, is the most lucrative in the history of the NCAA. The university marching band plays at home games for most of the sports. The band, which began in 1846 and has a claim as the oldest university band in continuous existence in the United States, was honored by the National Music Council as a \"Landmark of American Music\" during the United States Bicentennial. The band regularly plays the school\\'s fight song the Notre Dame Victory March, which was named as the most played and most famous fight song by Northern Illinois Professor William Studwell. According to College Fight Songs: An Annotated Anthology published in 1998, the \"Notre Dame Victory March\" ranks as the greatest fight song of all time.', 'qas': [{'answers': [{'answer_start': 50, 'text': 'Under Armour'}], 'question': 'Who currently provides uniforms to Notre Dame sport teams?', 'id': '5733c3184776f419006611c2'}, {'answers': [{'answer_start': 223, 'text': 'almost $100 million'}], 'question': 'What is the value of the contract between Under Armour and Notre Dame?', 'id': '5733c3184776f419006611c3'}, {'answers': [{'answer_start': 392, 'text': '1846'}], 'question': 'When did the Notre Dame marching band form?', 'id': '5733c3184776f419006611c4'}, {'answers': [{'answer_start': 420, 'text': 'oldest university band in continuous existence in the United States'}], 'question': 'What is notable about the Notre Dame marching band?', 'id': '5733c3184776f419006611c5'}, {'answers': [{'answer_start': 657, 'text': 'Notre Dame Victory March'}], 'question': 'What is the Notre Dame fight song?', 'id': '5733c3184776f419006611c6'}]}, {'context': 'The Notre Dame football team has a long history, first beginning when the Michigan Wolverines football team brought football to Notre Dame in 1887 and played against a group of students. In the long history since then, 13 Fighting Irish teams have won consensus national championships (although the university only claims 11), along with another nine teams being named national champion by at least one source. Additionally, the program has the most members in the College Football Hall of Fame, is tied with Ohio State University with the most Heisman Trophies won, and have the highest winning percentage in NCAA history. With the long history, Notre Dame has accumulated many rivals, and its annual game against USC for the Jeweled Shillelagh has been named by some as one of the most important in college football and is often called the greatest intersectional rivalry in college football in the country.', 'qas': [{'answers': [{'answer_start': 74, 'text': 'Michigan Wolverines football team'}], 'question': \"Which team did Notre Dame's football team find inspiration from?\", 'id': '5733c4494776f419006611da'}, {'answers': [{'answer_start': 142, 'text': '1887'}], 'question': 'In what year did Notre Dame football begin?', 'id': '5733c4494776f419006611db'}, {'answers': [{'answer_start': 509, 'text': 'Ohio State University'}], 'question': 'What university is Notre Dame tied with in terms of most Heisman Trophy winners?', 'id': '5733c4494776f419006611dc'}, {'answers': [{'answer_start': 715, 'text': 'USC'}], 'question': 'Against which team does Notre Dame compete for the Jeweled Shillelagh?', 'id': '5733c4494776f419006611dd'}, {'answers': [{'answer_start': 441, 'text': 'the most'}], 'question': 'In terms of Notre Dame students in the College Football Hall of Fame the amount of students named is what ?', 'id': '5733c4494776f419006611de'}]}, {'context': 'George Gipp was the school\\'s legendary football player during 1916–20. He played semiprofessional baseball and smoked, drank, and gambled when not playing sports. He was also humble, generous to the needy, and a man of integrity. It was in 1928 that famed coach Knute Rockne used his final conversation with the dying Gipp to inspire the Notre Dame team to beat the Army team and \"win one for the Gipper.\" The 1940 film, Knute Rockne, All American, starred Pat O\\'Brien as Knute Rockne and Ronald Reagan as Gipp. Today the team competes in Notre Dame Stadium, an 80,795-seat stadium on campus. The current head coach is Brian Kelly, hired from the University of Cincinnati on December 11, 2009. Kelly\\'s record in midway through his sixth season at Notre Dame is 52–21. In 2012, Kelly\\'s Fighting Irish squad went undefeated and played in the BCS National Championship Game. Kelly succeeded Charlie Weis, who was fired in November 2009 after five seasons. Although Weis led his team to two Bowl Championship Series bowl games, his overall record was 35–27, mediocre by Notre Dame standards, and the 2007 team had the most losses in school history. The football team generates enough revenue to operate independently while $22.1 million is retained from the team\\'s profits for academic use. Forbes named the team as the most valuable in college football, worth a total of $101 million in 2007.', 'qas': [{'answers': [{'answer_start': 0, 'text': 'George Gipp'}], 'question': 'What notable football player played at Notre Dame from 1916 to 1920?', 'id': '5733c743d058e614000b622d'}, {'answers': [{'answer_start': 362, 'text': 'the Army team'}], 'question': 'Against which opponent did Knute Rockne tell his team to \"win one for the Gipper?\"', 'id': '5733c743d058e614000b622e'}, {'answers': [{'answer_start': 457, 'text': \"Pat O'Brien\"}], 'question': 'Which person portrayed Knute Rockne in the 1940 movie \"Knute Rockne?\"', 'id': '5733c743d058e614000b622f'}, {'answers': [{'answer_start': 506, 'text': 'Gipp'}], 'question': 'Ronald Reagan played the role of whom in 1940\\'s \"Knute Rockne?\"', 'id': '5733c743d058e614000b6230'}, {'answers': [{'answer_start': 562, 'text': '80,795'}], 'question': 'How many seats are in Notre Dame Stadium?', 'id': '5733c743d058e614000b6231'}]}, {'context': \"Football gameday traditions During home games, activities occur all around campus and different dorms decorate their halls with a traditional item (e.g. Zahm House's two-story banner). Traditional activities begin at the stroke of midnight with the Drummers' Circle. This tradition involves the drum line of the Band of the Fighting Irish and ushers in the rest of the festivities that will continue the rest of the gameday Saturday. Later that day, the trumpet section will play the Notre Dame Victory March and the Notre Dame Alma Mater under the dome. The band entire will play a concert at the steps of Bond Hall, from where they will march into Notre Dame Stadium, leading fans and students alike across campus to the game.\", 'qas': [{'answers': [{'answer_start': 166, 'text': 'two-story banner'}], 'question': 'What is displayed at Zahm House for football home games at Notre Dame?', 'id': '5733ca05d058e614000b6263'}, {'answers': [{'answer_start': 245, 'text': \"the Drummers' Circle\"}], 'question': 'What occurs at midnight preceding a football home game at Notre Dame?', 'id': '5733ca05d058e614000b6264'}, {'answers': [{'answer_start': 594, 'text': 'the steps of Bond Hall'}], 'question': 'From where does the Band of the Fighting Irish lead a march to the Notre Dame Stadium for football home games?', 'id': '5733ca05d058e614000b6265'}, {'answers': [{'answer_start': 480, 'text': 'the Notre Dame Victory March and the Notre Dame Alma Mater'}], 'question': 'What songs does the trumpet section of the Band of the Fighting Irish play preceding home football games?', 'id': '5733ca05d058e614000b6266'}, {'answers': [{'answer_start': 424, 'text': 'Saturday'}], 'question': 'On what day do Notre Dame home football games occur?', 'id': '5733ca05d058e614000b6267'}]}, {'context': \"The men's basketball team has over 1,600 wins, one of only 12 schools who have reached that mark, and have appeared in 28 NCAA tournaments. Former player Austin Carr holds the record for most points scored in a single game of the tournament with 61. Although the team has never won the NCAA Tournament, they were named by the Helms Athletic Foundation as national champions twice. The team has orchestrated a number of upsets of number one ranked teams, the most notable of which was ending UCLA's record 88-game winning streak in 1974. The team has beaten an additional eight number-one teams, and those nine wins rank second, to UCLA's 10, all-time in wins against the top team. The team plays in newly renovated Purcell Pavilion (within the Edmund P. Joyce Center), which reopened for the beginning of the 2009–2010 season. The team is coached by Mike Brey, who, as of the 2014–15 season, his fifteenth at Notre Dame, has achieved a 332-165 record. In 2009 they were invited to the NIT, where they advanced to the semifinals but were beaten by Penn State who went on and beat Baylor in the championship. The 2010–11 team concluded its regular season ranked number seven in the country, with a record of 25–5, Brey's fifth straight 20-win season, and a second-place finish in the Big East. During the 2014-15 season, the team went 32-6 and won the ACC conference tournament, later advancing to the Elite 8, where the Fighting Irish lost on a missed buzzer-beater against then undefeated Kentucky. Led by NBA draft picks Jerian Grant and Pat Connaughton, the Fighting Irish beat the eventual national champion Duke Blue Devils twice during the season. The 32 wins were the most by the Fighting Irish team since 1908-09.\", 'qas': [{'answers': [{'answer_start': 30, 'text': 'over 1,600'}], 'question': \"How many wins does the Notre Dame men's basketball team have?\", 'id': '5733caf74776f4190066124c'}, {'answers': [{'answer_start': 59, 'text': '12'}], 'question': \"How many schools have a similar men's basketball record to Notre Dame in terms of wins?\", 'id': '5733caf74776f4190066124d'}, {'answers': [{'answer_start': 119, 'text': '28'}], 'question': \"How many NCAA tournaments did the Notre Dame men's basketball team take part in?\", 'id': '5733caf74776f4190066124e'}, {'answers': [{'answer_start': 154, 'text': 'Austin Carr'}], 'question': \"Which Notre Dame men's basketball player has the record for more points in one game?\", 'id': '5733caf74776f4190066124f'}, {'answers': [{'answer_start': 850, 'text': 'Mike Brey'}], 'question': \"Who was the Notre Dame men's basketball coach in 2014?\", 'id': '5733caf74776f41900661250'}]}, {'context': 'The \"Notre Dame Victory March\" is the fight song for the University of Notre Dame. It was written by two brothers who were Notre Dame graduates. The Rev. Michael J. Shea, a 1904 graduate, wrote the music, and his brother, John F. Shea, who earned degrees in 1906 and 1908, wrote the original lyrics. The lyrics were revised in the 1920s; it first appeared under the copyright of the University of Notre Dame in 1928. The chorus is, \"Cheer cheer for old Notre Dame, wake up the echos cheering her name. Send a volley cheer on high, shake down the thunder from the sky! What though the odds be great or small, old Notre Dame will win over all. While her loyal sons are marching, onward to victory!\"', 'qas': [{'answers': [{'answer_start': 222, 'text': 'John F. Shea'}], 'question': 'Who wrote the original lyrics to the Notre Dame Victory March?', 'id': '5733cbdad058e614000b628d'}, {'answers': [{'answer_start': 173, 'text': '1904'}], 'question': 'In what year did Michael J. Shea graduate from Notre Dame?', 'id': '5733cbdad058e614000b628e'}, {'answers': [{'answer_start': 149, 'text': 'Rev. Michael J. Shea'}], 'question': 'Who is responsible for writing the music for \"Notre Dame Victory March?\"', 'id': '5733cbdad058e614000b628f'}, {'answers': [{'answer_start': 411, 'text': '1928'}], 'question': 'In what year did \"Notre Dame Victory March\" get copyrighted?', 'id': '5733cbdad058e614000b6290'}, {'answers': [{'answer_start': 677, 'text': 'onward to victory'}], 'question': 'To where are the loyal sons in \"Notre Dame Fight Song\" marching?', 'id': '5733cbdad058e614000b6291'}]}, {'context': 'In the film Knute Rockne, All American, Knute Rockne (played by Pat O\\'Brien) delivers the famous \"Win one for the Gipper\" speech, at which point the background music swells with the \"Notre Dame Victory March\". George Gipp was played by Ronald Reagan, whose nickname \"The Gipper\" was derived from this role. This scene was parodied in the movie Airplane! with the same background music, only this time honoring George Zipp, one of Ted Striker\\'s former comrades. The song also was prominent in the movie Rudy, with Sean Astin as Daniel \"Rudy\" Ruettiger, who harbored dreams of playing football at the University of Notre Dame despite significant obstacles.', 'qas': [{'answers': [{'answer_start': 267, 'text': 'The Gipper'}], 'question': 'Ronald Reagan had a nickname, what was it?', 'id': '5733ccbe4776f41900661270'}, {'answers': [{'answer_start': 344, 'text': 'Airplane!'}], 'question': 'In what film did a parody of the \"Win one for the Gipper\" speech appear?', 'id': '5733ccbe4776f41900661271'}, {'answers': [{'answer_start': 513, 'text': 'Sean Astin'}], 'question': 'Who starred as Daniel Ruettiger in the film Rudy?', 'id': '5733ccbe4776f41900661272'}, {'answers': [{'answer_start': 410, 'text': 'George Zipp'}], 'question': 'Which person was a former comrade to Ted Striker in the film Airplane!?', 'id': '5733ccbe4776f41900661273'}, {'answers': [{'answer_start': 40, 'text': 'Knute Rockne'}], 'question': \"Pat O'Brien portrayed which person in the film Knute Rockne?\", 'id': '5733ccbe4776f41900661274'}]}, {'context': \"Notre Dame alumni work in various fields. Alumni working in political fields include state governors, members of the United States Congress, and former United States Secretary of State Condoleezza Rice. A notable alumnus of the College of Science is Medicine Nobel Prize winner Eric F. Wieschaus. A number of university heads are alumni, including Notre Dame's current president, the Rev. John Jenkins. Additionally, many alumni are in the media, including talk show hosts Regis Philbin and Phil Donahue, and television and radio personalities such as Mike Golic and Hannah Storm. With the university having high profile sports teams itself, a number of alumni went on to become involved in athletics outside the university, including professional baseball, basketball, football, and ice hockey players, such as Joe Theismann, Joe Montana, Tim Brown, Ross Browner, Rocket Ismail, Ruth Riley, Jeff Samardzija, Jerome Bettis, Brett Lebda, Olympic gold medalist Mariel Zagunis, professional boxer Mike Lee, former football coaches such as Charlie Weis, Frank Leahy and Knute Rockne, and Basketball Hall of Famers Austin Carr and Adrian Dantley. Other notable alumni include prominent businessman Edward J. DeBartolo, Jr. and astronaut Jim Wetherbee.\", 'qas': [{'answers': [{'answer_start': 185, 'text': 'Condoleezza Rice'}], 'question': 'Which Secretary of State attended Notre Dame?', 'id': '5733cd504776f4190066128e'}, {'answers': [{'answer_start': 278, 'text': 'Eric F. Wieschaus'}], 'question': 'Which Notre Dame alum from the College of Science won a Nobel Prize?', 'id': '5733cd504776f4190066128f'}, {'answers': [{'answer_start': 384, 'text': 'Rev. John Jenkins'}], 'question': 'Who is the current president of Notre Dame?', 'id': '5733cd504776f41900661290'}, {'answers': [{'answer_start': 937, 'text': 'Olympic gold'}], 'question': 'Mariel Zagunis is notable for winning what?', 'id': '5733cd504776f41900661291'}, {'answers': [{'answer_start': 1232, 'text': 'Jim Wetherbee'}], 'question': 'Which notable astronaut is known to have attended Notre Dame?', 'id': '5733cd504776f41900661292'}]}]}\n"
     ]
    }
   ],
   "source": [
    "item_1 = data[0]\n",
    "print(item_1)"
   ]
  },
  {
   "cell_type": "code",
   "execution_count": 13,
   "metadata": {},
   "outputs": [
    {
     "name": "stdout",
     "output_type": "stream",
     "text": [
      "title\n",
      "paragraphs\n"
     ]
    }
   ],
   "source": [
    "for key in item_1.keys():\n",
    "    print(key)"
   ]
  },
  {
   "cell_type": "code",
   "execution_count": 14,
   "metadata": {},
   "outputs": [
    {
     "name": "stdout",
     "output_type": "stream",
     "text": [
      "University_of_Notre_Dame\n",
      "55\n",
      "context\n",
      "qas\n"
     ]
    }
   ],
   "source": [
    "print(item_1['title'])\n",
    "paragraphs = item_1['paragraphs']\n",
    "print(len(paragraphs))\n",
    "paragraph_1 = paragraphs[0]\n",
    "for key in paragraph_1.keys():\n",
    "    print(key)"
   ]
  },
  {
   "cell_type": "code",
   "execution_count": 15,
   "metadata": {},
   "outputs": [
    {
     "name": "stdout",
     "output_type": "stream",
     "text": [
      "Architecturally, the school has a Catholic character. Atop the Main Building's gold dome is a golden statue of the Virgin Mary. Immediately in front of the Main Building and facing it, is a copper statue of Christ with arms upraised with the legend \"Venite Ad Me Omnes\". Next to the Main Building is the Basilica of the Sacred Heart. Immediately behind the basilica is the Grotto, a Marian place of prayer and reflection. It is a replica of the grotto at Lourdes, France where the Virgin Mary reputedly appeared to Saint Bernadette Soubirous in 1858. At the end of the main drive (and in a direct line that connects through 3 statues and the Gold Dome), is a simple, modern stone statue of Mary.\n"
     ]
    }
   ],
   "source": [
    "context = paragraph_1['context']\n",
    "print(context)"
   ]
  },
  {
   "cell_type": "code",
   "execution_count": 17,
   "metadata": {},
   "outputs": [
    {
     "name": "stdout",
     "output_type": "stream",
     "text": [
      "5\n",
      "{'answers': [{'answer_start': 515, 'text': 'Saint Bernadette Soubirous'}], 'question': 'To whom did the Virgin Mary allegedly appear in 1858 in Lourdes France?', 'id': '5733be284776f41900661182'}\n",
      "{'answers': [{'answer_start': 188, 'text': 'a copper statue of Christ'}], 'question': 'What is in front of the Notre Dame Main Building?', 'id': '5733be284776f4190066117f'}\n",
      "{'answers': [{'answer_start': 279, 'text': 'the Main Building'}], 'question': 'The Basilica of the Sacred heart at Notre Dame is beside to which structure?', 'id': '5733be284776f41900661180'}\n",
      "{'answers': [{'answer_start': 381, 'text': 'a Marian place of prayer and reflection'}], 'question': 'What is the Grotto at Notre Dame?', 'id': '5733be284776f41900661181'}\n",
      "{'answers': [{'answer_start': 92, 'text': 'a golden statue of the Virgin Mary'}], 'question': 'What sits on top of the Main Building at Notre Dame?', 'id': '5733be284776f4190066117e'}\n"
     ]
    }
   ],
   "source": [
    "qas = paragraph_1['qas']\n",
    "print(len(qas))\n",
    "for q in qas:\n",
    "    print(q)"
   ]
  },
  {
   "cell_type": "code",
   "execution_count": 24,
   "metadata": {},
   "outputs": [
    {
     "name": "stdout",
     "output_type": "stream",
     "text": [
      "title: University_of_Notre_Dame\n",
      "# of paragraphs: 55\n",
      "context: Architecturally, the school has a Catholic character. Atop the Main Building's gold dome is a golden statue of the Virgin Mary. Immediately in front of the Main Building and facing it, is a copper statue of Christ with arms upraised with the legend \"Venite Ad Me Omnes\". Next to the Main Building is the Basilica of the Sacred Heart. Immediately behind the basilica is the Grotto, a Marian place of prayer and reflection. It is a replica of the grotto at Lourdes, France where the Virgin Mary reputedly appeared to Saint Bernadette Soubirous in 1858. At the end of the main drive (and in a direct line that connects through 3 statues and the Gold Dome), is a simple, modern stone statue of Mary.\n",
      "# of qas 5\n",
      "Question: To whom did the Virgin Mary allegedly appear in 1858 in Lourdes France?\n",
      "Answers: {'answer_start': 515, 'text': 'Saint Bernadette Soubirous'}\n",
      "S\n",
      "Question: What is in front of the Notre Dame Main Building?\n",
      "Answers: {'answer_start': 188, 'text': 'a copper statue of Christ'}\n",
      "a\n",
      "Question: The Basilica of the Sacred heart at Notre Dame is beside to which structure?\n",
      "Answers: {'answer_start': 279, 'text': 'the Main Building'}\n",
      "t\n",
      "Question: What is the Grotto at Notre Dame?\n",
      "Answers: {'answer_start': 381, 'text': 'a Marian place of prayer and reflection'}\n",
      "a\n",
      "Question: What sits on top of the Main Building at Notre Dame?\n",
      "Answers: {'answer_start': 92, 'text': 'a golden statue of the Virgin Mary'}\n",
      "a\n"
     ]
    }
   ],
   "source": [
    "def get_qas(item,p_count=0):\n",
    "    print('title:',item['title'])\n",
    "    paragraphs = item['paragraphs']\n",
    "    print('# of paragraphs:',len(paragraphs))\n",
    "    \n",
    "    paragraph = paragraphs[p_count]\n",
    "    context = paragraph['context']\n",
    "    print('context:',context)\n",
    "    qas = paragraph['qas']\n",
    "    print('# of qas',len(qas))\n",
    "    for q in qas:\n",
    "        print('Question:',q['question'])\n",
    "        print('Answers:',q['answers'][0])\n",
    "        print(context[q['answers'][0]['answer_start']])\n",
    "\n",
    "get_qas(data[0])"
   ]
  },
  {
   "cell_type": "code",
   "execution_count": 25,
   "metadata": {},
   "outputs": [
    {
     "name": "stdout",
     "output_type": "stream",
     "text": [
      "title: Antibiotics\n",
      "# of paragraphs: 26\n",
      "context: The successful outcome of antimicrobial therapy with antibacterial compounds depends on several factors. These include host defense mechanisms, the location of infection, and the pharmacokinetic and pharmacodynamic properties of the antibacterial. A bactericidal activity of antibacterials may depend on the bacterial growth phase, and it often requires ongoing metabolic activity and division of bacterial cells. These findings are based on laboratory studies, and in clinical settings have also been shown to eliminate bacterial infection. Since the activity of antibacterials depends frequently on its concentration, in vitro characterization of antibacterial activity commonly includes the determination of the minimum inhibitory concentration and minimum bactericidal concentration of an antibacterial. To predict clinical outcome, the antimicrobial activity of an antibacterial is usually combined with its pharmacokinetic profile, and several pharmacological parameters are used as markers of drug efficacy.\n",
      "# of qas 7\n",
      "Question: What does the potency of antibacterials depend upon?\n",
      "Answers: {'answer_start': 605, 'text': 'concentration'}\n",
      "c\n",
      "Question: What does this eliminate?\n",
      "Answers: {'answer_start': 521, 'text': 'bacterial infection'}\n",
      "b\n",
      "Question: What does the bactericidal activitty of antibacterials depend on what?\n",
      "Answers: {'answer_start': 308, 'text': 'bacterial growth phase'}\n",
      "b\n",
      "Question: What besides ongoing metabolic activity is required in bactericidal activity?\n",
      "Answers: {'answer_start': 385, 'text': 'division of bacterial cells'}\n",
      "d\n",
      "Question: What does the activity of antibacterials depends on?\n",
      "Answers: {'answer_start': 605, 'text': 'concentration'}\n",
      "c\n",
      "Question: What does a successful treatment using antibiotics entail?\n",
      "Answers: {'answer_start': 119, 'text': 'host defense mechanisms, the location of infection, and the pharmacokinetic and pharmacodynamic properties of the antibacterial'}\n",
      "h\n",
      "Question: How do you predict the clinical result?\n",
      "Answers: {'answer_start': 942, 'text': 'several pharmacological parameters are used as markers of drug efficacy'}\n",
      "s\n"
     ]
    }
   ],
   "source": [
    "get_qas(data[4],p_count=1)"
   ]
  },
  {
   "cell_type": "code",
   "execution_count": 26,
   "metadata": {},
   "outputs": [
    {
     "name": "stdout",
     "output_type": "stream",
     "text": [
      "title: The_Legend_of_Zelda:_Twilight_Princess\n",
      "# of paragraphs: 32\n",
      "context: The Legend of Zelda: Twilight Princess is an action-adventure game focused on combat, exploration, and item collection. It uses the basic control scheme introduced in Ocarina of Time, including context-sensitive action buttons and L-targeting (Z-targeting on the Wii), a system that allows the player to keep Link's view focused on an enemy or important object while moving and attacking. Link can walk, run, and attack, and will automatically jump when running off of or reaching for a ledge.[c] Link uses a sword and shield in combat, complemented with secondary weapons and items, including a bow and arrows, a boomerang, bombs, and the Clawshot (similar to the Hookshot introduced earlier in the The Legend of Zelda series).[d] While L-targeting, projectile-based weapons can be fired at a target without the need for manual aiming.[c]\n",
      "# of qas 9\n",
      "Question: What are the three main activities in The Legend of Zelda: Twilight Princess?\n",
      "Answers: {'answer_start': 78, 'text': 'combat, exploration, and item collection'}\n",
      "c\n",
      "Question: Twilight Princess uses the control setup first employed in which previous game?\n",
      "Answers: {'answer_start': 167, 'text': 'Ocarina of Time'}\n",
      "O\n",
      "Question: What can be used to shoot without the need to manually target enemies?\n",
      "Answers: {'answer_start': 231, 'text': 'L-targeting'}\n",
      "L\n",
      "Question: What is Link's main weapon?\n",
      "Answers: {'answer_start': 509, 'text': 'sword'}\n",
      "s\n",
      "Question: What secondary weapon in Twilight Princess is analogous to a weapon featured in previous games?\n",
      "Answers: {'answer_start': 640, 'text': 'Clawshot'}\n",
      "C\n",
      "Question: What genre of game is Twilight Princess?\n",
      "Answers: {'answer_start': 45, 'text': 'action-adventure'}\n",
      "a\n",
      "Question: Twilight Princess follows the control scheme introduced in what game?\n",
      "Answers: {'answer_start': 167, 'text': 'Ocarina of Time'}\n",
      "O\n",
      "Question: What 2 main weapons does Link use in combat?\n",
      "Answers: {'answer_start': 509, 'text': 'sword and shield'}\n",
      "s\n",
      "Question: What control can be used while targeting that allows the player to forego manual targeting?\n",
      "Answers: {'answer_start': 231, 'text': 'L-targeting'}\n",
      "L\n"
     ]
    }
   ],
   "source": [
    "get_qas(data[8],p_count=3)"
   ]
  },
  {
   "cell_type": "code",
   "execution_count": 133,
   "metadata": {},
   "outputs": [],
   "source": [
    "# add custom rows to data\n",
    "custom_content = {'title': 'Data_Science','custom':True\n",
    "                  ,'paragraphs':[\n",
    "                      {\n",
    "                          'context': 'Data science, also known as data-driven science, is an interdisciplinary field about scientific methods, processes, and systems to extract knowledge or insights from data in various forms, either structured or unstructured, similar to data mining.'\n",
    "                          , 'qas': [\n",
    "                              {\n",
    "                                  'answers': [{'answer_start': 49, 'text': 'is an interdisciplinary field about scientific methods, processes, and systems to extract knowledge or insights from data'}]\n",
    "                                  , 'question': 'What is Data science?'\n",
    "                                  , 'id': uuid.uuid4().hex\n",
    "                              }\n",
    "                              ,{\n",
    "                                  'answers': [{'answer_start': 0, 'text': 'Data science'}]\n",
    "                                  , 'question': 'What is similar to data mining?'\n",
    "                                  , 'id': uuid.uuid4().hex\n",
    "                              }\n",
    "                          ]\n",
    "                      }\n",
    "                      ,{\n",
    "                          'context':'Machine learning is a field of computer science that gives computers the ability to learn without being explicitly programmed. Arthur Samuel, an American pioneer in the field of computer gaming and artificial intelligence, coined the term \"Machine Learning\" in 1959 while at IBM.'\n",
    "                          , 'qas': [\n",
    "                              {\n",
    "                                  'answers': [{'answer_start': 17, 'text': 'is a field of computer science that gives computers the ability to learn without being explicitly programmed'}]\n",
    "                                  , 'question': 'What is Machine learning?'\n",
    "                                  , 'id': uuid.uuid4().hex\n",
    "                              }\n",
    "                              ,{\n",
    "                                  'answers': [{'answer_start': 128, 'text': 'Arthur Samuel'}]\n",
    "                                  , 'question': 'Who is a pioneer in the field of computer gaming and artificial intelligence?'\n",
    "                                  , 'id': uuid.uuid4().hex\n",
    "                              }\n",
    "                          ]\n",
    "                      }\n",
    "                      \n",
    "                  ]}"
   ]
  },
  {
   "cell_type": "code",
   "execution_count": 134,
   "metadata": {},
   "outputs": [
    {
     "name": "stdout",
     "output_type": "stream",
     "text": [
      "{'title': 'Data_Science', 'custom': True, 'paragraphs': [{'context': 'Data science, also known as data-driven science, is an interdisciplinary field about scientific methods, processes, and systems to extract knowledge or insights from data in various forms, either structured or unstructured, similar to data mining.', 'qas': [{'answers': [{'answer_start': 49, 'text': 'is an interdisciplinary field about scientific methods, processes, and systems to extract knowledge or insights from data'}], 'question': 'What is Data science?', 'id': 'baf91df8cc2144b3bfa3e23fc47addc6'}, {'answers': [{'answer_start': 0, 'text': 'Data science'}], 'question': 'What is similar to data mining?', 'id': 'f4e35cdaa5e743d9b64bc67693c65d8c'}]}, {'context': 'Machine learning is a field of computer science that gives computers the ability to learn without being explicitly programmed. Arthur Samuel, an American pioneer in the field of computer gaming and artificial intelligence, coined the term \"Machine Learning\" in 1959 while at IBM.', 'qas': [{'answers': [{'answer_start': 17, 'text': 'is a field of computer science that gives computers the ability to learn without being explicitly programmed'}], 'question': 'What is Machine learning?', 'id': '35762f1e97b147afacb15a2c141ce09b'}, {'answers': [{'answer_start': 128, 'text': 'Arthur Samuel'}], 'question': 'Who is a pioneer in the field of computer gaming and artificial intelligence?', 'id': '44786a440cf142ef9da62b38e872e049'}]}]}\n"
     ]
    }
   ],
   "source": [
    "print(custom_content)"
   ]
  },
  {
   "cell_type": "code",
   "execution_count": null,
   "metadata": {},
   "outputs": [],
   "source": []
  },
  {
   "cell_type": "code",
   "execution_count": 40,
   "metadata": {},
   "outputs": [
    {
     "data": {
      "text/plain": [
       "'e8f26cbc-e5ca-43cf-a31e-f6975050ce0b'"
      ]
     },
     "execution_count": 40,
     "metadata": {},
     "output_type": "execute_result"
    }
   ],
   "source": [
    "str(uuid.uuid4())"
   ]
  },
  {
   "cell_type": "code",
   "execution_count": 41,
   "metadata": {},
   "outputs": [
    {
     "data": {
      "text/plain": [
       "'ba06861d1dad476c8e0a5e21f68eb4d1'"
      ]
     },
     "execution_count": 41,
     "metadata": {},
     "output_type": "execute_result"
    }
   ],
   "source": [
    "uuid.uuid4().hex"
   ]
  },
  {
   "cell_type": "markdown",
   "metadata": {},
   "source": [
    "## Load Mongo with the SQuAD data"
   ]
  },
  {
   "cell_type": "code",
   "execution_count": 146,
   "metadata": {},
   "outputs": [],
   "source": [
    "client = MongoClient('mongodb://localhost:27017')\n",
    "db = client['squad-db']"
   ]
  },
  {
   "cell_type": "code",
   "execution_count": 136,
   "metadata": {},
   "outputs": [],
   "source": [
    "with open('datasets/squad-train-v1.1.json') as json_file:  \n",
    "    json_data = json.load(json_file)\n",
    "    \n",
    "data = json_data['data']\n",
    "\n",
    "# Merge custom content\n",
    "data.append(custom_content)"
   ]
  },
  {
   "cell_type": "code",
   "execution_count": 137,
   "metadata": {},
   "outputs": [
    {
     "name": "stdout",
     "output_type": "stream",
     "text": [
      "title: Data_Science\n",
      "# of paragraphs: 2\n",
      "context: Data science, also known as data-driven science, is an interdisciplinary field about scientific methods, processes, and systems to extract knowledge or insights from data in various forms, either structured or unstructured, similar to data mining.\n",
      "# of qas 2\n",
      "Question: What is Data science?\n",
      "Answers: {'answer_start': 49, 'text': 'is an interdisciplinary field about scientific methods, processes, and systems to extract knowledge or insights from data'}\n",
      "i\n",
      "Question: What is similar to data mining?\n",
      "Answers: {'answer_start': 0, 'text': 'Data science'}\n",
      "D\n"
     ]
    }
   ],
   "source": [
    "get_qas(data[442],p_count=0)"
   ]
  },
  {
   "cell_type": "code",
   "execution_count": 61,
   "metadata": {},
   "outputs": [],
   "source": [
    "# load mongo\n",
    "dbcollection = db['squad']\n",
    "dbcollection.drop()\n",
    "# for item in data:\n",
    "#     #print(item['title'])\n",
    "#     result = dbcollection.insert_one(item)"
   ]
  },
  {
   "cell_type": "code",
   "execution_count": null,
   "metadata": {},
   "outputs": [],
   "source": [
    "# Generate json from mongo db collection\n",
    "result = dbcollection.find({})\n",
    "output_json = {'data':json.loads(dumps(result))}"
   ]
  },
  {
   "cell_type": "code",
   "execution_count": 138,
   "metadata": {},
   "outputs": [],
   "source": [
    "# load mongo\n",
    "titles = db['titles']\n",
    "titles.drop()\n",
    "paragraphs = db['paragraphs']\n",
    "paragraphs.drop()\n",
    "for title in data:\n",
    "    result = titles.insert_one({'title':title['title']})\n",
    "    _id = result.inserted_id\n",
    "    for paragraph in title['paragraphs']:\n",
    "        paragraph['title_id'] = str(_id)\n",
    "        result2 = paragraphs.insert_one(paragraph)"
   ]
  },
  {
   "cell_type": "code",
   "execution_count": 153,
   "metadata": {},
   "outputs": [],
   "source": [
    "# Generate json from mongo db collection\n",
    "titles = db['titles']\n",
    "paragraphs = db['paragraphs']\n",
    "result = titles.find({})\n",
    "all_data = []\n",
    "for title in result:\n",
    "    paragraphs_data = paragraphs.find({'title_id':str(title['_id'])})\n",
    "    all_data_item = {}\n",
    "    all_data_item['title'] = title['title']\n",
    "    all_data_item['paragraphs'] = paragraphs_data\n",
    "    all_data.append(all_data_item)"
   ]
  },
  {
   "cell_type": "code",
   "execution_count": 154,
   "metadata": {},
   "outputs": [],
   "source": [
    "output_json = {'data':json.loads(dumps(all_data))}"
   ]
  },
  {
   "cell_type": "code",
   "execution_count": 155,
   "metadata": {},
   "outputs": [],
   "source": [
    "# write to json file\n",
    "with open('../allennlp/training_config/squad-modified.json', 'w') as outfile:  \n",
    "    json.dump(output_json, outfile)"
   ]
  },
  {
   "cell_type": "code",
   "execution_count": 88,
   "metadata": {},
   "outputs": [],
   "source": [
    "#print(output_json)"
   ]
  },
  {
   "cell_type": "code",
   "execution_count": 101,
   "metadata": {},
   "outputs": [
    {
     "name": "stdout",
     "output_type": "stream",
     "text": [
      "hello bye hi\n"
     ]
    }
   ],
   "source": [
    "from nltk.corpus import stopwords\n",
    "cachedStopWords = stopwords.words(\"english\")\n",
    "\n"
   ]
  },
  {
   "cell_type": "code",
   "execution_count": 103,
   "metadata": {},
   "outputs": [
    {
     "name": "stdout",
     "output_type": "stream",
     "text": [
      "What Machine learning?\n"
     ]
    }
   ],
   "source": [
    "text = 'What is Machine learning?'\n",
    "text = ' '.join([word for word in text.split() if word not in cachedStopWords])\n",
    "print(text)"
   ]
  },
  {
   "cell_type": "markdown",
   "metadata": {},
   "source": [
    "### Cosine Similarity\n"
   ]
  },
  {
   "cell_type": "code",
   "execution_count": 115,
   "metadata": {},
   "outputs": [],
   "source": [
    "from sklearn.feature_extraction.text import CountVectorizer\n",
    "from sklearn.feature_extraction.text import TfidfTransformer\n",
    "from sklearn.feature_extraction.text import TfidfVectorizer\n",
    "from sklearn.metrics.pairwise import cosine_similarity\n",
    "\n",
    "import string\n",
    "import nltk\n",
    "import re"
   ]
  },
  {
   "cell_type": "code",
   "execution_count": 117,
   "metadata": {},
   "outputs": [],
   "source": [
    "# Tokenize text using NLTK\n",
    "def tokenize_text(text,remove_stop_words=True,stem_words=True,filter_short_token=0): # split into words\n",
    "    words = nltk.word_tokenize(text)\n",
    "    # convert to lower case\n",
    "    words = [w.lower() for w in words]\n",
    "    # prepare regex for char filtering\n",
    "    re_punc = re.compile('[%s]' % re.escape(string.punctuation)) # remove punctuation from each word\n",
    "    tokens = [re_punc.sub('', w) for w in words]\n",
    "    # remove not alphabets\n",
    "    tokens = [word for word in tokens if word.isalpha()]\n",
    "    # filter out stop words\n",
    "    if remove_stop_words == True:\n",
    "        stop_words = set(nltk.corpus.stopwords.words('english'))\n",
    "        tokens = [w for w in tokens if not w in stop_words]\n",
    "    # Perfomring\n",
    "    if stem_words == True:\n",
    "        # stemming of words\n",
    "        porter = nltk.stem.porter.PorterStemmer()\n",
    "        tokens = [porter.stem(word) for word in tokens]\n",
    "    # filter out short tokens\n",
    "    if filter_short_token > 0:\n",
    "        tokens = [word for word in tokens if len(word) > filter_short_token]\n",
    "    return tokens"
   ]
  },
  {
   "cell_type": "code",
   "execution_count": 119,
   "metadata": {},
   "outputs": [
    {
     "name": "stdout",
     "output_type": "stream",
     "text": [
      "Data science, also known as data-driven science, is an interdisciplinary field about scientific methods, processes, and systems to extract knowledge or insights from data in various forms, either structured or unstructured, similar to data mining.\n",
      "Machine learning is a field of computer science that gives computers the ability to learn without being explicitly programmed. Arthur Samuel, an American pioneer in the field of computer gaming and artificial intelligence, coined the term \"Machine Learning\" in 1959 while at IBM.\n"
     ]
    }
   ],
   "source": [
    "corpus = list()\n",
    "for pg in data[442]['paragraphs']:\n",
    "    print(pg['context'])\n",
    "    \n",
    "    # Get the scene text\n",
    "    context_text = pg['context']\n",
    "    # Tokenize\n",
    "    tokens = tokenize_text(context_text,remove_stop_words=True,stem_words=True,filter_short_token=1)\n",
    "    cleaned_context_text = ' '.join(tokens)\n",
    "    \n",
    "    corpus.append(cleaned_context_text)"
   ]
  },
  {
   "cell_type": "code",
   "execution_count": 123,
   "metadata": {},
   "outputs": [
    {
     "name": "stdout",
     "output_type": "stream",
     "text": [
      "Bag of Words: (39,)\n",
      "['abil' 'also' 'american' 'arthur' 'artifici' 'coin' 'comput' 'data'\n",
      " 'datadriven' 'either' 'explicitli' 'extract' 'field' 'form' 'game' 'give'\n",
      " 'ibm' 'insight' 'intellig' 'interdisciplinari' 'knowledg' 'known' 'learn'\n",
      " 'machin' 'method' 'mine' 'pioneer' 'process' 'program' 'samuel' 'scienc'\n",
      " 'scientif' 'similar' 'structur' 'system' 'term' 'unstructur' 'variou'\n",
      " 'without']\n",
      "TF-IDF Matrix: (2, 39)\n",
      "[[ 0.          0.18401758  0.          0.          0.          0.          0.\n",
      "   0.55205273  0.18401758  0.18401758  0.          0.18401758  0.13093002\n",
      "   0.18401758  0.          0.          0.          0.18401758  0.\n",
      "   0.18401758  0.18401758  0.18401758  0.          0.          0.18401758\n",
      "   0.18401758  0.          0.18401758  0.          0.          0.26186004\n",
      "   0.18401758  0.18401758  0.18401758  0.18401758  0.          0.18401758\n",
      "   0.18401758  0.        ]\n",
      " [ 0.15904862  0.          0.15904862  0.15904862  0.15904862  0.15904862\n",
      "   0.47714585  0.          0.          0.          0.15904862  0.\n",
      "   0.2263288   0.          0.15904862  0.15904862  0.15904862  0.\n",
      "   0.15904862  0.          0.          0.          0.47714585  0.31809723\n",
      "   0.          0.          0.15904862  0.          0.15904862  0.15904862\n",
      "   0.1131644   0.          0.          0.          0.          0.15904862\n",
      "   0.          0.          0.15904862]]\n"
     ]
    }
   ],
   "source": [
    "# Tf–idf term weighting using TfidfVectorizer\n",
    "tfidf_vectorizer = TfidfVectorizer()\n",
    "tfidf_matrix = tfidf_vectorizer.fit_transform(corpus)\n",
    "feature_array = np.array(tfidf_vectorizer.get_feature_names())\n",
    "print(\"Bag of Words:\",feature_array.shape)\n",
    "print(feature_array)\n",
    "print(\"TF-IDF Matrix:\",tfidf_matrix.shape)\n",
    "tfidf_array = tfidf_matrix.toarray()\n",
    "print(tfidf_array)"
   ]
  },
  {
   "cell_type": "code",
   "execution_count": 129,
   "metadata": {},
   "outputs": [
    {
     "name": "stdout",
     "output_type": "stream",
     "text": [
      "[[ 0.          0.          0.          0.          0.          0.          0.\n",
      "   0.81480247  0.          0.          0.          0.          0.          0.\n",
      "   0.          0.          0.          0.          0.          0.          0.\n",
      "   0.          0.          0.          0.          0.          0.          0.\n",
      "   0.          0.          0.57973867  0.          0.          0.          0.\n",
      "   0.          0.          0.          0.        ]]\n"
     ]
    }
   ],
   "source": [
    "question_text = \"what is data science?\"\n",
    "# Tokenize\n",
    "tokens = tokenize_text(question_text,remove_stop_words=True,stem_words=True,filter_short_token=1)\n",
    "cleaned_context_text = ' '.join(tokens)\n",
    "question_vector = tfidf_vectorizer.transform([cleaned_context_text])\n",
    "question_array = question_vector.toarray()\n",
    "print(question_array)"
   ]
  },
  {
   "cell_type": "code",
   "execution_count": 130,
   "metadata": {},
   "outputs": [],
   "source": [
    "# Find Cosine Similarity of question with all the contexts\n",
    "cs = cosine_similarity(question_vector, tfidf_matrix)"
   ]
  },
  {
   "cell_type": "code",
   "execution_count": 131,
   "metadata": {},
   "outputs": [
    {
     "data": {
      "text/plain": [
       "array([[ 0.60162432,  0.06560578]])"
      ]
     },
     "execution_count": 131,
     "metadata": {},
     "output_type": "execute_result"
    }
   ],
   "source": [
    "cs"
   ]
  },
  {
   "cell_type": "markdown",
   "metadata": {},
   "source": [
    "### Read Trained Models"
   ]
  },
  {
   "cell_type": "code",
   "execution_count": 144,
   "metadata": {},
   "outputs": [
    {
     "name": "stdout",
     "output_type": "stream",
     "text": [
      "['../allennlp/train_out/model02.tar.gz', '../allennlp/train_out/model04.tar.gz', '../allennlp/train_out/model01.tar.gz', '../allennlp/train_out/model03.tar.gz', '../allennlp/train_out/bidaf-model-2017.09.15-charpad.tar.gz']\n"
     ]
    }
   ],
   "source": [
    "print(glob.glob(\"../allennlp/train_out/*.gz\"))"
   ]
  },
  {
   "cell_type": "code",
   "execution_count": 145,
   "metadata": {},
   "outputs": [
    {
     "name": "stdout",
     "output_type": "stream",
     "text": [
      "['.DS_Store', 'model02.tar.gz', 'Icon\\r', 'model04.tar.gz', 'model01.tar.gz', 'model03.tar.gz', 'bidaf-model-2017.09.15-charpad.tar.gz']\n"
     ]
    }
   ],
   "source": [
    "import os\n",
    "models = os.listdir(\"../allennlp/train_out\")\n",
    "print(models)"
   ]
  },
  {
   "cell_type": "code",
   "execution_count": null,
   "metadata": {},
   "outputs": [],
   "source": []
  }
 ],
 "metadata": {
  "kernelspec": {
   "display_name": "Python 3",
   "language": "python",
   "name": "python3"
  },
  "language_info": {
   "codemirror_mode": {
    "name": "ipython",
    "version": 3
   },
   "file_extension": ".py",
   "mimetype": "text/x-python",
   "name": "python",
   "nbconvert_exporter": "python",
   "pygments_lexer": "ipython3",
   "version": "3.6.2"
  }
 },
 "nbformat": 4,
 "nbformat_minor": 2
}
