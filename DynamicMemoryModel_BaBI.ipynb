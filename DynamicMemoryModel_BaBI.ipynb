{
 "cells": [
  {
   "cell_type": "code",
   "execution_count": 1,
   "metadata": {},
   "outputs": [
    {
     "name": "stderr",
     "output_type": "stream",
     "text": [
      "Using TensorFlow backend.\n"
     ]
    }
   ],
   "source": [
    "from __future__ import print_function\n",
    "\n",
    "from keras.models import Sequential, Model\n",
    "from keras.layers.embeddings import Embedding\n",
    "from keras.layers import Input, Activation, Dense, Permute, Dropout, add, dot, concatenate\n",
    "from keras.layers import LSTM\n",
    "from keras.utils.data_utils import get_file\n",
    "from keras.preprocessing.sequence import pad_sequences\n",
    "from functools import reduce\n",
    "import tarfile\n",
    "import numpy as np\n",
    "import re\n",
    "\n",
    "from nltk.tokenize import word_tokenize"
   ]
  },
  {
   "cell_type": "code",
   "execution_count": 2,
   "metadata": {
    "collapsed": true
   },
   "outputs": [],
   "source": [
    "def tokenize(sent):\n",
    "    '''Return the tokens of a sentence including punctuation.\n",
    "    >>> tokenize('Bob dropped the apple. Where is the apple?')\n",
    "    ['Bob', 'dropped', 'the', 'apple', '.', 'Where', 'is', 'the', 'apple', '?']\n",
    "    '''\n",
    "    return [x.strip() for x in re.split('(\\W+)?', sent) if x.strip()]"
   ]
  },
  {
   "cell_type": "code",
   "execution_count": 3,
   "metadata": {},
   "outputs": [
    {
     "data": {
      "text/plain": [
       "['Bob', 'dropped', 'the', 'apple', '.', 'Where', 'is', 'the', 'apple', '?']"
      ]
     },
     "execution_count": 3,
     "metadata": {},
     "output_type": "execute_result"
    }
   ],
   "source": [
    "word_tokenize('Bob dropped the apple. Where is the apple?')"
   ]
  },
  {
   "cell_type": "code",
   "execution_count": 4,
   "metadata": {
    "collapsed": true
   },
   "outputs": [],
   "source": [
    "def parse_stories(lines, only_supporting=False):\n",
    "    '''Parse stories provided in the bAbi tasks format\n",
    "    If only_supporting is true, only the sentences\n",
    "    that support the answer are kept.\n",
    "    '''\n",
    "    data = []\n",
    "    story = []\n",
    "    for line in lines:\n",
    "        line = line.decode('utf-8').strip()\n",
    "        nid, line = line.split(' ', 1)\n",
    "        #print(nid)\n",
    "        #print(line)\n",
    "        nid = int(nid)\n",
    "        if nid == 1:\n",
    "            story = []\n",
    "        if '\\t' in line:\n",
    "            q, a, supporting = line.split('\\t')\n",
    "            #print(q, a , supporting)\n",
    "            q = tokenize(q)\n",
    "            substory = None\n",
    "            if only_supporting:\n",
    "                # Only select the related substory\n",
    "                supporting = map(int, supporting.split())\n",
    "                substory = [story[i - 1] for i in supporting]\n",
    "                #print(substory)\n",
    "            else:\n",
    "                # Provide all the substories\n",
    "                substory = [x for x in story if x]\n",
    "                #print(substory)\n",
    "            data.append((substory, q, a))\n",
    "            story.append('')\n",
    "        else:\n",
    "            sent = tokenize(line)\n",
    "            story.append(sent)\n",
    "    return data"
   ]
  },
  {
   "cell_type": "code",
   "execution_count": 5,
   "metadata": {
    "collapsed": true
   },
   "outputs": [],
   "source": [
    "def get_stories(f, only_supporting=False, max_length=None):\n",
    "    '''Given a file name, read the file,\n",
    "    retrieve the stories,\n",
    "    and then convert the sentences into a single story.\n",
    "    If max_length is supplied,\n",
    "    any stories longer than max_length tokens will be discarded.\n",
    "    '''\n",
    "    data = parse_stories(f.readlines(), only_supporting=only_supporting)\n",
    "    flatten = lambda data: reduce(lambda x, y: x + y, data)\n",
    "    data = [(flatten(story), q, answer) for story, q, answer in data if not max_length or len(flatten(story)) < max_length]\n",
    "    return data"
   ]
  },
  {
   "cell_type": "code",
   "execution_count": 6,
   "metadata": {
    "collapsed": true
   },
   "outputs": [],
   "source": [
    "def vectorize_stories(data, word_idx, story_maxlen, query_maxlen):\n",
    "    X = []\n",
    "    Xq = []\n",
    "    Y = []\n",
    "    for story, query, answer in data:\n",
    "        x = [word_idx[w] for w in story]\n",
    "        xq = [word_idx[w] for w in query]\n",
    "        # let's not forget that index 0 is reserved\n",
    "        y = np.zeros(len(word_idx) + 1)\n",
    "        y[word_idx[answer]] = 1\n",
    "        X.append(x)\n",
    "        Xq.append(xq)\n",
    "        Y.append(y)\n",
    "    return (pad_sequences(X, maxlen=story_maxlen),\n",
    "            pad_sequences(Xq, maxlen=query_maxlen), np.array(Y))"
   ]
  },
  {
   "cell_type": "code",
   "execution_count": 7,
   "metadata": {
    "collapsed": true
   },
   "outputs": [],
   "source": [
    "try:\n",
    "    path = get_file('babi-tasks-v1-2.tar.gz', origin='https://s3.amazonaws.com/text-datasets/babi_tasks_1-20_v1-2.tar.gz')\n",
    "except:\n",
    "    print('Error downloading dataset, please download it manually:\\n'\n",
    "          '$ wget http://www.thespermwhale.com/jaseweston/babi/tasks_1-20_v1-2.tar.gz\\n'\n",
    "          '$ mv tasks_1-20_v1-2.tar.gz ~/.keras/datasets/babi-tasks-v1-2.tar.gz')\n",
    "    raise\n",
    "tar = tarfile.open(path)"
   ]
  },
  {
   "cell_type": "code",
   "execution_count": 8,
   "metadata": {
    "collapsed": true
   },
   "outputs": [],
   "source": [
    "challenges = {\n",
    "    # QA1 with 10,000 samples\n",
    "    'single_supporting_fact_10k': 'tasks_1-20_v1-2/en-10k/qa1_single-supporting-fact_{}.txt',\n",
    "    # QA2 with 10,000 samples\n",
    "    'two_supporting_facts_10k': 'tasks_1-20_v1-2/en-10k/qa2_two-supporting-facts_{}.txt',\n",
    "}\n",
    "\n",
    "challenge_type = 'single_supporting_fact_10k'\n",
    "challenge = challenges[challenge_type]"
   ]
  },
  {
   "cell_type": "code",
   "execution_count": 9,
   "metadata": {},
   "outputs": [
    {
     "data": {
      "text/plain": [
       "<ExFileObject name='/Users/madhavthaker/.keras/datasets/babi-tasks-v1-2.tar.gz'>"
      ]
     },
     "execution_count": 9,
     "metadata": {},
     "output_type": "execute_result"
    }
   ],
   "source": [
    "tar.extractfile(challenge.format('train'))"
   ]
  },
  {
   "cell_type": "code",
   "execution_count": 10,
   "metadata": {},
   "outputs": [
    {
     "name": "stderr",
     "output_type": "stream",
     "text": [
      "/anaconda3/lib/python3.6/re.py:212: FutureWarning: split() requires a non-empty pattern match.\n",
      "  return _compile(pattern, flags).split(string, maxsplit)\n"
     ]
    }
   ],
   "source": [
    "train_stories = get_stories(tar.extractfile(challenge.format('train')))\n",
    "test_stories = get_stories(tar.extractfile(challenge.format('test')))"
   ]
  },
  {
   "cell_type": "code",
   "execution_count": 26,
   "metadata": {},
   "outputs": [],
   "source": [
    "vocab = set()\n",
    "for story, q, answer in train_stories + test_stories:\n",
    "    vocab |= set(story + q + [answer])\n",
    "vocab = sorted(vocab)"
   ]
  },
  {
   "cell_type": "code",
   "execution_count": 45,
   "metadata": {},
   "outputs": [
    {
     "name": "stdout",
     "output_type": "stream",
     "text": [
      "['.', '?', 'Daniel', 'John', 'Mary', 'Sandra', 'Where', 'back', 'bathroom', 'bedroom', 'garden', 'hallway', 'is', 'journeyed', 'kitchen', 'moved', 'office', 'the', 'to', 'travelled', 'went']\n"
     ]
    }
   ],
   "source": [
    "print (vocab)"
   ]
  },
  {
   "cell_type": "code",
   "execution_count": 12,
   "metadata": {
    "collapsed": true
   },
   "outputs": [],
   "source": [
    "# Reserve 0 for masking via pad_sequences\n",
    "vocab_size = len(vocab) + 1\n",
    "story_maxlen = max(map(len, (x for x, _, _ in train_stories + test_stories)))\n",
    "query_maxlen = max(map(len, (x for _, x, _ in train_stories + test_stories)))"
   ]
  },
  {
   "cell_type": "code",
   "execution_count": 13,
   "metadata": {},
   "outputs": [
    {
     "name": "stdout",
     "output_type": "stream",
     "text": [
      "22 68 4\n"
     ]
    }
   ],
   "source": [
    "print(vocab_size, story_maxlen, query_maxlen)"
   ]
  },
  {
   "cell_type": "code",
   "execution_count": 14,
   "metadata": {
    "collapsed": true
   },
   "outputs": [],
   "source": [
    "# Reserve 0 for masking via pad_sequences\n",
    "vocab_size = len(vocab) + 1\n",
    "story_maxlen = max(map(len, (x for x, _, _ in train_stories + test_stories)))\n",
    "query_maxlen = max(map(len, (x for _, x, _ in train_stories + test_stories)))"
   ]
  },
  {
   "cell_type": "code",
   "execution_count": 15,
   "metadata": {
    "collapsed": true
   },
   "outputs": [],
   "source": [
    "word_idx = dict((c, i + 1) for i, c in enumerate(vocab))\n",
    "inputs_train, queries_train, answers_train = vectorize_stories(train_stories,\n",
    "                                                               word_idx,\n",
    "                                                               story_maxlen,\n",
    "                                                               query_maxlen)\n",
    "inputs_test, queries_test, answers_test = vectorize_stories(test_stories,\n",
    "                                                            word_idx,\n",
    "                                                            story_maxlen,\n",
    "                                                            query_maxlen)"
   ]
  },
  {
   "cell_type": "code",
   "execution_count": 16,
   "metadata": {},
   "outputs": [
    {
     "name": "stdout",
     "output_type": "stream",
     "text": [
      "-\n",
      "inputs: integer tensor of shape (samples, max_length)\n",
      "inputs_train shape: (10000, 68)\n",
      "inputs_test shape: (1000, 68)\n",
      "-\n",
      "queries: integer tensor of shape (samples, max_length)\n",
      "queries_train shape: (10000, 4)\n",
      "queries_test shape: (1000, 4)\n",
      "-\n",
      "answers: binary (1 or 0) tensor of shape (samples, vocab_size)\n",
      "answers_train shape: (10000, 22)\n",
      "answers_test shape: (1000, 22)\n",
      "-\n",
      "Compiling...\n"
     ]
    }
   ],
   "source": [
    "print('-')\n",
    "print('inputs: integer tensor of shape (samples, max_length)')\n",
    "print('inputs_train shape:', inputs_train.shape)\n",
    "print('inputs_test shape:', inputs_test.shape)\n",
    "print('-')\n",
    "print('queries: integer tensor of shape (samples, max_length)')\n",
    "print('queries_train shape:', queries_train.shape)\n",
    "print('queries_test shape:', queries_test.shape)\n",
    "print('-')\n",
    "print('answers: binary (1 or 0) tensor of shape (samples, vocab_size)')\n",
    "print('answers_train shape:', answers_train.shape)\n",
    "print('answers_test shape:', answers_test.shape)\n",
    "print('-')\n",
    "print('Compiling...')"
   ]
  },
  {
   "cell_type": "code",
   "execution_count": 17,
   "metadata": {
    "collapsed": true
   },
   "outputs": [],
   "source": [
    "# placeholders\n",
    "input_sequence = Input((story_maxlen,))\n",
    "question = Input((query_maxlen,))\n",
    "\n",
    "# encoders\n",
    "# embed the input sequence into a sequence of vectors\n",
    "input_encoder_m = Sequential()\n",
    "input_encoder_m.add(Embedding(input_dim=vocab_size,\n",
    "                              output_dim=64))\n",
    "input_encoder_m.add(Dropout(0.3))\n",
    "# output: (samples, story_maxlen, embedding_dim)\n",
    "\n",
    "# embed the input into a sequence of vectors of size query_maxlen\n",
    "input_encoder_c = Sequential()\n",
    "input_encoder_c.add(Embedding(input_dim=vocab_size,\n",
    "                              output_dim=query_maxlen))\n",
    "input_encoder_c.add(Dropout(0.3))\n",
    "# output: (samples, story_maxlen, query_maxlen)\n",
    "\n",
    "# embed the question into a sequence of vectors\n",
    "question_encoder = Sequential()\n",
    "question_encoder.add(Embedding(input_dim=vocab_size,\n",
    "                               output_dim=64,\n",
    "                               input_length=query_maxlen))\n",
    "question_encoder.add(Dropout(0.3))\n",
    "# output: (samples, query_maxlen, embedding_dim)\n",
    "\n",
    "# encode input sequence and questions (which are indices)\n",
    "# to sequences of dense vectors\n",
    "input_encoded_m = input_encoder_m(input_sequence)\n",
    "input_encoded_c = input_encoder_c(input_sequence)\n",
    "question_encoded = question_encoder(question)"
   ]
  },
  {
   "cell_type": "code",
   "execution_count": 18,
   "metadata": {},
   "outputs": [
    {
     "name": "stdout",
     "output_type": "stream",
     "text": [
      "Train on 10000 samples, validate on 1000 samples\n",
      "Epoch 1/120\n",
      "10000/10000 [==============================] - 6s 631us/step - loss: 1.9487 - acc: 0.1715 - val_loss: 1.7802 - val_acc: 0.2670\n",
      "Epoch 2/120\n",
      "10000/10000 [==============================] - 6s 626us/step - loss: 1.7335 - acc: 0.2321 - val_loss: 1.6798 - val_acc: 0.2620\n",
      "Epoch 3/120\n",
      "10000/10000 [==============================] - 7s 682us/step - loss: 1.6703 - acc: 0.2672 - val_loss: 1.6370 - val_acc: 0.3300\n",
      "Epoch 4/120\n",
      "10000/10000 [==============================] - 7s 681us/step - loss: 1.5926 - acc: 0.3421 - val_loss: 1.5124 - val_acc: 0.4070\n",
      "Epoch 5/120\n",
      "10000/10000 [==============================] - 6s 602us/step - loss: 1.5184 - acc: 0.3988 - val_loss: 1.4818 - val_acc: 0.4210\n",
      "Epoch 6/120\n",
      "10000/10000 [==============================] - 6s 590us/step - loss: 1.5052 - acc: 0.4051 - val_loss: 1.4603 - val_acc: 0.4400\n",
      "Epoch 7/120\n",
      "10000/10000 [==============================] - 6s 583us/step - loss: 1.4735 - acc: 0.4334 - val_loss: 1.4031 - val_acc: 0.4700\n",
      "Epoch 8/120\n",
      "10000/10000 [==============================] - 6s 595us/step - loss: 1.4162 - acc: 0.4572 - val_loss: 1.3542 - val_acc: 0.4860\n",
      "Epoch 9/120\n",
      "10000/10000 [==============================] - 7s 664us/step - loss: 1.3816 - acc: 0.4699 - val_loss: 1.3531 - val_acc: 0.4870\n",
      "Epoch 10/120\n",
      "10000/10000 [==============================] - 7s 686us/step - loss: 1.3608 - acc: 0.4704 - val_loss: 1.3597 - val_acc: 0.4810\n",
      "Epoch 11/120\n",
      "10000/10000 [==============================] - 7s 653us/step - loss: 1.3506 - acc: 0.4724 - val_loss: 1.3414 - val_acc: 0.4760\n",
      "Epoch 12/120\n",
      "10000/10000 [==============================] - 7s 691us/step - loss: 1.3415 - acc: 0.4806 - val_loss: 1.3254 - val_acc: 0.5030\n",
      "Epoch 13/120\n",
      "10000/10000 [==============================] - 7s 697us/step - loss: 1.3288 - acc: 0.4891 - val_loss: 1.3351 - val_acc: 0.5000\n",
      "Epoch 14/120\n",
      "10000/10000 [==============================] - 7s 702us/step - loss: 1.3142 - acc: 0.4960 - val_loss: 1.2971 - val_acc: 0.5020\n",
      "Epoch 15/120\n",
      "10000/10000 [==============================] - 7s 722us/step - loss: 1.3120 - acc: 0.4938 - val_loss: 1.2905 - val_acc: 0.5080\n",
      "Epoch 16/120\n",
      "10000/10000 [==============================] - 7s 685us/step - loss: 1.2996 - acc: 0.5019 - val_loss: 1.2945 - val_acc: 0.4970\n",
      "Epoch 17/120\n",
      "10000/10000 [==============================] - 7s 675us/step - loss: 1.2843 - acc: 0.5005 - val_loss: 1.2479 - val_acc: 0.5060\n",
      "Epoch 18/120\n",
      "10000/10000 [==============================] - 7s 707us/step - loss: 1.2713 - acc: 0.5075 - val_loss: 1.2502 - val_acc: 0.5140\n",
      "Epoch 19/120\n",
      "10000/10000 [==============================] - 7s 703us/step - loss: 1.2594 - acc: 0.5108 - val_loss: 1.2388 - val_acc: 0.5140\n",
      "Epoch 20/120\n",
      "10000/10000 [==============================] - 7s 677us/step - loss: 1.2559 - acc: 0.5135 - val_loss: 1.2373 - val_acc: 0.5160\n",
      "Epoch 21/120\n",
      "10000/10000 [==============================] - 7s 670us/step - loss: 1.2571 - acc: 0.5115 - val_loss: 1.2411 - val_acc: 0.5140\n",
      "Epoch 22/120\n",
      "10000/10000 [==============================] - 6s 648us/step - loss: 1.2448 - acc: 0.5165 - val_loss: 1.2207 - val_acc: 0.5220\n",
      "Epoch 23/120\n",
      "10000/10000 [==============================] - 7s 676us/step - loss: 1.2404 - acc: 0.5187 - val_loss: 1.2207 - val_acc: 0.5260\n",
      "Epoch 24/120\n",
      "10000/10000 [==============================] - 6s 630us/step - loss: 1.2282 - acc: 0.5195 - val_loss: 1.2154 - val_acc: 0.5250\n",
      "Epoch 25/120\n",
      "10000/10000 [==============================] - 6s 638us/step - loss: 1.2316 - acc: 0.5146 - val_loss: 1.2106 - val_acc: 0.5210\n",
      "Epoch 26/120\n",
      "10000/10000 [==============================] - 7s 666us/step - loss: 1.2213 - acc: 0.5253 - val_loss: 1.2133 - val_acc: 0.5120\n",
      "Epoch 27/120\n",
      "10000/10000 [==============================] - 7s 676us/step - loss: 1.2185 - acc: 0.5199 - val_loss: 1.1986 - val_acc: 0.5140\n",
      "Epoch 28/120\n",
      "10000/10000 [==============================] - 7s 685us/step - loss: 1.2131 - acc: 0.5289 - val_loss: 1.2072 - val_acc: 0.5100\n",
      "Epoch 29/120\n",
      "10000/10000 [==============================] - 7s 685us/step - loss: 1.2052 - acc: 0.5244 - val_loss: 1.2031 - val_acc: 0.5230\n",
      "Epoch 30/120\n",
      "10000/10000 [==============================] - 7s 659us/step - loss: 1.1947 - acc: 0.5293 - val_loss: 1.2009 - val_acc: 0.5150\n",
      "Epoch 31/120\n",
      "10000/10000 [==============================] - 7s 677us/step - loss: 1.2030 - acc: 0.5202 - val_loss: 1.2236 - val_acc: 0.5170\n",
      "Epoch 32/120\n",
      "10000/10000 [==============================] - 6s 643us/step - loss: 1.1889 - acc: 0.5312 - val_loss: 1.1920 - val_acc: 0.5090\n",
      "Epoch 33/120\n",
      "10000/10000 [==============================] - 7s 656us/step - loss: 1.1826 - acc: 0.5299 - val_loss: 1.1985 - val_acc: 0.5180\n",
      "Epoch 34/120\n",
      "10000/10000 [==============================] - 7s 668us/step - loss: 1.1768 - acc: 0.5348 - val_loss: 1.2008 - val_acc: 0.5060\n",
      "Epoch 35/120\n",
      "10000/10000 [==============================] - 7s 666us/step - loss: 1.1766 - acc: 0.5325 - val_loss: 1.1993 - val_acc: 0.5250\n",
      "Epoch 36/120\n",
      "10000/10000 [==============================] - 7s 682us/step - loss: 1.1661 - acc: 0.5354 - val_loss: 1.1815 - val_acc: 0.5060\n",
      "Epoch 37/120\n",
      "10000/10000 [==============================] - 7s 670us/step - loss: 1.1602 - acc: 0.5309 - val_loss: 1.1862 - val_acc: 0.5190\n",
      "Epoch 38/120\n",
      "10000/10000 [==============================] - 6s 642us/step - loss: 1.1585 - acc: 0.5298 - val_loss: 1.1848 - val_acc: 0.5120\n",
      "Epoch 39/120\n",
      "10000/10000 [==============================] - 7s 668us/step - loss: 1.1360 - acc: 0.5430 - val_loss: 1.1646 - val_acc: 0.5080\n",
      "Epoch 40/120\n",
      "10000/10000 [==============================] - 7s 655us/step - loss: 1.1330 - acc: 0.5364 - val_loss: 1.1671 - val_acc: 0.5090\n",
      "Epoch 41/120\n",
      "10000/10000 [==============================] - 7s 679us/step - loss: 1.1133 - acc: 0.5535 - val_loss: 1.1408 - val_acc: 0.5380\n",
      "Epoch 42/120\n",
      "10000/10000 [==============================] - 7s 660us/step - loss: 1.0837 - acc: 0.5698 - val_loss: 1.1013 - val_acc: 0.5580\n",
      "Epoch 43/120\n",
      "10000/10000 [==============================] - 7s 673us/step - loss: 1.0096 - acc: 0.6130 - val_loss: 0.9853 - val_acc: 0.6230\n",
      "Epoch 44/120\n",
      "10000/10000 [==============================] - 7s 666us/step - loss: 0.8860 - acc: 0.6861 - val_loss: 0.8379 - val_acc: 0.7160\n",
      "Epoch 45/120\n",
      "10000/10000 [==============================] - 7s 664us/step - loss: 0.7628 - acc: 0.7341 - val_loss: 0.7456 - val_acc: 0.7360\n",
      "Epoch 46/120\n",
      "10000/10000 [==============================] - 6s 642us/step - loss: 0.7055 - acc: 0.7469 - val_loss: 0.6888 - val_acc: 0.7450\n",
      "Epoch 47/120\n",
      "10000/10000 [==============================] - 6s 644us/step - loss: 0.6569 - acc: 0.7642 - val_loss: 0.6533 - val_acc: 0.7500\n",
      "Epoch 48/120\n",
      "10000/10000 [==============================] - 7s 692us/step - loss: 0.6171 - acc: 0.7713 - val_loss: 0.5945 - val_acc: 0.7710\n",
      "Epoch 49/120\n",
      "10000/10000 [==============================] - 7s 695us/step - loss: 0.5668 - acc: 0.7987 - val_loss: 0.5699 - val_acc: 0.7880\n",
      "Epoch 50/120\n",
      "10000/10000 [==============================] - 7s 681us/step - loss: 0.5219 - acc: 0.8117 - val_loss: 0.5268 - val_acc: 0.8180 - acc: 0.\n",
      "Epoch 51/120\n",
      "10000/10000 [==============================] - 7s 667us/step - loss: 0.4808 - acc: 0.8263 - val_loss: 0.4814 - val_acc: 0.8150\n",
      "Epoch 52/120\n",
      "10000/10000 [==============================] - 7s 666us/step - loss: 0.4577 - acc: 0.8352 - val_loss: 0.4356 - val_acc: 0.8390\n",
      "Epoch 53/120\n",
      "10000/10000 [==============================] - 7s 685us/step - loss: 0.4299 - acc: 0.8422 - val_loss: 0.4408 - val_acc: 0.8510\n",
      "Epoch 54/120\n",
      "10000/10000 [==============================] - 7s 681us/step - loss: 0.4068 - acc: 0.8523 - val_loss: 0.4034 - val_acc: 0.8620\n",
      "Epoch 55/120\n",
      "10000/10000 [==============================] - 7s 680us/step - loss: 0.3877 - acc: 0.8595 - val_loss: 0.4443 - val_acc: 0.8430\n",
      "Epoch 56/120\n",
      "10000/10000 [==============================] - 7s 709us/step - loss: 0.3666 - acc: 0.8667 - val_loss: 0.4033 - val_acc: 0.8580\n",
      "Epoch 57/120\n",
      "10000/10000 [==============================] - 6s 649us/step - loss: 0.3582 - acc: 0.8694 - val_loss: 0.3785 - val_acc: 0.8670\n",
      "Epoch 58/120\n",
      "10000/10000 [==============================] - 7s 676us/step - loss: 0.3405 - acc: 0.8770 - val_loss: 0.3795 - val_acc: 0.8600\n",
      "Epoch 59/120\n"
     ]
    },
    {
     "name": "stdout",
     "output_type": "stream",
     "text": [
      "10000/10000 [==============================] - 6s 643us/step - loss: 0.3310 - acc: 0.8795 - val_loss: 0.3922 - val_acc: 0.8590\n",
      "Epoch 60/120\n",
      "10000/10000 [==============================] - 7s 668us/step - loss: 0.3221 - acc: 0.8831 - val_loss: 0.3522 - val_acc: 0.8720\n",
      "Epoch 61/120\n",
      "10000/10000 [==============================] - 7s 738us/step - loss: 0.3155 - acc: 0.8850 - val_loss: 0.3538 - val_acc: 0.8630\n",
      "Epoch 62/120\n",
      "10000/10000 [==============================] - 7s 742us/step - loss: 0.2951 - acc: 0.8898 - val_loss: 0.3392 - val_acc: 0.8690\n",
      "Epoch 63/120\n",
      "10000/10000 [==============================] - 7s 725us/step - loss: 0.2999 - acc: 0.8919 - val_loss: 0.3281 - val_acc: 0.8790\n",
      "Epoch 64/120\n",
      "10000/10000 [==============================] - 7s 709us/step - loss: 0.2903 - acc: 0.8928 - val_loss: 0.3192 - val_acc: 0.8830\n",
      "Epoch 65/120\n",
      "10000/10000 [==============================] - 7s 739us/step - loss: 0.2722 - acc: 0.9012 - val_loss: 0.3088 - val_acc: 0.8920\n",
      "Epoch 66/120\n",
      "10000/10000 [==============================] - 7s 695us/step - loss: 0.2691 - acc: 0.9030 - val_loss: 0.3333 - val_acc: 0.8770\n",
      "Epoch 67/120\n",
      "10000/10000 [==============================] - 7s 670us/step - loss: 0.2550 - acc: 0.9069 - val_loss: 0.3419 - val_acc: 0.8750\n",
      "Epoch 68/120\n",
      "10000/10000 [==============================] - 7s 719us/step - loss: 0.2500 - acc: 0.9083 - val_loss: 0.2749 - val_acc: 0.9060\n",
      "Epoch 69/120\n",
      "10000/10000 [==============================] - 7s 685us/step - loss: 0.2393 - acc: 0.9133 - val_loss: 0.3090 - val_acc: 0.8910\n",
      "Epoch 70/120\n",
      "10000/10000 [==============================] - 7s 683us/step - loss: 0.2282 - acc: 0.9160 - val_loss: 0.3260 - val_acc: 0.8900\n",
      "Epoch 71/120\n",
      "10000/10000 [==============================] - 7s 711us/step - loss: 0.2203 - acc: 0.9192 - val_loss: 0.2734 - val_acc: 0.9070\n",
      "Epoch 72/120\n",
      "10000/10000 [==============================] - 7s 704us/step - loss: 0.2070 - acc: 0.9227 - val_loss: 0.2439 - val_acc: 0.9110\n",
      "Epoch 73/120\n",
      "10000/10000 [==============================] - 7s 689us/step - loss: 0.2035 - acc: 0.9281 - val_loss: 0.2379 - val_acc: 0.9170\n",
      "Epoch 74/120\n",
      "10000/10000 [==============================] - 7s 695us/step - loss: 0.1899 - acc: 0.9287 - val_loss: 0.2350 - val_acc: 0.9130\n",
      "Epoch 75/120\n",
      "10000/10000 [==============================] - 7s 681us/step - loss: 0.1831 - acc: 0.9334 - val_loss: 0.2188 - val_acc: 0.9240\n",
      "Epoch 76/120\n",
      "10000/10000 [==============================] - 7s 666us/step - loss: 0.1808 - acc: 0.9356 - val_loss: 0.2348 - val_acc: 0.9160\n",
      "Epoch 77/120\n",
      "10000/10000 [==============================] - 7s 719us/step - loss: 0.1721 - acc: 0.9411 - val_loss: 0.2321 - val_acc: 0.9210s \n",
      "Epoch 78/120\n",
      "10000/10000 [==============================] - 7s 660us/step - loss: 0.1695 - acc: 0.9388 - val_loss: 0.2302 - val_acc: 0.9240\n",
      "Epoch 79/120\n",
      "10000/10000 [==============================] - 7s 677us/step - loss: 0.1744 - acc: 0.9411 - val_loss: 0.2556 - val_acc: 0.9200\n",
      "Epoch 80/120\n",
      "10000/10000 [==============================] - 7s 690us/step - loss: 0.1587 - acc: 0.9456 - val_loss: 0.2018 - val_acc: 0.9290\n",
      "Epoch 81/120\n",
      "10000/10000 [==============================] - 7s 696us/step - loss: 0.1521 - acc: 0.9442 - val_loss: 0.2025 - val_acc: 0.9340\n",
      "Epoch 82/120\n",
      "10000/10000 [==============================] - 7s 693us/step - loss: 0.1445 - acc: 0.9485 - val_loss: 0.1967 - val_acc: 0.9350\n",
      "Epoch 83/120\n",
      "10000/10000 [==============================] - 7s 689us/step - loss: 0.1508 - acc: 0.9460 - val_loss: 0.1843 - val_acc: 0.9430\n",
      "Epoch 84/120\n",
      "10000/10000 [==============================] - 7s 678us/step - loss: 0.1454 - acc: 0.9501 - val_loss: 0.2383 - val_acc: 0.9240\n",
      "Epoch 85/120\n",
      "10000/10000 [==============================] - 7s 687us/step - loss: 0.1380 - acc: 0.9531 - val_loss: 0.2075 - val_acc: 0.9340\n",
      "Epoch 86/120\n",
      "10000/10000 [==============================] - 7s 670us/step - loss: 0.1282 - acc: 0.9556 - val_loss: 0.1953 - val_acc: 0.9380\n",
      "Epoch 87/120\n",
      "10000/10000 [==============================] - 7s 685us/step - loss: 0.1316 - acc: 0.9551 - val_loss: 0.1947 - val_acc: 0.9360\n",
      "Epoch 88/120\n",
      "10000/10000 [==============================] - 7s 661us/step - loss: 0.1258 - acc: 0.9574 - val_loss: 0.2173 - val_acc: 0.9300\n",
      "Epoch 89/120\n",
      "10000/10000 [==============================] - 7s 664us/step - loss: 0.1294 - acc: 0.9538 - val_loss: 0.2054 - val_acc: 0.9360\n",
      "Epoch 90/120\n",
      "10000/10000 [==============================] - 7s 661us/step - loss: 0.1215 - acc: 0.9578 - val_loss: 0.2171 - val_acc: 0.9260\n",
      "Epoch 91/120\n",
      "10000/10000 [==============================] - 7s 661us/step - loss: 0.1175 - acc: 0.9600 - val_loss: 0.1985 - val_acc: 0.9370\n",
      "Epoch 92/120\n",
      "10000/10000 [==============================] - 7s 681us/step - loss: 0.1188 - acc: 0.9583 - val_loss: 0.1860 - val_acc: 0.9380\n",
      "Epoch 93/120\n",
      "10000/10000 [==============================] - 7s 711us/step - loss: 0.1101 - acc: 0.9630 - val_loss: 0.1909 - val_acc: 0.9440\n",
      "Epoch 94/120\n",
      "10000/10000 [==============================] - 7s 673us/step - loss: 0.1121 - acc: 0.9634 - val_loss: 0.2438 - val_acc: 0.9390\n",
      "Epoch 95/120\n",
      "10000/10000 [==============================] - 7s 691us/step - loss: 0.1080 - acc: 0.9628 - val_loss: 0.2383 - val_acc: 0.9260\n",
      "Epoch 96/120\n",
      "10000/10000 [==============================] - 7s 682us/step - loss: 0.1056 - acc: 0.9652 - val_loss: 0.1824 - val_acc: 0.9480\n",
      "Epoch 97/120\n",
      "10000/10000 [==============================] - 7s 693us/step - loss: 0.1088 - acc: 0.9638 - val_loss: 0.1941 - val_acc: 0.9390\n",
      "Epoch 98/120\n",
      "10000/10000 [==============================] - 7s 676us/step - loss: 0.0945 - acc: 0.9666 - val_loss: 0.1607 - val_acc: 0.9510\n",
      "Epoch 99/120\n",
      "10000/10000 [==============================] - 7s 680us/step - loss: 0.1017 - acc: 0.9658 - val_loss: 0.1813 - val_acc: 0.9430\n",
      "Epoch 100/120\n",
      "10000/10000 [==============================] - 7s 703us/step - loss: 0.0994 - acc: 0.9657 - val_loss: 0.1626 - val_acc: 0.9490\n",
      "Epoch 101/120\n",
      "10000/10000 [==============================] - 7s 662us/step - loss: 0.0949 - acc: 0.9681 - val_loss: 0.1779 - val_acc: 0.9430\n",
      "Epoch 102/120\n",
      "10000/10000 [==============================] - 7s 659us/step - loss: 0.0896 - acc: 0.9697 - val_loss: 0.1966 - val_acc: 0.9380\n",
      "Epoch 103/120\n",
      "10000/10000 [==============================] - 7s 691us/step - loss: 0.0849 - acc: 0.9712 - val_loss: 0.1811 - val_acc: 0.9460\n",
      "Epoch 104/120\n",
      "10000/10000 [==============================] - 7s 709us/step - loss: 0.0893 - acc: 0.9706 - val_loss: 0.1732 - val_acc: 0.9530\n",
      "Epoch 105/120\n",
      "10000/10000 [==============================] - 7s 707us/step - loss: 0.0914 - acc: 0.9682 - val_loss: 0.1763 - val_acc: 0.9480\n",
      "Epoch 106/120\n",
      "10000/10000 [==============================] - 7s 679us/step - loss: 0.0825 - acc: 0.9700 - val_loss: 0.1786 - val_acc: 0.9480\n",
      "Epoch 107/120\n",
      "10000/10000 [==============================] - 7s 713us/step - loss: 0.0865 - acc: 0.9703 - val_loss: 0.1873 - val_acc: 0.9400\n",
      "Epoch 108/120\n",
      "10000/10000 [==============================] - 7s 696us/step - loss: 0.0827 - acc: 0.9729 - val_loss: 0.1596 - val_acc: 0.9560\n",
      "Epoch 109/120\n",
      "10000/10000 [==============================] - 7s 659us/step - loss: 0.0832 - acc: 0.9705 - val_loss: 0.1642 - val_acc: 0.9540\n",
      "Epoch 110/120\n",
      "10000/10000 [==============================] - 7s 653us/step - loss: 0.0841 - acc: 0.9721 - val_loss: 0.2047 - val_acc: 0.9420 0s - loss: 0.0841 - acc\n",
      "Epoch 111/120\n",
      "10000/10000 [==============================] - 7s 661us/step - loss: 0.0729 - acc: 0.9750 - val_loss: 0.1949 - val_acc: 0.9500\n",
      "Epoch 112/120\n",
      "10000/10000 [==============================] - 7s 654us/step - loss: 0.0730 - acc: 0.9740 - val_loss: 0.1734 - val_acc: 0.9450\n",
      "Epoch 113/120\n",
      "10000/10000 [==============================] - 7s 656us/step - loss: 0.0758 - acc: 0.9757 - val_loss: 0.1636 - val_acc: 0.9510\n",
      "Epoch 114/120\n",
      "10000/10000 [==============================] - 7s 671us/step - loss: 0.0768 - acc: 0.9753 - val_loss: 0.1474 - val_acc: 0.9520\n",
      "Epoch 115/120\n",
      "10000/10000 [==============================] - 7s 698us/step - loss: 0.0735 - acc: 0.9760 - val_loss: 0.1562 - val_acc: 0.9520\n",
      "Epoch 116/120\n",
      "10000/10000 [==============================] - 7s 669us/step - loss: 0.0647 - acc: 0.9760 - val_loss: 0.1903 - val_acc: 0.9520\n",
      "Epoch 117/120\n"
     ]
    },
    {
     "name": "stdout",
     "output_type": "stream",
     "text": [
      "10000/10000 [==============================] - 7s 678us/step - loss: 0.0727 - acc: 0.9763 - val_loss: 0.1733 - val_acc: 0.9460\n",
      "Epoch 118/120\n",
      "10000/10000 [==============================] - 7s 658us/step - loss: 0.0680 - acc: 0.9770 - val_loss: 0.1455 - val_acc: 0.9580\n",
      "Epoch 119/120\n",
      "10000/10000 [==============================] - 7s 696us/step - loss: 0.0677 - acc: 0.9779 - val_loss: 0.1513 - val_acc: 0.9520\n",
      "Epoch 120/120\n",
      "10000/10000 [==============================] - 7s 692us/step - loss: 0.0627 - acc: 0.9794 - val_loss: 0.1601 - val_acc: 0.9540\n"
     ]
    },
    {
     "data": {
      "text/plain": [
       "<keras.callbacks.History at 0x1238b1780>"
      ]
     },
     "execution_count": 18,
     "metadata": {},
     "output_type": "execute_result"
    }
   ],
   "source": [
    "\n",
    "# compute a 'match' between the first input vector sequence\n",
    "# and the question vector sequence\n",
    "# shape: `(samples, story_maxlen, query_maxlen)`\n",
    "match = dot([input_encoded_m, question_encoded], axes=(2, 2))\n",
    "match = Activation('softmax')(match)\n",
    "\n",
    "# add the match matrix with the second input vector sequence\n",
    "response = add([match, input_encoded_c])  # (samples, story_maxlen, query_maxlen)\n",
    "response = Permute((2, 1))(response)  # (samples, query_maxlen, story_maxlen)\n",
    "\n",
    "# concatenate the match matrix with the question vector sequence\n",
    "answer = concatenate([response, question_encoded])\n",
    "\n",
    "# the original paper uses a matrix multiplication for this reduction step.\n",
    "# we choose to use a RNN instead.\n",
    "answer = LSTM(32)(answer)  # (samples, 32)\n",
    "\n",
    "# one regularization layer -- more would probably be needed.\n",
    "answer = Dropout(0.3)(answer)\n",
    "answer = Dense(vocab_size)(answer)  # (samples, vocab_size)\n",
    "# we output a probability distribution over the vocabulary\n",
    "answer = Activation('softmax')(answer)\n",
    "\n",
    "# build the final model\n",
    "model = Model([input_sequence, question], answer)\n",
    "model.compile(optimizer='rmsprop', loss='categorical_crossentropy',\n",
    "              metrics=['accuracy'])\n",
    "\n",
    "# train\n",
    "model.fit([inputs_train, queries_train], answers_train,\n",
    "          batch_size=32,\n",
    "          epochs=120,\n",
    "          validation_data=([inputs_test, queries_test], answers_test))"
   ]
  },
  {
   "cell_type": "markdown",
   "metadata": {},
   "source": [
    "Let's test to see how the model performs.\n",
    "\n",
    "We are going to predict the answer to the first question within the testing data set. The conversation and question is as follows:\n",
    "\n",
    "`1 John travelled to the hallway.\n",
    "2 Mary journeyed to the bathroom.\n",
    "3 Where is John? \thallway\t1`"
   ]
  },
  {
   "cell_type": "code",
   "execution_count": 51,
   "metadata": {},
   "outputs": [
    {
     "name": "stdout",
     "output_type": "stream",
     "text": [
      "12\n",
      "12\n"
     ]
    }
   ],
   "source": [
    "print(model.predict([inputs_test, queries_test])[0].argmax())\n",
    "print(answers_test[0].argmax())"
   ]
  },
  {
   "cell_type": "markdown",
   "metadata": {
    "collapsed": true
   },
   "source": [
    "We see that they both provide the indentical answer and to translate to actual text, we first subtract 1 since index zero is reserved. So let us take a look at the 11th index within our vocab list."
   ]
  },
  {
   "cell_type": "code",
   "execution_count": 52,
   "metadata": {},
   "outputs": [
    {
     "name": "stdout",
     "output_type": "stream",
     "text": [
      "hallway\n"
     ]
    }
   ],
   "source": [
    "print(vocab[11])"
   ]
  },
  {
   "cell_type": "markdown",
   "metadata": {},
   "source": [
    "What do you know, the model was able to understand and answer the question properly."
   ]
  },
  {
   "cell_type": "code",
   "execution_count": null,
   "metadata": {
    "collapsed": true
   },
   "outputs": [],
   "source": []
  }
 ],
 "metadata": {
  "kernelspec": {
   "display_name": "Python 3",
   "language": "python",
   "name": "python3"
  },
  "language_info": {
   "codemirror_mode": {
    "name": "ipython",
    "version": 3
   },
   "file_extension": ".py",
   "mimetype": "text/x-python",
   "name": "python",
   "nbconvert_exporter": "python",
   "pygments_lexer": "ipython3",
   "version": "3.6.2"
  }
 },
 "nbformat": 4,
 "nbformat_minor": 2
}
