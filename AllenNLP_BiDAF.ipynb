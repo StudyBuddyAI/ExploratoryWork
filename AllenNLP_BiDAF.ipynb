{
 "cells": [
  {
   "cell_type": "code",
   "execution_count": 1,
   "metadata": {},
   "outputs": [],
   "source": [
    "import argparse\n",
    "from allennlp.service.predictors import DemoModel"
   ]
  },
  {
   "cell_type": "markdown",
   "metadata": {},
   "source": [
    "### Training Model"
   ]
  },
  {
   "cell_type": "code",
   "execution_count": null,
   "metadata": {},
   "outputs": [],
   "source": [
    "# Training - This should be run on command line on AWS to re train the allennlp model\n",
    "python -m allennlp.run train training_config/bidaf2.json -s train_out"
   ]
  },
  {
   "cell_type": "markdown",
   "metadata": {},
   "source": [
    "### Load Trained Model"
   ]
  },
  {
   "cell_type": "code",
   "execution_count": 6,
   "metadata": {},
   "outputs": [],
   "source": [
    "# Machine Comprehension (MC) models answer natural language questions by selecting an answer span within an evidence text.\n",
    "# The AllenNLP MC model is a reimplementation of BiDAF (Seo et al, 2017), or Bi-Directional Attention Flow\n",
    "# , a widely used MC baseline that achieves near state-of-the-art accuracies on the SQuAD dataset.\n",
    "bidaf_model = DemoModel('../allennlp/train_out/bidaf-model-2017.09.15-charpad.tar.gz','machine-comprehension')\n",
    "#bidaf_model = DemoModel('../allennlp/train_out/model01.tar.gz','machine-comprehension')\n",
    "#bidaf_model = DemoModel('../allennlp/train_out/model02.tar.gz','machine-comprehension')\n",
    "#bidaf_model = DemoModel('../allennlp/train_out/model04.tar.gz','machine-comprehension')"
   ]
  },
  {
   "cell_type": "code",
   "execution_count": 7,
   "metadata": {},
   "outputs": [],
   "source": [
    "# predictor\n",
    "predictor = bidaf_model.predictor()"
   ]
  },
  {
   "cell_type": "code",
   "execution_count": 12,
   "metadata": {},
   "outputs": [
    {
     "name": "stdout",
     "output_type": "stream",
     "text": [
      "A reusable launch system (RLS, or reusable launch vehicle, RLV) is a launch system which is capable of launching a payload into space more than once. This contrasts with expendable launch systems, where each launch vehicle is launched once and then discarded. No completely reusable orbital launch system has ever been created. Two partially reusable launch systems were developed, the Space Shuttle and Falcon 9. The Space Shuttle was partially reusable: the orbiter (which included the Space Shuttle main engines and the Orbital Maneuvering System engines), and the two solid rocket boosters were reused after several months of refitting work for each launch. The external tank was discarded after each flight.\n",
      "How many partially reusable launch systems were developed?\n",
      "Two\n"
     ]
    },
    {
     "name": "stderr",
     "output_type": "stream",
     "text": [
      "/Users/shivasj/anaconda/envs/allennlplib/lib/python3.6/site-packages/allennlp/nn/util.py:175: UserWarning: Implicit dimension choice for softmax has been deprecated. Change the call to include dim=X as an argument.\n",
      "  result = torch.nn.functional.softmax(vector * mask)\n"
     ]
    }
   ],
   "source": [
    "# Simple example\n",
    "# Example 1\n",
    "data = {\n",
    "    \"passage\": \"A reusable launch system (RLS, or reusable launch vehicle, RLV) is a launch system which is capable of launching a payload into space more than once. This contrasts with expendable launch systems, where each launch vehicle is launched once and then discarded. No completely reusable orbital launch system has ever been created. Two partially reusable launch systems were developed, the Space Shuttle and Falcon 9. The Space Shuttle was partially reusable: the orbiter (which included the Space Shuttle main engines and the Orbital Maneuvering System engines), and the two solid rocket boosters were reused after several months of refitting work for each launch. The external tank was discarded after each flight.\"\n",
    "    ,\"question\": \"How many partially reusable launch systems were developed?\"\n",
    "}\n",
    "prediction = predictor.predict_json(data)\n",
    "print(data['passage'])\n",
    "print(data['question'])\n",
    "print(prediction['best_span_str'])"
   ]
  },
  {
   "cell_type": "code",
   "execution_count": 11,
   "metadata": {},
   "outputs": [
    {
     "name": "stdout",
     "output_type": "stream",
     "text": [
      "Data science, also known as data-driven science, is an interdisciplinary field about scientific methods, processes, and systems to extract knowledge or insights from data in various forms, either structured or unstructured, similar to data mining. Machine learning is a field of computer science that gives computers the ability to learn without being explicitly programmed. Arthur Samuel, an American pioneer in the field of computer gaming and artificial intelligence, coined the term Machine Learning in 1959 while at IBM. Statistical learning refers to a vast set of tools for understanding data.\n",
      "what is machine learning?\n",
      "a field of computer science\n"
     ]
    },
    {
     "name": "stderr",
     "output_type": "stream",
     "text": [
      "/Users/shivasj/anaconda/envs/allennlplib/lib/python3.6/site-packages/allennlp/nn/util.py:175: UserWarning: Implicit dimension choice for softmax has been deprecated. Change the call to include dim=X as an argument.\n",
      "  result = torch.nn.functional.softmax(vector * mask)\n"
     ]
    }
   ],
   "source": [
    "# Example 2\n",
    "data = {\n",
    "    \"passage\" : \"Data science, also known as data-driven science, is an interdisciplinary field about scientific methods, processes, and systems to extract knowledge or insights from data in various forms, either structured or unstructured, similar to data mining. Machine learning is a field of computer science that gives computers the ability to learn without being explicitly programmed. Arthur Samuel, an American pioneer in the field of computer gaming and artificial intelligence, coined the term Machine Learning in 1959 while at IBM. Statistical learning refers to a vast set of tools for understanding data.\"\n",
    "    ,\"question\": \"what is machine learning?\"\n",
    "}\n",
    "prediction = predictor.predict_json(data)\n",
    "print(data['passage'])\n",
    "print(data['question'])\n",
    "print(prediction['best_span_str'])"
   ]
  },
  {
   "cell_type": "markdown",
   "metadata": {},
   "source": [
    "### Iteration 1 of Re training"
   ]
  },
  {
   "cell_type": "code",
   "execution_count": 13,
   "metadata": {},
   "outputs": [],
   "source": [
    "bidaf_model = DemoModel('../allennlp/train_out/model01.tar.gz','machine-comprehension')"
   ]
  },
  {
   "cell_type": "code",
   "execution_count": 14,
   "metadata": {},
   "outputs": [
    {
     "name": "stdout",
     "output_type": "stream",
     "text": [
      "Data science, also known as data-driven science, is an interdisciplinary field about scientific methods, processes, and systems to extract knowledge or insights from data in various forms, either structured or unstructured, similar to data mining. Machine learning is a field of computer science that gives computers the ability to learn without being explicitly programmed. Arthur Samuel, an American pioneer in the field of computer gaming and artificial intelligence, coined the term Machine Learning in 1959 while at IBM. Statistical learning refers to a vast set of tools for understanding data.\n",
      "what is machine learning?\n",
      "a field of computer science that gives computers the ability to learn without being explicitly programmed\n"
     ]
    },
    {
     "name": "stderr",
     "output_type": "stream",
     "text": [
      "/Users/shivasj/anaconda/envs/allennlplib/lib/python3.6/site-packages/allennlp/nn/util.py:175: UserWarning: Implicit dimension choice for softmax has been deprecated. Change the call to include dim=X as an argument.\n",
      "  result = torch.nn.functional.softmax(vector * mask)\n"
     ]
    }
   ],
   "source": [
    "# predictor\n",
    "predictor = bidaf_model.predictor()\n",
    "# Example 2\n",
    "data = {\n",
    "    \"passage\" : \"Data science, also known as data-driven science, is an interdisciplinary field about scientific methods, processes, and systems to extract knowledge or insights from data in various forms, either structured or unstructured, similar to data mining. Machine learning is a field of computer science that gives computers the ability to learn without being explicitly programmed. Arthur Samuel, an American pioneer in the field of computer gaming and artificial intelligence, coined the term Machine Learning in 1959 while at IBM. Statistical learning refers to a vast set of tools for understanding data.\"\n",
    "    ,\"question\": \"what is machine learning?\"\n",
    "}\n",
    "prediction = predictor.predict_json(data)\n",
    "print(data['passage'])\n",
    "print(data['question'])\n",
    "print(prediction['best_span_str'])"
   ]
  },
  {
   "cell_type": "markdown",
   "metadata": {},
   "source": [
    "### Test for unknown answer"
   ]
  },
  {
   "cell_type": "code",
   "execution_count": 16,
   "metadata": {},
   "outputs": [],
   "source": [
    "bidaf_model = DemoModel('../allennlp/train_out/model04.tar.gz','machine-comprehension')"
   ]
  },
  {
   "cell_type": "code",
   "execution_count": 17,
   "metadata": {},
   "outputs": [
    {
     "name": "stdout",
     "output_type": "stream",
     "text": [
      "Kanban is a popular framework used to implement agile software development. It requires real-time communication of capacity and full transparency of work. Work items are represented visually on a kanban board, allowing team members to see the state of every piece of work at any time. It is enormously prominent among today's agile software teams, but the kanban methodology of work dates back more than 50 years. In the late 1940s Toyota began optimizing its engineering processes based on the same model that supermarkets were using to stock their shelves. Supermarkets stock just enough product to meet consumer demand, a practice that optimizes the flow between the supermarket and the consumer. Because inventory levels match consumption patterns, the supermarket gains significant efficiency in inventory management by decreasing the amount of excess stock it must hold at any given time. Meanwhile, the supermarket can still ensure that the given product a consumer needs is always in stock.\n",
      "when was kanban invented?\n",
      "50 years\n"
     ]
    },
    {
     "name": "stderr",
     "output_type": "stream",
     "text": [
      "/Users/shivasj/anaconda/envs/allennlplib/lib/python3.6/site-packages/allennlp/nn/util.py:175: UserWarning: Implicit dimension choice for softmax has been deprecated. Change the call to include dim=X as an argument.\n",
      "  result = torch.nn.functional.softmax(vector * mask)\n"
     ]
    }
   ],
   "source": [
    "# predictor\n",
    "predictor = bidaf_model.predictor()\n",
    "# Example 2\n",
    "data = {\n",
    "    \"passage\" : \"Kanban is a popular framework used to implement agile software development. It requires real-time communication of capacity and full transparency of work. Work items are represented visually on a kanban board, allowing team members to see the state of every piece of work at any time. It is enormously prominent among today's agile software teams, but the kanban methodology of work dates back more than 50 years. In the late 1940s Toyota began optimizing its engineering processes based on the same model that supermarkets were using to stock their shelves. Supermarkets stock just enough product to meet consumer demand, a practice that optimizes the flow between the supermarket and the consumer. Because inventory levels match consumption patterns, the supermarket gains significant efficiency in inventory management by decreasing the amount of excess stock it must hold at any given time. Meanwhile, the supermarket can still ensure that the given product a consumer needs is always in stock.\"\n",
    "    ,\"question\": \"when was kanban invented?\"\n",
    "}\n",
    "prediction = predictor.predict_json(data)\n",
    "print(data['passage'])\n",
    "print(data['question'])\n",
    "print(prediction['best_span_str'])"
   ]
  },
  {
   "cell_type": "code",
   "execution_count": 18,
   "metadata": {},
   "outputs": [
    {
     "name": "stdout",
     "output_type": "stream",
     "text": [
      "Kanban is a popular framework used to implement agile software development. It requires real-time communication of capacity and full transparency of work. Work items are represented visually on a kanban board, allowing team members to see the state of every piece of work at any time. It is enormously prominent among today's agile software teams, but the kanban methodology of work dates back more than 50 years. In the late 1940s Toyota began optimizing its engineering processes based on the same model that supermarkets were using to stock their shelves. Supermarkets stock just enough product to meet consumer demand, a practice that optimizes the flow between the supermarket and the consumer. Because inventory levels match consumption patterns, the supermarket gains significant efficiency in inventory management by decreasing the amount of excess stock it must hold at any given time. Meanwhile, the supermarket can still ensure that the given product a consumer needs is always in stock.\n",
      "when was kanban invented?\n",
      "late 1940s\n"
     ]
    },
    {
     "name": "stderr",
     "output_type": "stream",
     "text": [
      "/Users/shivasj/anaconda/envs/allennlplib/lib/python3.6/site-packages/allennlp/nn/util.py:175: UserWarning: Implicit dimension choice for softmax has been deprecated. Change the call to include dim=X as an argument.\n",
      "  result = torch.nn.functional.softmax(vector * mask)\n"
     ]
    }
   ],
   "source": [
    "bidaf_model = DemoModel('../allennlp/train_out/model05.tar.gz','machine-comprehension')\n",
    "# predictor\n",
    "predictor = bidaf_model.predictor()\n",
    "# Example 2\n",
    "data = {\n",
    "    \"passage\" : \"Kanban is a popular framework used to implement agile software development. It requires real-time communication of capacity and full transparency of work. Work items are represented visually on a kanban board, allowing team members to see the state of every piece of work at any time. It is enormously prominent among today's agile software teams, but the kanban methodology of work dates back more than 50 years. In the late 1940s Toyota began optimizing its engineering processes based on the same model that supermarkets were using to stock their shelves. Supermarkets stock just enough product to meet consumer demand, a practice that optimizes the flow between the supermarket and the consumer. Because inventory levels match consumption patterns, the supermarket gains significant efficiency in inventory management by decreasing the amount of excess stock it must hold at any given time. Meanwhile, the supermarket can still ensure that the given product a consumer needs is always in stock.\"\n",
    "    ,\"question\": \"when was kanban invented?\"\n",
    "}\n",
    "prediction = predictor.predict_json(data)\n",
    "print(data['passage'])\n",
    "print(data['question'])\n",
    "print(prediction['best_span_str'])"
   ]
  },
  {
   "cell_type": "code",
   "execution_count": null,
   "metadata": {},
   "outputs": [],
   "source": []
  }
 ],
 "metadata": {
  "kernelspec": {
   "display_name": "Python 3",
   "language": "python",
   "name": "python3"
  },
  "language_info": {
   "codemirror_mode": {
    "name": "ipython",
    "version": 3
   },
   "file_extension": ".py",
   "mimetype": "text/x-python",
   "name": "python",
   "nbconvert_exporter": "python",
   "pygments_lexer": "ipython3",
   "version": "3.6.2"
  }
 },
 "nbformat": 4,
 "nbformat_minor": 2
}
