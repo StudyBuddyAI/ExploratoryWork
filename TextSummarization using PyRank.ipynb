{
 "cells": [
  {
   "cell_type": "code",
   "execution_count": 11,
   "metadata": {},
   "outputs": [],
   "source": [
    "#imports\n",
    "import os\n",
    "import re\n",
    "import sys\n",
    "import struct\n",
    "import numpy as np\n",
    "import collections\n",
    "from nltk.tokenize import sent_tokenize\n",
    "from tensorflow.core.example import example_pb2\n",
    "import networkx as nx\n",
    "import pylab as plt\n",
    "\n",
    "import json\n",
    "import pytextrank"
   ]
  },
  {
   "cell_type": "code",
   "execution_count": 2,
   "metadata": {},
   "outputs": [
    {
     "data": {
      "text/plain": [
       "'1.11'"
      ]
     },
     "execution_count": 2,
     "metadata": {},
     "output_type": "execute_result"
    }
   ],
   "source": [
    "nx.__version__"
   ]
  },
  {
   "cell_type": "markdown",
   "metadata": {},
   "source": [
    "---"
   ]
  },
  {
   "cell_type": "markdown",
   "metadata": {},
   "source": [
    "## Text Summarization\n",
    "\n",
    "---"
   ]
  },
  {
   "cell_type": "code",
   "execution_count": 2,
   "metadata": {},
   "outputs": [],
   "source": [
    "# conda install spacy\n",
    "# python -m spacy.en.download\n",
    "# python -c \"import spacy; spacy.load('en')\""
   ]
  },
  {
   "cell_type": "markdown",
   "metadata": {},
   "source": [
    "#### Stage 1:\n",
    "\n",
    "Perform statistical parsing/tagging on a document in JSON format\n",
    "\n",
    "INPUTS: JSON doc for the text input\n",
    "\n",
    "OUTPUT: JSON format ParsedGraf(id, sha1, graf)\n"
   ]
  },
  {
   "cell_type": "code",
   "execution_count": 3,
   "metadata": {},
   "outputs": [
    {
     "name": "stdout",
     "output_type": "stream",
     "text": [
      "[\"777\", \"7b982e54fa330a6854a0ed5397d49223fdc70645\", [[1, \"Compatibility\", \"compatibility\", \"NN\", 1, 0], [0, \"of\", \"of\", \"IN\", 0, 1], [2, \"systems\", \"system\", \"NNS\", 1, 2], [0, \"of\", \"of\", \"IN\", 0, 3], [3, \"linear\", \"linear\", \"JJ\", 1, 4], [4, \"constraints\", \"constraint\", \"NNS\", 1, 5], [0, \"over\", \"over\", \"IN\", 0, 6], [0, \"the\", \"the\", \"DT\", 0, 7], [5, \"set\", \"set\", \"NN\", 1, 8], [0, \"of\", \"of\", \"IN\", 0, 9], [6, \"natural\", \"natural\", \"JJ\", 1, 10], [7, \"numbers\", \"number\", \"NNS\", 1, 11], [0, \".\", \".\", \".\", 0, 12]]]\n",
      "[\"777\", \"dfa572a4a2d2c0fd9254172d95b574b3f6067f63\", [[8, \"Criteria\", \"criteria\", \"NNP\", 1, 13], [0, \"of\", \"of\", \"IN\", 0, 14], [1, \"compatibility\", \"compatibility\", \"NN\", 1, 15], [0, \"of\", \"of\", \"IN\", 0, 16], [0, \"a\", \"a\", \"DT\", 0, 17], [2, \"system\", \"system\", \"NN\", 1, 18], [0, \"of\", \"of\", \"IN\", 0, 19], [3, \"linear\", \"linear\", \"NN\", 1, 20], [9, \"Diophantine\", \"diophantine\", \"NNP\", 1, 21], [10, \"equations\", \"equation\", \"NNS\", 1, 22], [0, \",\", \",\", \".\", 0, 23], [11, \"strict\", \"strict\", \"JJ\", 1, 24], [12, \"inequations\", \"inequation\", \"NNS\", 1, 25], [0, \",\", \",\", \".\", 0, 26], [0, \"and\", \"and\", \"CC\", 0, 27], [13, \"nonstrict\", \"nonstrict\", \"NN\", 1, 28], [12, \"inequations\", \"inequation\", \"NNS\", 1, 29], [14, \"are\", \"be\", \"VBP\", 1, 30], [15, \"considered\", \"consider\", \"VBN\", 1, 31], [0, \".\", \".\", \".\", 0, 32]]]\n",
      "[\"777\", \"cb9235d7c8b21321b88462fca3a0480e29aa8ec7\", [[16, \"Upper\", \"upper\", \"JJ\", 1, 33], [17, \"bounds\", \"bound\", \"NNS\", 1, 34], [0, \"for\", \"for\", \"IN\", 0, 35], [18, \"components\", \"component\", \"NNS\", 1, 36], [0, \"of\", \"of\", \"IN\", 0, 37], [0, \"a\", \"a\", \"DT\", 0, 38], [19, \"minimal\", \"minimal\", \"JJ\", 1, 39], [5, \"set\", \"set\", \"NN\", 1, 40], [0, \"of\", \"of\", \"IN\", 0, 41], [20, \"solutions\", \"solution\", \"NNS\", 1, 42], [0, \"and\", \"and\", \"CC\", 0, 43], [21, \"algorithms\", \"algorithm\", \"NNS\", 1, 44], [0, \"of\", \"of\", \"IN\", 0, 45], [22, \"construction\", \"construction\", \"NN\", 1, 46], [0, \"of\", \"of\", \"IN\", 0, 47], [19, \"minimal\", \"minimal\", \"JJ\", 1, 48], [23, \"generating\", \"generating\", \"NN\", 1, 49], [5, \"sets\", \"set\", \"NNS\", 1, 50], [0, \"of\", \"of\", \"IN\", 0, 51], [20, \"solutions\", \"solution\", \"NNS\", 1, 52], [0, \"for\", \"for\", \"IN\", 0, 53], [0, \"all\", \"all\", \"DT\", 0, 54], [24, \"types\", \"type\", \"NNS\", 1, 55], [0, \"of\", \"of\", \"IN\", 0, 56], [2, \"systems\", \"system\", \"NNS\", 1, 57], [14, \"are\", \"be\", \"VBP\", 1, 58], [25, \"given\", \"give\", \"VBN\", 1, 59], [0, \".\", \".\", \".\", 0, 60]]]\n",
      "[\"777\", \"64db26d2b1979694d377776d5e53c9254ee6f85e\", [[0, \"These\", \"these\", \"DT\", 0, 61], [26, \"criteria\", \"criterion\", \"NNS\", 1, 62], [0, \"and\", \"and\", \"CC\", 0, 63], [0, \"the\", \"the\", \"DT\", 0, 64], [27, \"corresponding\", \"correspond\", \"VBG\", 1, 65], [28, \"algorithms\", \"algorithms\", \"NN\", 1, 66], [0, \"for\", \"for\", \"IN\", 0, 67], [29, \"constructing\", \"construct\", \"VBG\", 1, 68], [0, \"a\", \"a\", \"DT\", 0, 69], [19, \"minimal\", \"minimal\", \"JJ\", 1, 70], [30, \"supporting\", \"support\", \"VBG\", 1, 71], [5, \"set\", \"set\", \"NN\", 1, 72], [0, \"of\", \"of\", \"IN\", 0, 73], [20, \"solutions\", \"solution\", \"NNS\", 1, 74], [0, \"can\", \"can\", \"MD\", 0, 75], [14, \"be\", \"be\", \"VB\", 1, 76], [31, \"used\", \"use\", \"VBN\", 1, 77], [0, \"in\", \"in\", \"IN\", 0, 78], [32, \"solving\", \"solve\", \"VBG\", 1, 79], [0, \"all\", \"all\", \"PDT\", 0, 80], [0, \"the\", \"the\", \"DT\", 0, 81], [15, \"considered\", \"consider\", \"VBN\", 1, 82], [24, \"types\", \"type\", \"NNS\", 1, 83], [2, \"systems\", \"system\", \"NNS\", 1, 84], [0, \"and\", \"and\", \"CC\", 0, 85], [2, \"systems\", \"system\", \"NNS\", 1, 86], [0, \"of\", \"of\", \"IN\", 0, 87], [33, \"mixed\", \"mixed\", \"JJ\", 1, 88], [24, \"types\", \"type\", \"NNS\", 1, 89], [0, \".\", \".\", \".\", 0, 90]]]\n"
     ]
    }
   ],
   "source": [
    "# Using pytextrank\n",
    "path_stage0 = \"datasets/mih.json\"\n",
    "path_stage1 = \"outputs/o1.json\"\n",
    "\n",
    "with open(path_stage1, 'w') as f:\n",
    "    for graf in pytextrank.parse_doc(pytextrank.json_iter(path_stage0)):\n",
    "        f.write(\"%s\\n\" % pytextrank.pretty_print(graf._asdict()))\n",
    "        # to view output in this notebook\n",
    "        print(pytextrank.pretty_print(graf))"
   ]
  },
  {
   "cell_type": "markdown",
   "metadata": {
    "collapsed": true
   },
   "source": [
    "#### Stage 2:\n",
    "\n",
    "Collect and normalize the key phrases from a parsed document\n",
    "\n",
    "INPUTS: < stage1 >\n",
    "\n",
    "OUTPUT: JSON format RankedLexeme(text, rank, ids, pos)"
   ]
  },
  {
   "cell_type": "code",
   "execution_count": 4,
   "metadata": {},
   "outputs": [
    {
     "name": "stdout",
     "output_type": "stream",
     "text": [
      "[\"systems\", 0.12126445201773216, [2], \"np\", 1]\n",
      "[\"types systems\", 0.08570630601089342, [24, 2], \"np\", 1]\n",
      "[\"minimal set\", 0.06816332177984862, [19, 5], \"np\", 1]\n",
      "[\"strict inequations\", 0.04983533600449038, [11, 12], \"np\", 1]\n",
      "[\"considered\", 0.043715951844391, [15], \"vbn\", 2]\n",
      "[\"types\", 0.04285315300544671, [24], \"nns\", 3]\n",
      "[\"mixed types\", 0.04285315300544671, [33, 24], \"np\", 1]\n",
      "[\"be\", 0.03558870218143356, [14], \"vb\", 3]\n",
      "[\"natural numbers\", 0.03439402896373724, [6, 7], \"np\", 1]\n",
      "[\"set\", 0.03408166088992431, [5], \"nn\", 4]\n",
      "[\"minimal generating sets\", 0.03408166088992431, [19, 23, 5], \"np\", 1]\n",
      "[\"solutions\", 0.033892921989578426, [20], \"nns\", 3]\n",
      "[\"linear constraints\", 0.029908647386763194, [3, 4], \"np\", 1]\n",
      "[\"diophantine\", 0.02692982061787502, [9], \"np\", 1]\n",
      "[\"linear diophantine equations\", 0.02692201496702678, [3, 9, 10], \"np\", 1]\n",
      "[\"solving\", 0.0265895350793301, [32], \"vbg\", 1]\n",
      "[\"inequations\", 0.02491766800224519, [12], \"nns\", 2]\n",
      "[\"nonstrict inequations\", 0.02491766800224519, [13, 12], \"np\", 1]\n",
      "[\"used\", 0.018266288736181066, [31], \"vbn\", 1]\n",
      "[\"numbers\", 0.01719701448186862, [7], \"nns\", 1]\n",
      "[\"given\", 0.016790116082368706, [25], \"vbn\", 1]\n",
      "[\"linear\", 0.014954323693381597, [3], \"nn\", 1]\n",
      "[\"constraints\", 0.01346491030893751, [4], \"nns\", 1]\n",
      "[\"equations\", 0.01346100748351339, [10], \"nns\", 1]\n",
      "[\"construction\", 0.01260008925692268, [22], \"nn\", 1]\n",
      "[\"generating\", 0.011919590525266565, [23], \"nn\", 1]\n",
      "[\"constructing\", 0.011570878861840678, [29], \"vbg\", 1]\n",
      "[\"supporting\", 0.011482133544249734, [30], \"vbg\", 1]\n",
      "[\"algorithms\", 0.010704067075130386, [21], \"nns\", 1]\n",
      "[\"nonstrict\", 0.010561233301204244, [13], \"nn\", 1]\n",
      "[\"upper bounds\", 0.00997916917308429, [16, 17], \"np\", 1]\n",
      "[\"components\", 0.009230745389791368, [18], \"nns\", 1]\n",
      "[\"compatibility\", 0.006477704023829836, [1], \"nn\", 2]\n",
      "[\"corresponding\", 0.006477704023829836, [27], \"vbg\", 1]\n",
      "[\"algorithms\", 0.006254506515215988, [28], \"nn\", 1]\n",
      "[\"bounds\", 0.004989584586542145, [17], \"nns\", 1]\n",
      "[\"criteria\", 0.0035014651492544543, [8], \"nnp\", 1]\n",
      "[\"criteria\", 0.0035014651492544543, [26], \"nns\", 1]\n"
     ]
    }
   ],
   "source": [
    "path_stage1 = \"outputs/o1.json\"\n",
    "path_stage2 = \"outputs/o2.json\"\n",
    "\n",
    "graph, ranks = pytextrank.text_rank(path_stage1)\n",
    "pytextrank.render_ranks(graph, ranks)\n",
    "\n",
    "with open(path_stage2, 'w') as f:\n",
    "    for rl in pytextrank.normalize_key_phrases(path_stage1, ranks):\n",
    "        f.write(\"%s\\n\" % pytextrank.pretty_print(rl._asdict()))\n",
    "        # to view output in this notebook\n",
    "        print(pytextrank.pretty_print(rl))"
   ]
  },
  {
   "cell_type": "code",
   "execution_count": 6,
   "metadata": {},
   "outputs": [
    {
     "name": "stderr",
     "output_type": "stream",
     "text": [
      "/Users/shivasj/anaconda/envs/harvard/lib/python3.6/site-packages/networkx/drawing/nx_pylab.py:126: MatplotlibDeprecationWarning: pyplot.hold is deprecated.\n",
      "    Future behavior will be consistent with the long-time default:\n",
      "    plot commands add elements without first clearing the\n",
      "    Axes and/or Figure.\n",
      "  b = plt.ishold()\n",
      "/Users/shivasj/anaconda/envs/harvard/lib/python3.6/site-packages/networkx/drawing/nx_pylab.py:138: MatplotlibDeprecationWarning: pyplot.hold is deprecated.\n",
      "    Future behavior will be consistent with the long-time default:\n",
      "    plot commands add elements without first clearing the\n",
      "    Axes and/or Figure.\n",
      "  plt.hold(b)\n",
      "/Users/shivasj/anaconda/envs/harvard/lib/python3.6/site-packages/matplotlib/__init__.py:917: UserWarning: axes.hold is deprecated. Please remove it from your matplotlibrc and/or style files.\n",
      "  warnings.warn(self.msg_depr_set % key)\n",
      "/Users/shivasj/anaconda/envs/harvard/lib/python3.6/site-packages/matplotlib/rcsetup.py:152: UserWarning: axes.hold is deprecated, will be removed in 3.0\n",
      "  warnings.warn(\"axes.hold is deprecated, will be removed in 3.0\")\n"
     ]
    },
    {
     "data": {
      "image/png": "[encoded data removed]",
      "text/plain": [
       "<matplotlib.figure.Figure at 0x128149748>"
      ]
     },
     "metadata": {},
     "output_type": "display_data"
    }
   ],
   "source": [
    "nx.draw(graph, with_labels=True) \n",
    "plt.show()"
   ]
  },
  {
   "cell_type": "markdown",
   "metadata": {},
   "source": [
    "#### Stage 3:\n",
    "\n",
    "Calculate a significance weight for each sentence, using MinHash to approximate a Jaccard distance from key phrases determined by TextRank\n",
    "\n",
    "INPUTS: < stage1 > < stage2 >\n",
    "\n",
    "OUTPUT: JSON format SummarySent(dist, idx, text)"
   ]
  },
  {
   "cell_type": "code",
   "execution_count": 7,
   "metadata": {},
   "outputs": [
    {
     "name": "stdout",
     "output_type": "stream",
     "text": [
      "{\"dist\": 0.06677187693979718, \"idx\": 0, \"text\": \"Compatibility of systems of linear constraints over the set of natural numbers .\"}\n",
      "{\"dist\": 0.056191499776859666, \"idx\": 2, \"text\": \"Upper bounds for components of a minimal set of solutions and algorithms of construction of minimal generating sets of solutions for all types of systems are given .\"}\n",
      "{\"dist\": 0.053983648620151266, \"idx\": 1, \"text\": \"Criteria of compatibility of a system of linear Diophantine equations , strict inequations , and nonstrict inequations are considered .\"}\n",
      "{\"dist\": 0.052709218147020676, \"idx\": 3, \"text\": \"These criteria and the corresponding algorithms for constructing a minimal supporting set of solutions can be used in solving all the considered types systems and systems of mixed types .\"}\n"
     ]
    }
   ],
   "source": [
    "path_stage1 = \"outputs/o1.json\"\n",
    "path_stage2 = \"outputs/o2.json\"\n",
    "path_stage3 = \"outputs/o3.json\"\n",
    "\n",
    "kernel = pytextrank.rank_kernel(path_stage2)\n",
    "\n",
    "with open(path_stage3, 'w') as f:\n",
    "    for s in pytextrank.top_sentences(kernel, path_stage1):\n",
    "        f.write(pytextrank.pretty_print(s._asdict()))\n",
    "        f.write(\"\\n\")\n",
    "        # to view output in this notebook\n",
    "        print(pytextrank.pretty_print(s._asdict()))"
   ]
  },
  {
   "cell_type": "markdown",
   "metadata": {},
   "source": [
    "#### Stage 4:\n",
    "\n",
    "Summarize a document based on most significant sentences and key phrases\n",
    "\n",
    "INPUTS: < stage2 > < stage3 >\n",
    "\n",
    "OUTPUT: Markdown format"
   ]
  },
  {
   "cell_type": "code",
   "execution_count": 8,
   "metadata": {},
   "outputs": [
    {
     "name": "stdout",
     "output_type": "stream",
     "text": [
      "**excerpts:** Compatibility of systems of linear constraints over the set of natural numbers. Criteria of compatibility of a system of linear Diophantine equations, strict inequations, and nonstrict inequations are considered. Upper bounds for components of a minimal set of solutions and algorithms of construction of minimal generating sets of solutions for all types of systems are given. These criteria and the corresponding algorithms for constructing a minimal supporting set of solutions can be used in solving all the considered types systems and systems of mixed types.\n",
      "\n",
      "**keywords:** set, diophantine, minimal set, minimal generating sets, systems, solutions, linear diophantine equations, natural numbers, strict inequations, mixed types, types systems, types, linear constraints\n"
     ]
    }
   ],
   "source": [
    "path_stage2 = \"outputs/o2.json\"\n",
    "path_stage3 = \"outputs/o3.json\"\n",
    "\n",
    "phrases = \", \".join(set([p for p in pytextrank.limit_keyphrases(path_stage2, phrase_limit=12)]))\n",
    "sent_iter = sorted(pytextrank.limit_sentences(path_stage3, word_limit=150), key=lambda x: x[1])\n",
    "s = []\n",
    "\n",
    "for sent_text, idx in sent_iter:\n",
    "    s.append(pytextrank.make_sentence(sent_text))\n",
    "\n",
    "graf_text = \" \".join(s)\n",
    "print(\"**excerpts:** %s\\n\\n**keywords:** %s\" % (graf_text, phrases,))"
   ]
  },
  {
   "cell_type": "markdown",
   "metadata": {},
   "source": [
    "#### Final Ouput"
   ]
  },
  {
   "cell_type": "code",
   "execution_count": 18,
   "metadata": {},
   "outputs": [
    {
     "name": "stdout",
     "output_type": "stream",
     "text": [
      "Original Text:\n",
      "--------------\n",
      "Compatibility of systems of linear constraints over the set of natural numbers. Criteria of compatibility of a system of linear Diophantine equations, strict inequations, and nonstrict inequations are considered. Upper bounds for components of a minimal set of solutions and algorithms of construction of minimal generating sets of solutions for all types of systems are given. These criteria and the corresponding algorithms for constructing a minimal supporting set of solutions can be used in solving all the considered types systems and systems of mixed types.\n",
      "Excerpt:\n",
      "--------\n",
      "Compatibility of systems of linear constraints over the set of natural numbers. Criteria of compatibility of a system of linear Diophantine equations, strict inequations, and nonstrict inequations are considered. Upper bounds for components of a minimal set of solutions and algorithms of construction of minimal generating sets of solutions for all types of systems are given. These criteria and the corresponding algorithms for constructing a minimal supporting set of solutions can be used in solving all the considered types systems and systems of mixed types.\n",
      "Keywords:\n",
      "--------\n",
      "set, diophantine, minimal set, minimal generating sets, systems, solutions, linear diophantine equations, natural numbers, strict inequations, mixed types, types systems, types, linear constraints\n"
     ]
    }
   ],
   "source": [
    "#pytextrank.parse_doc(pytextrank.json_iter(path_stage0))[0]\n",
    "data = json.load(open(path_stage0))\n",
    "print('Original Text:')\n",
    "print('--------------')\n",
    "print(data['text'])\n",
    "print('Excerpt:')\n",
    "print('--------')\n",
    "print(graf_text)\n",
    "print('Keywords:')\n",
    "print('--------')\n",
    "print(phrases)"
   ]
  },
  {
   "cell_type": "markdown",
   "metadata": {},
   "source": [
    "#### Statistical Parsing"
   ]
  },
  {
   "cell_type": "code",
   "execution_count": 24,
   "metadata": {},
   "outputs": [
    {
     "name": "stdout",
     "output_type": "stream",
     "text": [
      "[\"231\", \"8ae3383b37be39f1ac59168515ea64bbd37e1a2e\", [[0, \"After\", \"after\", \"IN\", 0, 0], [34, \"more\", \"more\", \"JJR\", 1, 1], [0, \"than\", \"than\", \"IN\", 0, 2], [0, \"four\", \"four\", \"CD\", 0, 3], [35, \"hours\", \"hour\", \"NNS\", 1, 4], [0, \"of\", \"of\", \"IN\", 0, 5], [36, \"tight\", \"tight\", \"JJ\", 1, 6], [37, \"play\", \"play\", \"NN\", 1, 7], [0, \"and\", \"and\", \"CC\", 0, 8], [0, \"a\", \"a\", \"DT\", 0, 9], [38, \"rapid-fire\", \"rapid-fire\", \"JJ\", 1, 10], [39, \"endgame\", \"endgame\", \"NN\", 1, 11], [0, \",\", \",\", \".\", 0, 12], [40, \"Google\", \"google\", \"NNP\", 1, 13], [0, \"'s\", \"'s\", \"POS\", 0, 14], [0, \"artificially\", \"artificially\", \"RB\", 0, 15], [41, \"intelligent\", \"intelligent\", \"JJ\", 1, 16], [42, \"Go-playing\", \"go-play\", \"VB\", 1, 17], [43, \"computer\", \"computer\", \"NN\", 1, 18], [2, \"system\", \"system\", \"NN\", 1, 19], [44, \"has\", \"have\", \"VBZ\", 1, 20], [45, \"won\", \"win\", \"VBN\", 1, 21], [0, \"a\", \"a\", \"DT\", 0, 22], [46, \"second\", \"second\", \"JJ\", 1, 23], [47, \"contest\", \"contest\", \"NN\", 1, 24], [0, \"against\", \"against\", \"IN\", 0, 25], [48, \"grandmaster\", \"grandmaster\", \"NN\", 1, 26], [49, \"Lee\", \"lee\", \"NNP\", 1, 27], [50, \"Sedol\", \"sedol\", \"NNP\", 1, 28], [0, \",\", \",\", \".\", 0, 29], [51, \"taking\", \"take\", \"VBG\", 1, 30], [0, \"a\", \"a\", \"DT\", 0, 31], [0, \"two-games-to-none\", \"two-games-to-none\", \"CD\", 0, 32], [52, \"lead\", \"lead\", \"NN\", 1, 33], [0, \"in\", \"in\", \"IN\", 0, 34], [0, \"their\", \"their\", \"PRP$\", 0, 35], [53, \"historic\", \"historic\", \"JJ\", 1, 36], [0, \"best-of-five\", \"best-of-five\", \"RBS\", 0, 37], [54, \"match\", \"match\", \"NN\", 1, 38], [0, \"in\", \"in\", \"IN\", 0, 39], [55, \"downtown\", \"downtown\", \"NN\", 1, 40], [56, \"Seoul\", \"seoul\", \"NNP\", 1, 41], [0, \".\", \".\", \".\", 0, 42], [0, \" \", \" \", \".\", 0, 43]]]\n",
      "[\"231\", \"96a3bb417fb417c6ac485655829f5c769e398506\", [[0, \"The\", \"the\", \"DT\", 0, 44], [0, \"surprisingly\", \"surprisingly\", \"RB\", 0, 45], [57, \"skillful\", \"skillful\", \"JJ\", 1, 46], [40, \"Google\", \"google\", \"NNP\", 1, 47], [58, \"machine\", \"machine\", \"NN\", 1, 48], [0, \",\", \",\", \".\", 0, 49], [59, \"known\", \"know\", \"VBN\", 1, 50], [0, \"as\", \"as\", \"IN\", 0, 51], [60, \"AlphaGo\", \"alphago\", \"NNP\", 1, 52], [0, \",\", \",\", \".\", 0, 53], [0, \"now\", \"now\", \"RB\", 0, 54], [61, \"needs\", \"need\", \"VBZ\", 1, 55], [0, \"only\", \"only\", \"RB\", 0, 56], [0, \"one\", \"one\", \"CD\", 0, 57], [34, \"more\", \"more\", \"JJR\", 1, 58], [45, \"win\", \"win\", \"NN\", 1, 59], [0, \"to\", \"to\", \"TO\", 0, 60], [62, \"claim\", \"claim\", \"VB\", 1, 61], [63, \"victory\", \"victory\", \"NN\", 1, 62], [0, \"in\", \"in\", \"IN\", 0, 63], [0, \"the\", \"the\", \"DT\", 0, 64], [54, \"match\", \"match\", \"NN\", 1, 65], [0, \".\", \".\", \".\", 0, 66]]]\n",
      "[\"231\", \"9f601d2ba2ce5ec5363d1064c16e786f9d607988\", [[0, \"The\", \"the\", \"DT\", 0, 67], [64, \"Korean-born\", \"korean-bear\", \"NNP\", 1, 68], [49, \"Lee\", \"lee\", \"NNP\", 1, 69], [50, \"Sedol\", \"sedol\", \"NNP\", 1, 70], [0, \"will\", \"will\", \"MD\", 0, 71], [65, \"go\", \"go\", \"VB\", 1, 72], [0, \"down\", \"down\", \"RB\", 0, 73], [0, \"in\", \"in\", \"IN\", 0, 74], [66, \"defeat\", \"defeat\", \"NN\", 1, 75], [0, \"unless\", \"unless\", \"IN\", 0, 76], [0, \"he\", \"he\", \"PRP\", 0, 77], [51, \"takes\", \"take\", \"VBZ\", 1, 78], [0, \"each\", \"each\", \"DT\", 0, 79], [0, \"of\", \"of\", \"IN\", 0, 80], [0, \"the\", \"the\", \"DT\", 0, 81], [54, \"match\", \"match\", \"NN\", 1, 82], [0, \"'s\", \"'s\", \"POS\", 0, 83], [67, \"last\", \"last\", \"JJ\", 1, 84], [0, \"three\", \"three\", \"CD\", 0, 85], [68, \"games\", \"game\", \"NNS\", 1, 86], [0, \".\", \".\", \".\", 0, 87]]]\n",
      "[\"231\", \"34e1d92855471bd621d8133ffe6a35dcbc6e8233\", [[0, \"Though\", \"though\", \"IN\", 0, 88], [58, \"machines\", \"machine\", \"NNS\", 1, 89], [44, \"have\", \"have\", \"VBP\", 1, 90], [69, \"beaten\", \"beat\", \"VBN\", 1, 91], [0, \"the\", \"the\", \"DT\", 0, 92], [70, \"best\", \"best\", \"JJS\", 1, 93], [71, \"humans\", \"human\", \"NNS\", 1, 94], [0, \"at\", \"at\", \"IN\", 0, 95], [72, \"chess\", \"chess\", \"NN\", 1, 96], [0, \",\", \",\", \".\", 0, 97], [73, \"checkers\", \"checker\", \"NNS\", 1, 98], [0, \",\", \",\", \".\", 0, 99], [74, \"Othello\", \"othello\", \"NNP\", 1, 100], [0, \",\", \",\", \".\", 0, 101], [75, \"Scrabble\", \"scrabble\", \"NNP\", 1, 102], [0, \",\", \",\", \".\", 0, 103], [76, \"Jeopardy\", \"jeopardy\", \"NNP\", 1, 104], [0, \"!\", \"!\", \".\", 0, 105], [0, \",\", \",\", \".\", 0, 106], [0, \"and\", \"and\", \"CC\", 0, 107], [0, \"so\", \"so\", \"RB\", 0, 108], [77, \"many\", \"many\", \"JJ\", 1, 109], [78, \"other\", \"other\", \"JJ\", 1, 110], [68, \"games\", \"game\", \"NNS\", 1, 111], [15, \"considered\", \"consider\", \"VBN\", 1, 112], [79, \"tests\", \"test\", \"NNS\", 1, 113], [0, \"of\", \"of\", \"IN\", 0, 114], [71, \"human\", \"human\", \"JJ\", 1, 115], [80, \"intellect\", \"intellect\", \"NN\", 1, 116], [0, \",\", \",\", \".\", 0, 117], [0, \"they\", \"they\", \"PRP\", 0, 118], [44, \"have\", \"have\", \"VBP\", 1, 119], [0, \"never\", \"never\", \"RB\", 0, 120], [69, \"beaten\", \"beat\", \"VBN\", 1, 121], [0, \"the\", \"the\", \"DT\", 0, 122], [0, \"very\", \"very\", \"RB\", 0, 123], [70, \"best\", \"best\", \"JJS\", 1, 124], [0, \"at\", \"at\", \"IN\", 0, 125], [65, \"Go\", \"go\", \"NNP\", 1, 126], [0, \".\", \".\", \".\", 0, 127]]]\n",
      "[\"231\", \"2f482e85df9e565bd3c8f4612c82ed8d610f44b8\", [[68, \"Game\", \"game\", \"NNP\", 1, 128], [81, \"Three\", \"three\", \"NNP\", 1, 129], [14, \"is\", \"be\", \"VBZ\", 1, 130], [5, \"set\", \"set\", \"VBN\", 1, 131], [0, \"for\", \"for\", \"IN\", 0, 132], [82, \"Saturday\", \"saturday\", \"NNP\", 1, 133], [83, \"afternoon\", \"afternoon\", \"NN\", 1, 134], [0, \"inside\", \"inside\", \"IN\", 0, 135], [56, \"Seoul\", \"seoul\", \"NNP\", 1, 136], [0, \"'s\", \"'s\", \"POS\", 0, 137], [84, \"Four\", \"four\", \"NNP\", 1, 138], [85, \"Seasons\", \"seasons\", \"NNP\", 1, 139], [86, \"hotel\", \"hotel\", \"NN\", 1, 140], [0, \".\", \".\", \".\", 0, 141], [0, \" \", \" \", \".\", 0, 142]]]\n",
      "[\"231\", \"707876122c7c689554d9d0a8575217c3f7914d7d\", [[0, \"The\", \"the\", \"DT\", 0, 143], [54, \"match\", \"match\", \"NN\", 1, 144], [14, \"is\", \"be\", \"VBZ\", 1, 145], [0, \"a\", \"a\", \"DT\", 0, 146], [87, \"way\", \"way\", \"NN\", 1, 147], [0, \"of\", \"of\", \"IN\", 0, 148], [88, \"judging\", \"judge\", \"VBG\", 1, 149], [0, \"the\", \"the\", \"DT\", 0, 150], [0, \"suddenly\", \"suddenly\", \"RB\", 0, 151], [89, \"rapid\", \"rapid\", \"JJ\", 1, 152], [90, \"progress\", \"progress\", \"NN\", 1, 153], [0, \"of\", \"of\", \"IN\", 0, 154], [91, \"artificial\", \"artificial\", \"JJ\", 1, 155], [92, \"intelligence\", \"intelligence\", \"NN\", 1, 156], [0, \".\", \".\", \".\", 0, 157]]]\n",
      "[\"231\", \"2e13ce295f333a3a484bf572223c767462c7e077\", [[0, \"One\", \"one\", \"CD\", 0, 158], [0, \"of\", \"of\", \"IN\", 0, 159], [0, \"the\", \"the\", \"DT\", 0, 160], [93, \"machine-learning\", \"machine-learn\", \"NN\", 1, 161], [94, \"techniques\", \"technique\", \"NNS\", 1, 162], [0, \"at\", \"at\", \"IN\", 0, 163], [0, \"the\", \"the\", \"DT\", 0, 164], [95, \"heart\", \"heart\", \"NN\", 1, 165], [0, \"of\", \"of\", \"IN\", 0, 166], [60, \"AlphaGo\", \"alphago\", \"NNP\", 1, 167], [44, \"has\", \"have\", \"VBZ\", 1, 168], [0, \"already\", \"already\", \"RB\", 0, 169], [96, \"reinvented\", \"reinvent\", \"VBN\", 1, 170], [97, \"myriad\", \"myriad\", \"JJ\", 1, 171], [0, \"online\", \"online\", \"RB\", 0, 172], [98, \"services\", \"service\", \"NNS\", 1, 173], [0, \"inside\", \"inside\", \"IN\", 0, 174], [40, \"Google\", \"google\", \"NNP\", 1, 175], [0, \"and\", \"and\", \"CC\", 0, 176], [78, \"other\", \"other\", \"JJ\", 1, 177], [99, \"big-name\", \"big-name\", \"JJ\", 1, 178], [100, \"Internet\", \"internet\", \"NN\", 1, 179], [101, \"companies\", \"company\", \"NNS\", 1, 180], [0, \",\", \",\", \".\", 0, 181], [102, \"helping\", \"help\", \"VBG\", 1, 182], [0, \"to\", \"to\", \"TO\", 0, 183], [103, \"identify\", \"identify\", \"VB\", 1, 184], [104, \"images\", \"image\", \"NNS\", 1, 185], [0, \",\", \",\", \".\", 0, 186], [105, \"recognize\", \"recognize\", \"VB\", 1, 187], [106, \"commands\", \"command\", \"NNS\", 1, 188], [107, \"spoken\", \"speak\", \"VBN\", 1, 189], [0, \"into\", \"into\", \"IN\", 0, 190], [108, \"smartphones\", \"smartphone\", \"NNS\", 1, 191], [0, \",\", \",\", \".\", 0, 192], [109, \"improve\", \"improve\", \"VB\", 1, 193], [110, \"search\", \"search\", \"NN\", 1, 194], [111, \"engine\", \"engine\", \"NN\", 1, 195], [112, \"results\", \"result\", \"NNS\", 1, 196], [0, \",\", \",\", \".\", 0, 197], [0, \"and\", \"and\", \"CC\", 0, 198], [34, \"more\", \"more\", \"JJR\", 1, 199], [0, \".\", \".\", \".\", 0, 200]]]\n",
      "[\"231\", \"903c780e1ce85a9a447b910913e1248fb88d95ae\", [[0, \"Meanwhile\", \"meanwhile\", \"RB\", 0, 201], [0, \",\", \",\", \".\", 0, 202], [0, \"another\", \"another\", \"DT\", 0, 203], [60, \"AlphaGo\", \"alphago\", \"NNP\", 1, 204], [94, \"technique\", \"technique\", \"NN\", 1, 205], [14, \"is\", \"be\", \"VBZ\", 1, 206], [0, \"now\", \"now\", \"RB\", 0, 207], [113, \"driving\", \"drive\", \"VBG\", 1, 208], [114, \"experimental\", \"experimental\", \"JJ\", 1, 209], [115, \"robotics\", \"robotic\", \"NNS\", 1, 210], [0, \"at\", \"at\", \"IN\", 0, 211], [40, \"Google\", \"google\", \"NNP\", 1, 212], [0, \"and\", \"and\", \"CC\", 0, 213], [116, \"places\", \"place\", \"NNS\", 1, 214], [0, \"like\", \"like\", \"IN\", 0, 215], [0, \"the\", \"the\", \"DT\", 0, 216], [117, \"University\", \"university\", \"NNP\", 1, 217], [0, \"of\", \"of\", \"IN\", 0, 218], [118, \"California\", \"california\", \"NNP\", 1, 219], [0, \"at\", \"at\", \"IN\", 0, 220], [119, \"Berkeley\", \"berkeley\", \"NNP\", 1, 221], [0, \".\", \".\", \".\", 0, 222]]]\n",
      "[\"231\", \"1d5380fed8593a79f1bc272494a0c9156b9a4490\", [[0, \"This\", \"this\", \"DT\", 0, 223], [120, \"week\", \"week\", \"NN\", 1, 224], [0, \"'s\", \"'s\", \"POS\", 0, 225], [54, \"match\", \"match\", \"NN\", 1, 226], [0, \"can\", \"can\", \"MD\", 0, 227], [121, \"show\", \"show\", \"VB\", 1, 228], [0, \"how\", \"how\", \"WRB\", 0, 229], [0, \"far\", \"far\", \"RB\", 0, 230], [0, \"these\", \"these\", \"DT\", 0, 231], [122, \"technologies\", \"technology\", \"NNS\", 1, 232], [44, \"have\", \"have\", \"VBP\", 1, 233], [123, \"come\", \"come\", \"VBN\", 1, 234], [0, \"-\", \"-\", \".\", 0, 235], [0, \"and\", \"and\", \"CC\", 0, 236], [0, \"perhaps\", \"perhaps\", \"RB\", 0, 237], [0, \"how\", \"how\", \"WRB\", 0, 238], [0, \"far\", \"far\", \"RB\", 0, 239], [0, \"they\", \"they\", \"PRP\", 0, 240], [0, \"will\", \"will\", \"MD\", 0, 241], [65, \"go\", \"go\", \"VB\", 1, 242], [0, \".\", \".\", \".\", 0, 243], [0, \" \", \" \", \".\", 0, 244]]]\n",
      "[\"231\", \"862eb4de9d33e2e0de4ffeb8a4481bef8ade72d7\", [[124, \"Created\", \"create\", \"VBN\", 1, 245], [0, \"in\", \"in\", \"IN\", 0, 246], [125, \"Asia\", \"asia\", \"NNP\", 1, 247], [0, \"over\", \"over\", \"IN\", 0, 248], [0, \"2,500\", \"2,500\", \"CD\", 0, 249], [126, \"year\", \"year\", \"NN\", 1, 250], [0, \"ago\", \"ago\", \"RB\", 0, 251], [0, \",\", \",\", \".\", 0, 252], [65, \"Go\", \"go\", \"VB\", 1, 253], [14, \"is\", \"be\", \"VBZ\", 1, 254], [0, \"exponentially\", \"exponentially\", \"RB\", 0, 255], [0, \"more\", \"more\", \"RBR\", 0, 256], [127, \"complex\", \"complex\", \"JJ\", 1, 257], [0, \"than\", \"than\", \"IN\", 0, 258], [72, \"chess\", \"chess\", \"NN\", 1, 259], [0, \",\", \",\", \".\", 0, 260], [0, \"and\", \"and\", \"CC\", 0, 261], [0, \"at\", \"at\", \"IN\", 0, 262], [128, \"least\", \"least\", \"JJS\", 1, 263], [0, \"among\", \"among\", \"IN\", 0, 264], [71, \"humans\", \"human\", \"NNS\", 1, 265], [0, \",\", \",\", \".\", 0, 266], [0, \"it\", \"it\", \"PRP\", 0, 267], [129, \"requires\", \"require\", \"VBZ\", 1, 268], [0, \"an\", \"an\", \"DT\", 0, 269], [130, \"added\", \"add\", \"VBN\", 1, 270], [131, \"degree\", \"degree\", \"NN\", 1, 271], [0, \"of\", \"of\", \"IN\", 0, 272], [132, \"intuition\", \"intuition\", \"NN\", 1, 273], [0, \".\", \".\", \".\", 0, 274]]]\n",
      "[\"231\", \"065c4219f31e4a84c4df2a6655867eaf72db4770\", [[49, \"Lee\", \"lee\", \"NNP\", 1, 275], [50, \"Sedol\", \"sedol\", \"NNP\", 1, 276], [14, \"is\", \"be\", \"VBZ\", 1, 277], [0, \"widely-regarded\", \"widely-regarded\", \"RB\", 0, 278], [0, \"as\", \"as\", \"IN\", 0, 279], [0, \"the\", \"the\", \"DT\", 0, 280], [133, \"top\", \"top\", \"NN\", 1, 281], [65, \"Go\", \"go\", \"VB\", 1, 282], [134, \"player\", \"player\", \"NN\", 1, 283], [0, \"of\", \"of\", \"IN\", 0, 284], [0, \"the\", \"the\", \"DT\", 0, 285], [67, \"last\", \"last\", \"JJ\", 1, 286], [135, \"decade\", \"decade\", \"NN\", 1, 287], [0, \",\", \",\", \".\", 0, 288], [0, \"after\", \"after\", \"IN\", 0, 289], [45, \"winning\", \"win\", \"VBG\", 1, 290], [34, \"more\", \"more\", \"JJR\", 1, 291], [136, \"international\", \"international\", \"JJ\", 1, 292], [137, \"titles\", \"title\", \"NNS\", 1, 293], [0, \"than\", \"than\", \"IN\", 0, 294], [0, \"all\", \"all\", \"DT\", 0, 295], [0, \"but\", \"but\", \"IN\", 0, 296], [0, \"one\", \"one\", \"CD\", 0, 297], [78, \"other\", \"other\", \"JJ\", 1, 298], [134, \"player\", \"player\", \"NN\", 1, 299], [0, \".\", \".\", \".\", 0, 300]]]\n",
      "[\"231\", \"4e11730806b3d5bed4d81f69400a2cf138cb9aa0\", [[0, \"He\", \"he\", \"PRP\", 0, 301], [14, \"is\", \"be\", \"VBZ\", 1, 302], [0, \"currently\", \"currently\", \"RB\", 0, 303], [138, \"ranked\", \"rank\", \"VBN\", 1, 304], [7, \"number\", \"number\", \"NN\", 1, 305], [0, \"five\", \"five\", \"CD\", 0, 306], [0, \"in\", \"in\", \"IN\", 0, 307], [0, \"the\", \"the\", \"DT\", 0, 308], [139, \"world\", \"world\", \"NN\", 1, 309], [0, \",\", \",\", \".\", 0, 310], [0, \"and\", \"and\", \"CC\", 0, 311], [140, \"according\", \"accord\", \"VBG\", 1, 312], [0, \"to\", \"to\", \"IN\", 0, 313], [141, \"Demis\", \"demis\", \"NNP\", 1, 314], [142, \"Hassabis\", \"hassabis\", \"NNP\", 1, 315], [0, \",\", \",\", \".\", 0, 316], [0, \"who\", \"who\", \"WP\", 0, 317], [52, \"leads\", \"lead\", \"VBZ\", 1, 318], [143, \"DeepMind\", \"deepmind\", \"NNP\", 1, 319], [0, \",\", \",\", \".\", 0, 320], [0, \"the\", \"the\", \"DT\", 0, 321], [40, \"Google\", \"google\", \"NNP\", 1, 322], [144, \"AI\", \"ai\", \"NNP\", 1, 323], [145, \"lab\", \"lab\", \"NN\", 1, 324], [0, \"that\", \"that\", \"WDT\", 0, 325], [124, \"created\", \"create\", \"VBD\", 1, 326], [60, \"AlphaGo\", \"alphago\", \"NNP\", 1, 327], [0, \",\", \",\", \".\", 0, 328], [0, \"his\", \"his\", \"PRP$\", 0, 329], [146, \"team\", \"team\", \"NN\", 1, 330], [147, \"chose\", \"choose\", \"VBD\", 1, 331], [0, \"the\", \"the\", \"DT\", 0, 332], [148, \"Korean\", \"korean\", \"JJ\", 1, 333], [0, \"for\", \"for\", \"IN\", 0, 334], [0, \"this\", \"this\", \"DT\", 0, 335], [0, \"all-important\", \"all-important\", \"RB\", 0, 336], [54, \"match\", \"match\", \"NN\", 1, 337], [0, \"because\", \"because\", \"IN\", 0, 338], [0, \"they\", \"they\", \"PRP\", 0, 339], [149, \"wanted\", \"want\", \"VBD\", 1, 340], [0, \"an\", \"an\", \"DT\", 0, 341], [150, \"opponent\", \"opponent\", \"NN\", 1, 342], [0, \"who\", \"who\", \"WP\", 0, 343], [0, \"would\", \"would\", \"MD\", 0, 344], [14, \"be\", \"be\", \"VB\", 1, 345], [151, \"remembered\", \"remember\", \"VBN\", 1, 346], [0, \"as\", \"as\", \"IN\", 0, 347], [0, \"one\", \"one\", \"CD\", 0, 348], [0, \"of\", \"of\", \"IN\", 0, 349], [152, \"history\", \"history\", \"NN\", 1, 350], [0, \"'s\", \"'s\", \"POS\", 0, 351], [153, \"great\", \"great\", \"JJ\", 1, 352], [134, \"players\", \"player\", \"NNS\", 1, 353], [0, \".\", \".\", \".\", 0, 354], [0, \" \", \" \", \".\", 0, 355]]]\n",
      "[\"231\", \"49737a908671f03f57253a2b7a07d0581293b1dd\", [[0, \"Although\", \"although\", \"IN\", 0, 356], [60, \"AlphaGo\", \"alphago\", \"NNP\", 1, 357], [133, \"topped\", \"top\", \"VBD\", 1, 358], [49, \"Lee\", \"lee\", \"NNP\", 1, 359], [50, \"Sedol\", \"sedol\", \"NNP\", 1, 360], [0, \"in\", \"in\", \"IN\", 0, 361], [0, \"the\", \"the\", \"DT\", 0, 362], [54, \"match\", \"match\", \"NN\", 1, 363], [0, \"'s\", \"'s\", \"POS\", 0, 364], [154, \"first\", \"first\", \"JJ\", 1, 365], [68, \"game\", \"game\", \"NN\", 1, 366], [0, \"on\", \"on\", \"IN\", 0, 367], [155, \"Wednesday\", \"wednesday\", \"NNP\", 1, 368], [83, \"afternoon\", \"afternoon\", \"NN\", 1, 369], [0, \",\", \",\", \".\", 0, 370], [0, \"the\", \"the\", \"DT\", 0, 371], [156, \"outcome\", \"outcome\", \"NN\", 1, 372], [0, \"of\", \"of\", \"IN\", 0, 373], [68, \"Game\", \"game\", \"NNP\", 1, 374], [157, \"Two\", \"two\", \"NNP\", 1, 375], [14, \"was\", \"be\", \"VBD\", 1, 376], [0, \"no\", \"no\", \"DT\", 0, 377], [158, \"easier\", \"easier\", \"JJR\", 1, 378], [0, \"to\", \"to\", \"TO\", 0, 379], [159, \"predict\", \"predict\", \"VB\", 1, 380], [0, \".\", \".\", \".\", 0, 381]]]\n",
      "[\"231\", \"77174395f814f2d6ef2dd5744a25ef29ccc07feb\", [[0, \"In\", \"in\", \"IN\", 0, 382], [0, \"his\", \"his\", \"PRP$\", 0, 383], [0, \"1996\", \"1996\", \"CD\", 0, 384], [54, \"match\", \"match\", \"NN\", 1, 385], [0, \"with\", \"with\", \"IN\", 0, 386], [160, \"IBM\", \"ibm\", \"NNP\", 1, 387], [0, \"'s\", \"'s\", \"POS\", 0, 388], [161, \"Deep\", \"deep\", \"NNP\", 1, 389], [162, \"Blue\", \"blue\", \"NNP\", 1, 390], [163, \"supercomputer\", \"supercomputer\", \"NN\", 1, 391], [0, \",\", \",\", \".\", 0, 392], [139, \"world\", \"world\", \"NN\", 1, 393], [72, \"chess\", \"chess\", \"NN\", 1, 394], [164, \"champion\", \"champion\", \"NN\", 1, 395], [165, \"Gary\", \"gary\", \"NNP\", 1, 396], [166, \"Kasparov\", \"kasparov\", \"NNP\", 1, 397], [167, \"lost\", \"lose\", \"VBD\", 1, 398], [0, \"the\", \"the\", \"DT\", 0, 399], [154, \"first\", \"first\", \"JJ\", 1, 400], [68, \"game\", \"game\", \"NN\", 1, 401], [0, \"but\", \"but\", \"CC\", 0, 402], [0, \"then\", \"then\", \"RB\", 0, 403], [123, \"came\", \"come\", \"VBD\", 1, 404], [0, \"back\", \"back\", \"RB\", 0, 405], [0, \"to\", \"to\", \"TO\", 0, 406], [45, \"win\", \"win\", \"VB\", 1, 407], [0, \"the\", \"the\", \"DT\", 0, 408], [46, \"second\", \"second\", \"JJ\", 1, 409], [68, \"game\", \"game\", \"NN\", 1, 410], [0, \"and\", \"and\", \"CC\", 0, 411], [0, \",\", \",\", \".\", 0, 412], [0, \"eventually\", \"eventually\", \"RB\", 0, 413], [0, \",\", \",\", \".\", 0, 414], [0, \"the\", \"the\", \"DT\", 0, 415], [54, \"match\", \"match\", \"NN\", 1, 416], [0, \"as\", \"as\", \"IN\", 0, 417], [0, \"a\", \"a\", \"DT\", 0, 418], [168, \"whole\", \"whole\", \"NN\", 1, 419], [0, \".\", \".\", \".\", 0, 420]]]\n",
      "[\"231\", \"4c78b1872dd4529dbbccc74ddab1d1ada95ec6e3\", [[0, \"It\", \"it\", \"PRP\", 0, 421], [14, \"was\", \"be\", \"VBD\", 1, 422], [0, \"n't\", \"n't\", \"RB\", 0, 423], [0, \"until\", \"until\", \"IN\", 0, 424], [0, \"the\", \"the\", \"DT\", 0, 425], [169, \"following\", \"following\", \"JJ\", 1, 426], [126, \"year\", \"year\", \"NN\", 1, 427], [0, \"that\", \"that\", \"WDT\", 0, 428], [161, \"Deep\", \"deep\", \"NNP\", 1, 429], [162, \"Blue\", \"blue\", \"NNP\", 1, 430], [133, \"topped\", \"top\", \"VBD\", 1, 431], [166, \"Kasparov\", \"kasparov\", \"NNP\", 1, 432], [0, \"over\", \"over\", \"IN\", 0, 433], [0, \"the\", \"the\", \"DT\", 0, 434], [170, \"course\", \"course\", \"NN\", 1, 435], [0, \"of\", \"of\", \"IN\", 0, 436], [0, \"a\", \"a\", \"DT\", 0, 437], [0, \"six-game\", \"six-game\", \"CD\", 0, 438], [47, \"contest\", \"contest\", \"NN\", 1, 439], [0, \".\", \".\", \".\", 0, 440]]]\n",
      "[\"231\", \"100bcb8cb5f3e21990b6b4e3b3ad39e467f8a233\", [[0, \"The\", \"the\", \"DT\", 0, 441], [171, \"thing\", \"thing\", \"NN\", 1, 442], [0, \"to\", \"to\", \"TO\", 0, 443], [172, \"realize\", \"realize\", \"VB\", 1, 444], [14, \"is\", \"be\", \"VBZ\", 1, 445], [0, \"that\", \"that\", \"IN\", 0, 446], [0, \",\", \",\", \".\", 0, 447], [0, \"after\", \"after\", \"IN\", 0, 448], [37, \"playing\", \"play\", \"VBG\", 1, 449], [60, \"AlphaGo\", \"alphago\", \"NNP\", 1, 450], [0, \"for\", \"for\", \"IN\", 0, 451], [0, \"the\", \"the\", \"DT\", 0, 452], [154, \"first\", \"first\", \"JJ\", 1, 453], [173, \"time\", \"time\", \"NN\", 1, 454], [0, \"on\", \"on\", \"IN\", 0, 455], [155, \"Wednesday\", \"wednesday\", \"NNP\", 1, 456], [0, \",\", \",\", \".\", 0, 457], [49, \"Lee\", \"lee\", \"NNP\", 1, 458], [50, \"Sedol\", \"sedol\", \"NNP\", 1, 459], [0, \"could\", \"could\", \"MD\", 0, 460], [174, \"adjust\", \"adjust\", \"VB\", 1, 461], [0, \"his\", \"his\", \"PRP$\", 0, 462], [175, \"style\", \"style\", \"NN\", 1, 463], [0, \"of\", \"of\", \"IN\", 0, 464], [37, \"play\", \"play\", \"NN\", 1, 465], [0, \"-\", \"-\", \".\", 0, 466], [0, \"just\", \"just\", \"RB\", 0, 467], [0, \"as\", \"as\", \"IN\", 0, 468], [166, \"Kasparov\", \"kasparov\", \"NNP\", 1, 469], [176, \"did\", \"do\", \"VBD\", 1, 470], [0, \"back\", \"back\", \"RB\", 0, 471], [0, \"in\", \"in\", \"IN\", 0, 472], [0, \"1996\", \"1996\", \"CD\", 0, 473], [0, \".\", \".\", \".\", 0, 474]]]\n",
      "[\"231\", \"c18cff2407b3db926eebb7931268a131125b724b\", [[0, \"But\", \"but\", \"CC\", 0, 475], [60, \"AlphaGo\", \"alphago\", \"NNP\", 1, 476], [0, \"could\", \"could\", \"MD\", 0, 477], [0, \"not\", \"not\", \"RB\", 0, 478], [0, \".\", \".\", \".\", 0, 479]]]\n",
      "[\"231\", \"41061c0ec64d4cfa6ebeb36ceaf21b7a3135902c\", [[0, \"Because\", \"because\", \"IN\", 0, 480], [0, \"this\", \"this\", \"DT\", 0, 481], [40, \"Google\", \"google\", \"NNP\", 1, 482], [177, \"creation\", \"creation\", \"NN\", 1, 483], [178, \"relies\", \"rely\", \"VBZ\", 1, 484], [0, \"so\", \"so\", \"RB\", 0, 485], [0, \"heavily\", \"heavily\", \"RB\", 0, 486], [0, \"on\", \"on\", \"IN\", 0, 487], [58, \"machine\", \"machine\", \"NN\", 1, 488], [179, \"learning\", \"learn\", \"VBG\", 1, 489], [94, \"techniques\", \"technique\", \"NNS\", 1, 490], [0, \",\", \",\", \".\", 0, 491], [0, \"the\", \"the\", \"DT\", 0, 492], [143, \"DeepMind\", \"deepmind\", \"NNP\", 1, 493], [146, \"team\", \"team\", \"NN\", 1, 494], [61, \"needs\", \"need\", \"VBZ\", 1, 495], [0, \"a\", \"a\", \"DT\", 0, 496], [180, \"good\", \"good\", \"JJ\", 1, 497], [0, \"four\", \"four\", \"CD\", 0, 498], [0, \"to\", \"to\", \"TO\", 0, 499], [0, \"six\", \"six\", \"CD\", 0, 500], [120, \"weeks\", \"week\", \"NNS\", 1, 501], [0, \"to\", \"to\", \"TO\", 0, 502], [181, \"train\", \"train\", \"VB\", 1, 503], [0, \"a\", \"a\", \"DT\", 0, 504], [182, \"new\", \"new\", \"JJ\", 1, 505], [183, \"incarnation\", \"incarnation\", \"NN\", 1, 506], [0, \"of\", \"of\", \"IN\", 0, 507], [0, \"the\", \"the\", \"DT\", 0, 508], [2, \"system\", \"system\", \"NN\", 1, 509], [0, \".\", \".\", \".\", 0, 510]]]\n",
      "[\"231\", \"0a3c369076e934da98f267f699561ea8f2d87272\", [[0, \"And\", \"and\", \"CC\", 0, 511], [0, \"that\", \"that\", \"DT\", 0, 512], [184, \"means\", \"mean\", \"VBZ\", 1, 513], [0, \"they\", \"they\", \"PRP\", 0, 514], [0, \"ca\", \"ca\", \"MD\", 0, 515], [0, \"n't\", \"n't\", \"RB\", 0, 516], [0, \"really\", \"really\", \"RB\", 0, 517], [185, \"change\", \"change\", \"VB\", 1, 518], [171, \"things\", \"thing\", \"NNS\", 1, 519], [0, \"during\", \"during\", \"IN\", 0, 520], [0, \"this\", \"this\", \"DT\", 0, 521], [0, \"eight-day\", \"eight-day\", \"CD\", 0, 522], [54, \"match\", \"match\", \"NN\", 1, 523], [0, \".\", \".\", \".\", 0, 524], [0, \" \", \" \", \".\", 0, 525]]]\n",
      "[\"231\", \"7f9c78477e81ba495357ec959fc7d374c250c4f6\", [[0, \"\\\"\", \"\\\"\", \".\", 0, 526], [0, \"This\", \"this\", \"DT\", 0, 527], [14, \"is\", \"be\", \"VBZ\", 1, 528], [0, \"about\", \"about\", \"IN\", 0, 529], [186, \"teaching\", \"teaching\", \"NN\", 1, 530], [0, \"and\", \"and\", \"CC\", 0, 531], [187, \"learning\", \"learning\", \"NN\", 1, 532], [0, \",\", \",\", \".\", 0, 533], [0, \"\\\"\", \"\\\"\", \".\", 0, 534], [142, \"Hassabis\", \"hassabis\", \"NNP\", 1, 535], [188, \"told\", \"tell\", \"VBD\", 1, 536], [0, \"us\", \"us\", \"PRP\", 0, 537], [0, \"just\", \"just\", \"RB\", 0, 538], [0, \"before\", \"before\", \"IN\", 0, 539], [68, \"Game\", \"game\", \"NNP\", 1, 540], [0, \"Two\", \"two\", \"CD\", 0, 541], [0, \".\", \".\", \".\", 0, 542], [0, \"\\\"\", \"\\\"\", \".\", 0, 543]]]\n",
      "[\"231\", \"2a75ba516fcf92678efc7d46f2ffd988a72c5cc9\", [[0, \"One\", \"one\", \"CD\", 0, 544], [68, \"game\", \"game\", \"NN\", 1, 545], [14, \"is\", \"be\", \"VBZ\", 1, 546], [0, \"not\", \"not\", \"RB\", 0, 547], [189, \"enough\", \"enough\", \"JJ\", 1, 548], [190, \"data\", \"datum\", \"NNS\", 1, 549], [0, \"to\", \"to\", \"TO\", 0, 550], [179, \"learn\", \"learn\", \"VB\", 1, 551], [0, \"from\", \"from\", \"IN\", 0, 552], [0, \"-\", \"-\", \".\", 0, 553], [0, \"for\", \"for\", \"IN\", 0, 554], [0, \"a\", \"a\", \"DT\", 0, 555], [191, \"machine-and\", \"machine-and\", \"NN\", 1, 556], [192, \"training\", \"training\", \"NN\", 1, 557], [51, \"takes\", \"take\", \"VBZ\", 1, 558], [0, \"an\", \"an\", \"DT\", 0, 559], [193, \"awful\", \"awful\", \"JJ\", 1, 560], [194, \"lot\", \"lot\", \"NN\", 1, 561], [0, \"of\", \"of\", \"IN\", 0, 562], [173, \"time\", \"time\", \"NN\", 1, 563], [0, \".\", \".\", \".\", 0, 564], [0, \"\\\"\", \"\\\"\", \".\", 0, 565]]]\n"
     ]
    }
   ],
   "source": [
    "path_stage0 = \"datasets/lee.json\"\n",
    "path_stage1 = \"outputs/lee_o1.json\"\n",
    "\n",
    "with open(path_stage1, 'w') as f:\n",
    "    for graf in pytextrank.parse_doc(pytextrank.json_iter(path_stage0)):\n",
    "        f.write(\"%s\\n\" % pytextrank.pretty_print(graf._asdict()))\n",
    "        # to view output in this notebook\n",
    "        print(pytextrank.pretty_print(graf))"
   ]
  },
  {
   "cell_type": "markdown",
   "metadata": {},
   "source": [
    "#### Ranked Keyphrases"
   ]
  },
  {
   "cell_type": "code",
   "execution_count": 25,
   "metadata": {},
   "outputs": [
    {
     "name": "stdout",
     "output_type": "stream",
     "text": [
      "[\"google\", 0.026026255073889386, [40], \"np\", 6]\n",
      "[\"many other games\", 0.0216767982355798, [77, 78, 68], \"np\", 1]\n",
      "[\"more win\", 0.020073886137486792, [34, 45], \"np\", 1]\n",
      "[\"lee sedol\", 0.018149270708722718, [49, 50], \"np\", 8]\n",
      "[\"match\", 0.016979080481930604, [54], \"np\", 1]\n",
      "[\"alphago\", 0.016713162984516014, [60], \"np\", 4]\n",
      "[\"more than four hours\", 0.01648639508597453, [34, 0, 0, 35], \"np\", 1]\n",
      "[\"wednesday afternoon\", 0.01638584926949149, [155, 83], \"np\", 2]\n",
      "[\"is\", 0.014809549729303425, [14], \"vbz\", 12]\n",
      "[\"seoul\", 0.013386735372663083, [56], \"np\", 2]\n",
      "[\"four seasons hotel\", 0.013340431412067621, [84, 85, 86], \"np\", 1]\n",
      "[\"skillful google machine\", 0.013013127536944693, [57, 40, 58], \"np\", 1]\n",
      "[\"afternoon\", 0.012994365708139922, [83], \"np\", 1]\n",
      "[\"machine-learning techniques\", 0.012768573980693533, [93, 94], \"np\", 1]\n",
      "[\"search engine results\", 0.012240995646780077, [110, 111, 112], \"np\", 1]\n",
      "[\"tight play\", 0.011806382477747795, [36, 37], \"np\", 1]\n",
      "[\"world chess champion gary\", 0.011742091089317662, [139, 72, 164, 165], \"np\", 1]\n",
      "[\"first time\", 0.011672174665699657, [154, 173], \"np\", 1]\n",
      "[\"more international titles\", 0.011511033165465976, [34, 136, 137], \"np\", 1]\n",
      "[\"gary kasparov\", 0.011074303909497553, [165, 166], \"np\", 1]\n",
      "[\"game\", 0.0108383991177899, [68], \"np\", 4]\n",
      "[\"best humans\", 0.010317461097734052, [70, 71], \"np\", 1]\n",
      "[\"four seasons\", 0.01028599046356366, [84, 85], \"np\", 1]\n",
      "[\"win\", 0.010036943068743396, [45], \"vb\", 4]\n",
      "[\"first\", 0.01000284659855203, [154], \"np\", 3]\n",
      "[\"the last decade\", 0.009878691426679211, [0, 67, 135], \"np\", 1]\n",
      "[\"sedol\", 0.009074635354361359, [50], \"nnp\", 5]\n",
      "[\"grandmaster lee sedol\", 0.009074635354361359, [48, 49, 50], \"np\", 1]\n",
      "[\"the google ai\", 0.008675418357963129, [0, 40, 144], \"np\", 1]\n",
      "[\"demis hassabis\", 0.008550323610199797, [141, 142], \"np\", 2]\n",
      "[\"have\", 0.008477500275403038, [44], \"vbp\", 5]\n",
      "[\"artificial intelligence\", 0.00839109393886954, [91, 92], \"np\", 1]\n",
      "[\"alphago technique\", 0.008356581492258007, [60, 94], \"np\", 1]\n",
      "[\"other player\", 0.008281934597993042, [78, 134], \"np\", 1]\n",
      "[\"wednesday\", 0.008192924634745745, [155], \"np\", 1]\n",
      "[\"deepmind\", 0.00778939138800128, [143], \"np\", 2]\n",
      "[\"commands\", 0.007229477396824165, [106], \"np\", 1]\n",
      "[\"game two\", 0.007225599411859934, [68, 157], \"np\", 1]\n",
      "[\"second\", 0.007119582689491764, [46], \"np\", 2]\n",
      "[\"awful lot\", 0.007113608425174986, [193, 194], \"np\", 1]\n",
      "[\"lee\", 0.006948885962068395, [49], \"nnp\", 5]\n",
      "[\"images\", 0.006904601419327854, [104], \"np\", 1]\n",
      "[\"experimental robotics\", 0.006740609960202102, [114, 115], \"np\", 1]\n",
      "[\"downtown seoul\", 0.0066933676863315415, [55, 56], \"np\", 1]\n",
      "[\"human intellect\", 0.006690362422680043, [71, 80], \"np\", 1]\n",
      "[\"hotel\", 0.006670215706033811, [86], \"nn\", 1]\n",
      "[\"rapid-fire endgame\", 0.00654557791554527, [38, 39], \"np\", 1]\n",
      "[\"google ai lab\", 0.0065065637684723465, [40, 144, 145], \"np\", 1]\n",
      "[\"saturday afternoon\", 0.006497182854069961, [82, 83], \"np\", 1]\n",
      "[\"number\", 0.0064086190097383516, [7], \"np\", 1]\n",
      "[\"jeopardy\", 0.006398542600617472, [76], \"np\", 1]\n",
      "[\"rapid progress\", 0.00627895989489352, [89, 90], \"np\", 1]\n",
      "[\"berkeley\", 0.006225327753936471, [119], \"np\", 1]\n",
      "[\"saturday\", 0.006142338012153513, [82], \"np\", 1]\n",
      "[\"results\", 0.006120497823390038, [112], \"nns\", 1]\n",
      "[\"korean-born lee sedol\", 0.006049756902907573, [64, 49, 50], \"np\", 1]\n",
      "[\"deep blue\", 0.005942120926048955, [161, 162], \"np\", 2]\n",
      "[\"play\", 0.0059031912388738976, [37], \"nn\", 3]\n",
      "[\"chess\", 0.005871045544658831, [72], \"nn\", 3]\n",
      "[\"time\", 0.005836087332849829, [173], \"nn\", 2]\n",
      "[\"titles\", 0.005755516582732988, [137], \"nns\", 1]\n",
      "[\"scrabble\", 0.005730823876117835, [75], \"np\", 1]\n",
      "[\"takes\", 0.005627262090825574, [51], \"vbz\", 3]\n",
      "[\"enough data\", 0.00558906561620365, [189, 190], \"np\", 1]\n",
      "[\"kasparov\", 0.005537151954748776, [166], \"np\", 4]\n",
      "[\"the university of california at\", 0.005527261585806358, [0, 117, 0, 118, 0], \"np\", 1]\n",
      "[\"other big-name internet companies\", 0.005470103085295679, [78, 99, 100, 101], \"np\", 1]\n",
      "[\"second contest\", 0.005439612211279138, [46, 47], \"np\", 1]\n",
      "[\"smartphones\", 0.005427646027415032, [108], \"nns\", 1]\n",
      "[\"first game\", 0.00541919955889495, [154, 68], \"np\", 2]\n",
      "[\"2,500 year ago\", 0.005418385060206338, [0, 126, 0], \"np\", 1]\n",
      "[\"myriad\", 0.005347248729964781, [97], \"np\", 1]\n",
      "[\"tests\", 0.005270532143201473, [79], \"np\", 1]\n",
      "[\"humans\", 0.005158730548867026, [71], \"nns\", 2]\n",
      "[\"team\", 0.005154905651523559, [146], \"np\", 2]\n",
      "[\"seasons\", 0.00514299523178183, [85], \"nnp\", 1]\n",
      "[\"go\", 0.0051023988616646235, [65], \"vb\", 5]\n",
      "[\"top\", 0.005046915501658235, [133], \"np\", 1]\n",
      "[\"othello\", 0.004945553328511854, [74], \"np\", 1]\n",
      "[\"last decade\", 0.004939345713339606, [67, 135], \"np\", 1]\n",
      "[\"degree\", 0.004871002628480117, [131], \"np\", 1]\n",
      "[\"korean\", 0.004852115203232156, [148], \"np\", 1]\n",
      "[\"learn\", 0.0045745244995103965, [179], \"vb\", 2]\n",
      "[\"new incarnation\", 0.004536476761948278, [182, 183], \"np\", 1]\n",
      "[\"victory\", 0.0043549995776881205, [63], \"nn\", 1]\n",
      "[\"second game\", 0.00433535964711596, [46, 68], \"np\", 1]\n",
      "[\"five in the world\", 0.004330701531377188, [0, 0, 0, 139], \"np\", 1]\n",
      "[\"hassabis\", 0.004275161805099899, [142], \"np\", 2]\n",
      "[\"techniques\", 0.004256191326897845, [94], \"np\", 1]\n",
      "[\"intelligence\", 0.00419554696943477, [92], \"nn\", 1]\n",
      "[\"leads\", 0.00417503427850294, [52], \"vbz\", 2]\n",
      "[\"players\", 0.004140967298996521, [134], \"nns\", 3]\n",
      "[\"great players\", 0.004140967298996521, [153, 134], \"np\", 1]\n",
      "[\"system\", 0.004058282563380028, [2], \"nn\", 2]\n",
      "[\"services\", 0.0040454234152150345, [98], \"nns\", 1]\n",
      "[\"lost\", 0.003987789819461383, [167], \"vbd\", 1]\n",
      "[\"search\", 0.003939207485389236, [110], \"nn\", 1]\n",
      "[\"helping\", 0.0039040241920025856, [102], \"vbg\", 1]\n",
      "[\"asia\", 0.003814283832105323, [125], \"np\", 1]\n",
      "[\"creation\", 0.0037397245423775997, [177], \"np\", 1]\n",
      "[\"spoken\", 0.0036832114937267115, [107], \"vbn\", 1]\n",
      "[\"deep blue supercomputer\", 0.003626090843203854, [161, 162, 163], \"np\", 1]\n",
      "[\"four\", 0.003608833788002212, [84], \"nnp\", 1]\n",
      "[\"intuition\", 0.0035598989226168715, [132], \"nn\", 1]\n",
      "[\"lot\", 0.003556804212587493, [194], \"nn\", 1]\n",
      "[\"outcome\", 0.0035246601203817117, [156], \"nn\", 1]\n",
      "[\"relies\", 0.003459374414875035, [178], \"vbz\", 1]\n",
      "[\"robotics\", 0.003370304980101051, [115], \"nns\", 1]\n",
      "[\"intellect\", 0.0033451812113400215, [80], \"nn\", 1]\n",
      "[\"predict\", 0.0033305531874540523, [159], \"vb\", 1]\n",
      "[\"engine\", 0.0033076996935508633, [111], \"nn\", 1]\n",
      "[\"style\", 0.0032821756352747347, [175], \"nn\", 1]\n",
      "[\"recognize\", 0.0032597925056365323, [105], \"vb\", 1]\n",
      "[\"gary\", 0.003171143358877582, [165], \"nnp\", 1]\n",
      "[\"set\", 0.0031507458375588334, [5], \"vbn\", 1]\n",
      "[\"needs\", 0.0031252156634419192, [61], \"vbz\", 2]\n",
      "[\"claim\", 0.0031118549007849903, [62], \"vb\", 1]\n",
      "[\"driving\", 0.0030886938967369373, [113], \"vbg\", 1]\n",
      "[\"improve\", 0.003069502349288229, [109], \"vb\", 1]\n",
      "[\"two\", 0.0030292428815244794, [157], \"nnp\", 1]\n",
      "[\"adjust\", 0.002962696562470254, [174], \"vb\", 1]\n",
      "[\"beaten\", 0.002938058857132655, [69], \"vbn\", 2]\n",
      "[\"grandmaster\", 0.002927801564565003, [48], \"nn\", 1]\n",
      "[\"decade\", 0.0028629605020523185, [135], \"nn\", 1]\n",
      "[\"ibm\", 0.0028394292771840622, [160], \"np\", 1]\n",
      "[\"things\", 0.0028252905677350454, [171], \"np\", 1]\n",
      "[\"data\", 0.002794532808101825, [190], \"nns\", 1]\n",
      "[\"judging\", 0.002794129850157601, [88], \"vbg\", 1]\n",
      "[\"california\", 0.002763630792903179, [118], \"nnp\", 1]\n",
      "[\"came\", 0.0027566342029114433, [123], \"vbd\", 2]\n",
      "[\"companies\", 0.0027350515426478395, [101], \"nns\", 1]\n",
      "[\"contest\", 0.002719806105639569, [47], \"nn\", 2]\n",
      "[\"the following year\", 0.002709192530103169, [0, 169, 126], \"np\", 1]\n",
      "[\"created\", 0.0026908422498377734, [124], \"vbd\", 2]\n",
      "[\"lab\", 0.0026646183430319176, [145], \"nn\", 1]\n",
      "[\"told\", 0.0025805851497923363, [188], \"vbd\", 1]\n",
      "[\"champion\", 0.0024710815741344795, [164], \"nn\", 1]\n",
      "[\"deep\", 0.0024593520411677404, [161], \"nnp\", 2]\n",
      "[\"identify\", 0.00242278596101513, [103], \"vb\", 1]\n",
      "[\"way\", 0.0023881640897614816, [87], \"nn\", 1]\n",
      "[\"reinvented\", 0.0023746953402780744, [96], \"vbn\", 1]\n",
      "[\"university\", 0.0023530958725788594, [117], \"nnp\", 1]\n",
      "[\"incarnation\", 0.002268238380974139, [183], \"nn\", 1]\n",
      "[\"known\", 0.0022429388351123103, [59], \"vbn\", 1]\n",
      "[\"learning\", 0.002235860053699725, [187], \"nn\", 1]\n",
      "[\"requires\", 0.0022251455410692237, [129], \"vbz\", 1]\n",
      "[\"defeat\", 0.0022091660450655284, [66], \"nn\", 1]\n",
      "[\"machines\", 0.0021943930486762494, [58], \"np\", 1]\n",
      "[\"training\", 0.0021762290127601467, [192], \"np\", 1]\n",
      "[\"world\", 0.002165350765688594, [139], \"nn\", 2]\n",
      "[\"hours\", 0.0021641007339374915, [35], \"nns\", 1]\n",
      "[\"endgame\", 0.002155156211773265, [39], \"nn\", 1]\n",
      "[\"heart\", 0.002120244445567487, [95], \"nn\", 1]\n",
      "[\"progress\", 0.0020979415240862252, [90], \"nn\", 1]\n",
      "[\"checkers\", 0.002011021594787987, [73], \"nns\", 1]\n",
      "[\"considered\", 0.002001104556015526, [15], \"vbn\", 1]\n",
      "[\"blue\", 0.0019807069753496514, [162], \"np\", 1]\n",
      "[\"opponent\", 0.0019709150803253984, [150], \"nn\", 1]\n",
      "[\"course\", 0.0019401128366557322, [170], \"nn\", 1]\n",
      "[\"did\", 0.0019401128366557322, [176], \"vbd\", 1]\n",
      "[\"internet\", 0.00191935259396999, [100], \"nn\", 1]\n",
      "[\"places\", 0.0018698622711887998, [116], \"nns\", 1]\n",
      "[\"ai\", 0.0018698622711887998, [144], \"nnp\", 1]\n",
      "[\"supercomputer\", 0.001813045421601927, [163], \"nn\", 1]\n",
      "[\"year\", 0.0018061283534021124, [126], \"np\", 1]\n",
      "[\"ranked\", 0.0017320331800620749, [138], \"vbn\", 1]\n",
      "[\"remembered\", 0.0017320331800620749, [151], \"vbn\", 1]\n",
      "[\"teaching\", 0.0017320331800620749, [186], \"nn\", 1]\n",
      "[\"added\", 0.001709178733674607, [130], \"vbn\", 1]\n",
      "[\"computer\", 0.0016598844627836306, [43], \"nn\", 1]\n",
      "[\"three\", 0.001531404143265734, [81], \"nnp\", 1]\n",
      "[\"week\", 0.0015271674577852486, [120], \"np\", 1]\n",
      "[\"technologies\", 0.0015271674577852486, [122], \"np\", 1]\n",
      "[\"downtown\", 0.0014197146385920311, [55], \"nn\", 1]\n",
      "[\"show\", 0.0014197146385920311, [121], \"vb\", 1]\n",
      "[\"wanted\", 0.0014197146385920311, [149], \"vbd\", 1]\n",
      "[\"whole\", 0.0014197146385920311, [168], \"nn\", 1]\n",
      "[\"realize\", 0.0013639851823113898, [172], \"vb\", 1]\n",
      "[\"chose\", 0.0013113465665727643, [147], \"vbd\", 1]\n",
      "[\"go-playing\", 0.0012934211101213692, [42], \"vb\", 1]\n",
      "[\"demis\", 0.0012836107158130767, [141], \"nnp\", 1]\n",
      "[\"according\", 0.0012236437082391162, [140], \"vbg\", 1]\n",
      "[\"train\", 0.0010881145063800733, [181], \"vb\", 1]\n",
      "[\"korean-born\", 0.0007635837288926243, [64], \"nnp\", 1]\n",
      "[\"machine-learning\", 0.0007635837288926243, [93], \"nn\", 1]\n",
      "[\"history\", 0.0007635837288926243, [152], \"nn\", 1]\n",
      "[\"change\", 0.0007635837288926243, [185], \"vb\", 1]\n",
      "[\"machine-and\", 0.0007635837288926243, [191], \"nn\", 1]\n",
      "[\"eight-day\", 0.0, [0], \"np\", 3]\n"
     ]
    }
   ],
   "source": [
    "path_stage1 = \"outputs/lee_o1.json\"\n",
    "path_stage2 = \"outputs/lee_o2.json\"\n",
    "\n",
    "graph, ranks = pytextrank.text_rank(path_stage1)\n",
    "pytextrank.render_ranks(graph, ranks)\n",
    "\n",
    "with open(path_stage2, 'w') as f:\n",
    "    for rl in pytextrank.normalize_key_phrases(path_stage1, ranks):\n",
    "        f.write(\"%s\\n\" % pytextrank.pretty_print(rl._asdict()))\n",
    "        # to view output in this notebook\n",
    "        print(pytextrank.pretty_print(rl))"
   ]
  },
  {
   "cell_type": "markdown",
   "metadata": {},
   "source": [
    "#### Extractive Summarization"
   ]
  },
  {
   "cell_type": "code",
   "execution_count": 26,
   "metadata": {},
   "outputs": [
    {
     "name": "stdout",
     "output_type": "stream",
     "text": [
      "{\"dist\": 0.02550877977106419, \"idx\": 16, \"text\": \"But AlphaGo could not .\"}\n",
      "{\"dist\": 0.02440609391223902, \"idx\": 10, \"text\": \"Lee Sedol is widely-regarded as the top Go player of the last decade , after winning more international titles than all but one other player .\"}\n",
      "{\"dist\": 0.02352312242281724, \"idx\": 12, \"text\": \"Although AlphaGo topped Lee Sedol in the match 's first game on Wednesday afternoon , the outcome of Game Two was no easier to predict .\"}\n",
      "{\"dist\": 0.02247625911222141, \"idx\": 4, \"text\": \"Game Three is set for Saturday afternoon inside Seoul 's Four Seasons hotel .  \"}\n",
      "{\"dist\": 0.022067365299533476, \"idx\": 2, \"text\": \"The Korean-born Lee Sedol will go down in defeat unless he takes each of the match 's last three games .\"}\n",
      "{\"dist\": 0.020157730264876748, \"idx\": 1, \"text\": \"The surprisingly skillful Google machine , known as AlphaGo , now needs only one more win to claim victory in the match .\"}\n",
      "{\"dist\": 0.019894139008120475, \"idx\": 15, \"text\": \"The thing to realize is that , after playing AlphaGo for the first time on Wednesday , Lee Sedol could adjust his style of play - just as Kasparov did back in 1996 .\"}\n",
      "{\"dist\": 0.01736180004318929, \"idx\": 7, \"text\": \"Meanwhile , another AlphaGo technique is now driving experimental robotics at Google and places like the University of California at Berkeley .\"}\n",
      "{\"dist\": 0.01690031324878546, \"idx\": 19, \"text\": \"\\\" This is about teaching and learning , \\\" Hassabis told us just before Game Two . \\\"\"}\n",
      "{\"dist\": 0.016870548570333356, \"idx\": 0, \"text\": \"After more than four hours of tight play and a rapid-fire endgame , Google 's artificially intelligent Go-playing computer system has won a second contest against grandmaster Lee Sedol , taking a two-games-to-none lead in their historic best-of-five match in downtown Seoul .  \"}\n",
      "{\"dist\": 0.016821604685417733, \"idx\": 13, \"text\": \"In his 1996 match with IBM 's Deep Blue supercomputer , world chess champion Gary Kasparov lost the first game but then came back to win the second game and , eventually , the match as a whole .\"}\n",
      "{\"dist\": 0.014472073695324031, \"idx\": 3, \"text\": \"Though machines have beaten the best humans at chess , checkers , Othello , Scrabble , Jeopardy ! , and so many other games considered tests of human intellect , they have never beaten the very best at Go .\"}\n",
      "{\"dist\": 0.013830306844327091, \"idx\": 6, \"text\": \"One of the machine-learning techniques at the heart of AlphaGo has already reinvented myriad online services inside Google and other big-name Internet companies , helping to identify images , recognize commands spoken into smartphones , improve search engine results , and more .\"}\n",
      "{\"dist\": 0.013684062419861767, \"idx\": 20, \"text\": \"One game is not enough data to learn from - for a machine-and training takes an awful lot of time . \\\"\"}\n",
      "{\"dist\": 0.013036761468180301, \"idx\": 5, \"text\": \"The match is a way of judging the suddenly rapid progress of artificial intelligence .\"}\n",
      "{\"dist\": 0.012838463311959376, \"idx\": 18, \"text\": \"And that means they ca n't really change things during this eight-day match .  \"}\n",
      "{\"dist\": 0.012428955616087287, \"idx\": 14, \"text\": \"It was n't until the following year that Deep Blue topped Kasparov over the course of a six-game contest .\"}\n",
      "{\"dist\": 0.011135442307988701, \"idx\": 17, \"text\": \"Because this Google creation relies so heavily on machine learning techniques , the DeepMind team needs a good four to six weeks to train a new incarnation of the system .\"}\n",
      "{\"dist\": 0.010879494215582855, \"idx\": 11, \"text\": \"He is currently ranked number five in the world , and according to Demis Hassabis , who leads DeepMind , the Google AI lab that created AlphaGo , his team chose the Korean for this all-important match because they wanted an opponent who would be remembered as one of history 's great players .  \"}\n",
      "{\"dist\": 0.010121965494323228, \"idx\": 9, \"text\": \"Created in Asia over 2,500 year ago , Go is exponentially more complex than chess , and at least among humans , it requires an added degree of intuition .\"}\n",
      "{\"dist\": 0.009271878124410906, \"idx\": 8, \"text\": \"This week 's match can show how far these technologies have come - and perhaps how far they will go .  \"}\n"
     ]
    }
   ],
   "source": [
    "path_stage1 = \"outputs/lee_o1.json\"\n",
    "path_stage2 = \"outputs/lee_o2.json\"\n",
    "path_stage3 = \"outputs/lee_o3.json\"\n",
    "\n",
    "kernel = pytextrank.rank_kernel(path_stage2)\n",
    "\n",
    "with open(path_stage3, 'w') as f:\n",
    "    for s in pytextrank.top_sentences(kernel, path_stage1):\n",
    "        f.write(pytextrank.pretty_print(s._asdict()))\n",
    "        f.write(\"\\n\")\n",
    "        # to view output in this notebook\n",
    "        print(pytextrank.pretty_print(s._asdict()))"
   ]
  },
  {
   "cell_type": "code",
   "execution_count": 27,
   "metadata": {
    "collapsed": true
   },
   "outputs": [],
   "source": [
    "path_stage2 = \"outputs/lee_o2.json\"\n",
    "path_stage3 = \"outputs/lee_o3.json\"\n",
    "\n",
    "phrases = \", \".join(set([p for p in pytextrank.limit_keyphrases(path_stage2, phrase_limit=12)]))\n",
    "sent_iter = sorted(pytextrank.limit_sentences(path_stage3, word_limit=150), key=lambda x: x[1])\n",
    "s = []\n",
    "\n",
    "for sent_text, idx in sent_iter:\n",
    "    s.append(pytextrank.make_sentence(sent_text))\n",
    "\n",
    "graf_text = \" \".join(s)"
   ]
  },
  {
   "cell_type": "markdown",
   "metadata": {},
   "source": [
    "#### Final Ouput"
   ]
  },
  {
   "cell_type": "code",
   "execution_count": 28,
   "metadata": {},
   "outputs": [
    {
     "name": "stdout",
     "output_type": "stream",
     "text": [
      "Original Text:\n",
      "--------------\n",
      "After more than four hours of tight play and a rapid-fire endgame, Google's artificially intelligent Go-playing computer system has won a second contest against grandmaster Lee Sedol, taking a two-games-to-none lead in their historic best-of-five match in downtown Seoul.  The surprisingly skillful Google machine, known as AlphaGo, now needs only one more win to claim victory in the match. The Korean-born Lee Sedol will go down in defeat unless he takes each of the match's last three games. Though machines have beaten the best humans at chess, checkers, Othello, Scrabble, Jeopardy!, and so many other games considered tests of human intellect, they have never beaten the very best at Go. Game Three is set for Saturday afternoon inside Seoul's Four Seasons hotel.  The match is a way of judging the suddenly rapid progress of artificial intelligence. One of the machine-learning techniques at the heart of AlphaGo has already reinvented myriad online services inside Google and other big-name Internet companies, helping to identify images, recognize commands spoken into smartphones, improve search engine results, and more. Meanwhile, another AlphaGo technique is now driving experimental robotics at Google and places like the University of California at Berkeley. This week's match can show how far these technologies have come - and perhaps how far they will go.  Created in Asia over 2,500 year ago, Go is exponentially more complex than chess, and at least among humans, it requires an added degree of intuition. Lee Sedol is widely-regarded as the top Go player of the last decade, after winning more international titles than all but one other player. He is currently ranked number five in the world, and according to Demis Hassabis, who leads DeepMind, the Google AI lab that created AlphaGo, his team chose the Korean for this all-important match because they wanted an opponent who would be remembered as one of history's great players.  Although AlphaGo topped Lee Sedol in the match's first game on Wednesday afternoon, the outcome of Game Two was no easier to predict. In his 1996 match with IBM's Deep Blue supercomputer, world chess champion Gary Kasparov lost the first game but then came back to win the second game and, eventually, the match as a whole. It wasn't until the following year that Deep Blue topped Kasparov over the course of a six-game contest. The thing to realize is that, after playing AlphaGo for the first time on Wednesday, Lee Sedol could adjust his style of play - just as Kasparov did back in 1996. But AlphaGo could not. Because this Google creation relies so heavily on machine learning techniques, the DeepMind team needs a good four to six weeks to train a new incarnation of the system. And that means they can't really change things during this eight-day match.  \"This is about teaching and learning,\" Hassabis told us just before Game Two. \"One game is not enough data to learn from - for a machine - and training takes an awful lot of time.\"\n",
      "Excerpt:\n",
      "--------\n",
      "The surprisingly skillful Google machine, known as AlphaGo, now needs only one more win to claim victory in the match. The Korean-born Lee Sedol will go down in defeat unless he takes each of the match's last three games. Game Three is set for Saturday afternoon inside Seoul's Four Seasons hotel. Lee Sedol is widely-regarded as the top Go player of the last decade, after winning more international titles than all but one other player. Although AlphaGo topped Lee Sedol in the match's first game on Wednesday afternoon, the outcome of Game Two was no easier to predict. The thing to realize is that, after playing AlphaGo for the first time on Wednesday, Lee Sedol could adjust his style of play- just as Kasparov did back in 1996. But AlphaGo could not.\n",
      "Keywords:\n",
      "--------\n",
      "afternoon, four seasons hotel, alphago, google, machine-learning techniques, many other games, match, lee sedol, seoul, skillful google machine, more than four hours, more win, wednesday afternoon\n"
     ]
    }
   ],
   "source": [
    "data = json.load(open(path_stage0))\n",
    "print('Original Text:')\n",
    "print('--------------')\n",
    "print(data['text'])\n",
    "print('Excerpt:')\n",
    "print('--------')\n",
    "print(graf_text)\n",
    "print('Keywords:')\n",
    "print('--------')\n",
    "print(phrases)"
   ]
  },
  {
   "cell_type": "markdown",
   "metadata": {},
   "source": [
    "---\n",
    "\n",
    "## Sentiment Analysis\n",
    "\n",
    "---"
   ]
  },
  {
   "cell_type": "code",
   "execution_count": 33,
   "metadata": {},
   "outputs": [
    {
     "name": "stderr",
     "output_type": "stream",
     "text": [
      "Using TensorFlow backend.\n"
     ]
    }
   ],
   "source": [
    "import numpy as np\n",
    "import re\n",
    "from nltk.corpus import stopwords\n",
    "from gensim.parsing.porter import PorterStemmer\n",
    "\n",
    "stop = stopwords.words('english')\n",
    "porter = PorterStemmer()\n",
    "\n",
    "def tokenizer(text):\n",
    "    text = re.sub('<[^>]*>', '', text)\n",
    "    emoticons = re.findall('(?::|;|=)(?:-)?(?:\\)|\\(|D|P)', text.lower())\n",
    "    text = re.sub('[\\W]+', ' ', text.lower()) + ' '.join(emoticons).replace('-', '')\n",
    "    tokenized = [w for w in text.split() if w not in stop]\n",
    "    return tokenized\n",
    "\n",
    "def stream_docs(path):\n",
    "    with open(path, 'r') as csv:\n",
    "        next(csv) # skip header\n",
    "        for line in csv:\n",
    "            text, label = line[:-3], int(line[-2])\n",
    "            yield text, label"
   ]
  },
  {
   "cell_type": "code",
   "execution_count": 34,
   "metadata": {},
   "outputs": [
    {
     "data": {
      "text/plain": [
       "('\"In 1974, the teenager Martha Moxley (Maggie Grace) moves to the high-class area of Belle Haven, Greenwich, Connecticut. On the Mischief Night, eve of Halloween, she was murdered in the backyard of her house and her murder remained unsolved. Twenty-two years later, the writer Mark Fuhrman (Christopher Meloni), who is a former LA detective that has fallen in disgrace for perjury in O.J. Simpson trial and moved to Idaho, decides to investigate the case with his partner Stephen Weeks (Andrew Mitchell) with the purpose of writing a book. The locals squirm and do not welcome them, but with the support of the retired detective Steve Carroll (Robert Forster) that was in charge of the investigation in the 70\\'s, they discover the criminal and a net of power and money to cover the murder.<br /><br />\"\"Murder in Greenwich\"\" is a good TV movie, with the true story of a murder of a fifteen years old girl that was committed by a wealthy teenager whose mother was a Kennedy. The powerful and rich family used their influence to cover the murder for more than twenty years. However, a snoopy detective and convicted perjurer in disgrace was able to disclose how the hideous crime was committed. The screenplay shows the investigation of Mark and the last days of Martha in parallel, but there is a lack of the emotion in the dramatization. My vote is seven.<br /><br />Title (Brazil): Not Available\"',\n",
       " 1)"
      ]
     },
     "execution_count": 34,
     "metadata": {},
     "output_type": "execute_result"
    }
   ],
   "source": [
    "next(stream_docs(path='./movie_data.csv'))"
   ]
  },
  {
   "cell_type": "code",
   "execution_count": 47,
   "metadata": {
    "collapsed": true
   },
   "outputs": [],
   "source": [
    "def get_minibatch(doc_stream, size):\n",
    "    docs, y = [], []\n",
    "    try:\n",
    "        for _ in range(size):\n",
    "            text, label = next(doc_stream)\n",
    "            docs.append(text)\n",
    "            y.append(label)\n",
    "    except StopIteration:\n",
    "        return None, None\n",
    "    return docs, y"
   ]
  },
  {
   "cell_type": "code",
   "execution_count": 48,
   "metadata": {},
   "outputs": [
    {
     "name": "stderr",
     "output_type": "stream",
     "text": [
      "/Users/shivasj/anaconda/envs/harvard/lib/python3.6/site-packages/sklearn/linear_model/stochastic_gradient.py:73: DeprecationWarning: n_iter parameter is deprecated in 0.19 and will be removed in 0.21. Use max_iter and tol instead.\n",
      "  DeprecationWarning)\n"
     ]
    }
   ],
   "source": [
    "from sklearn.feature_extraction.text import HashingVectorizer\n",
    "from sklearn.linear_model import SGDClassifier\n",
    "\n",
    "vect = HashingVectorizer(decode_error='ignore', \n",
    "                         n_features=2**21,\n",
    "                         preprocessor=None, \n",
    "                         tokenizer=tokenizer)\n",
    "\n",
    "clf = SGDClassifier(loss='log', random_state=1, n_iter=1)\n",
    "doc_stream = stream_docs(path='./movie_data.csv')"
   ]
  },
  {
   "cell_type": "code",
   "execution_count": 49,
   "metadata": {},
   "outputs": [
    {
     "name": "stderr",
     "output_type": "stream",
     "text": [
      "0% [##############################] 100% | ETA: 00:00:00\n",
      "Total time elapsed: 00:00:22\n"
     ]
    }
   ],
   "source": [
    "import pyprind\n",
    "pbar = pyprind.ProgBar(45)\n",
    "\n",
    "classes = np.array([0, 1])\n",
    "for _ in range(45):\n",
    "    X_train, y_train = get_minibatch(doc_stream, size=1000)\n",
    "    if not X_train:\n",
    "        break\n",
    "    X_train = vect.transform(X_train)\n",
    "    clf.partial_fit(X_train, y_train, classes=classes)\n",
    "    pbar.update()"
   ]
  },
  {
   "cell_type": "code",
   "execution_count": 50,
   "metadata": {},
   "outputs": [
    {
     "name": "stdout",
     "output_type": "stream",
     "text": [
      "Accuracy: 0.867\n"
     ]
    }
   ],
   "source": [
    "X_test, y_test = get_minibatch(doc_stream, size=5000)\n",
    "X_test = vect.transform(X_test)\n",
    "print('Accuracy: %.3f' % clf.score(X_test, y_test))"
   ]
  },
  {
   "cell_type": "code",
   "execution_count": 51,
   "metadata": {
    "collapsed": true
   },
   "outputs": [],
   "source": [
    "clf = clf.partial_fit(X_test, y_test)"
   ]
  },
  {
   "cell_type": "markdown",
   "metadata": {},
   "source": [
    "### Serializing fitted scikit-learn estimators"
   ]
  },
  {
   "cell_type": "code",
   "execution_count": 52,
   "metadata": {
    "collapsed": true
   },
   "outputs": [],
   "source": [
    "import pickle\n",
    "import os\n",
    "\n",
    "dest = os.path.join('TextSummarizer/textsummarizersvc/movieclassifier', 'pkl_objects')\n",
    "if not os.path.exists(dest):\n",
    "    os.makedirs(dest)\n",
    "\n",
    "pickle.dump(stop, open(os.path.join(dest, 'stopwords.pkl'), 'wb'), protocol=4)   \n",
    "pickle.dump(clf, open(os.path.join(dest, 'classifier.pkl'), 'wb'), protocol=4)"
   ]
  },
  {
   "cell_type": "code",
   "execution_count": 53,
   "metadata": {},
   "outputs": [
    {
     "name": "stdout",
     "output_type": "stream",
     "text": [
      "[I]\n"
     ]
    }
   ],
   "source": [
    "from spacy.en import English\n",
    "nlp = English()\n",
    "sent = \"I shot an elephant\"\n",
    "doc=nlp(sent)\n",
    "\n",
    "sub_toks = [tok for tok in doc if (tok.dep_ == \"nsubj\") ]\n",
    "\n",
    "print(sub_toks) "
   ]
  },
  {
   "cell_type": "code",
   "execution_count": 54,
   "metadata": {},
   "outputs": [
    {
     "name": "stdout",
     "output_type": "stream",
     "text": [
      "I shot an elephant\n"
     ]
    }
   ],
   "source": [
    "print(doc)"
   ]
  },
  {
   "cell_type": "code",
   "execution_count": 56,
   "metadata": {},
   "outputs": [
    {
     "name": "stdout",
     "output_type": "stream",
     "text": [
      "I nsubj\n",
      "shot ROOT\n",
      "an det\n",
      "elephant dobj\n"
     ]
    }
   ],
   "source": [
    "for tok in doc:\n",
    "    print(tok,tok.dep_)"
   ]
  },
  {
   "cell_type": "code",
   "execution_count": 57,
   "metadata": {},
   "outputs": [
    {
     "name": "stdout",
     "output_type": "stream",
     "text": [
      "What attr\n",
      "is ROOT\n",
      "regression nsubj\n",
      "? punct\n"
     ]
    }
   ],
   "source": [
    "sent = \"What is regression?\"\n",
    "doc=nlp(sent)\n",
    "for tok in doc:\n",
    "    print(tok,tok.dep_)"
   ]
  },
  {
   "cell_type": "code",
   "execution_count": 59,
   "metadata": {},
   "outputs": [
    {
     "name": "stdout",
     "output_type": "stream",
     "text": [
      "What attr\n",
      "is ROOT\n",
      "the det\n",
      "purpose nsubj\n",
      "of prep\n",
      "a det\n",
      "QQ compound\n",
      "plot pobj\n",
      "for prep\n",
      "regression pobj\n",
      "? punct\n"
     ]
    }
   ],
   "source": [
    "sent = \"What is the purpose of a QQ plot for regression?\"\n",
    "doc=nlp(sent)\n",
    "for tok in doc:\n",
    "    print(tok,tok.dep_)"
   ]
  },
  {
   "cell_type": "code",
   "execution_count": 60,
   "metadata": {},
   "outputs": [
    {
     "name": "stdout",
     "output_type": "stream",
     "text": [
      "Describe ROOT\n",
      "the det\n",
      "fundamental amod\n",
      "differences dobj\n",
      "between prep\n",
      "stacking pcomp\n",
      "and cc\n",
      "boosting conj\n",
      ". punct\n"
     ]
    }
   ],
   "source": [
    "sent = \"Describe the fundamental differences between stacking and boosting.\"\n",
    "doc=nlp(sent)\n",
    "for tok in doc:\n",
    "    print(tok,tok.dep_)"
   ]
  },
  {
   "cell_type": "code",
   "execution_count": 61,
   "metadata": {},
   "outputs": [
    {
     "name": "stdout",
     "output_type": "stream",
     "text": [
      "How advmod\n",
      "are ROOT\n",
      "eigenvalues attr\n",
      "and cc\n",
      "eigenvectors conj\n",
      "related acl\n",
      "to prep\n",
      "PCA pobj\n",
      "? punct\n"
     ]
    }
   ],
   "source": [
    "sent = \"How are eigenvalues and eigenvectors related to PCA?\"\n",
    "doc=nlp(sent)\n",
    "for tok in doc:\n",
    "    print(tok,tok.dep_)"
   ]
  },
  {
   "cell_type": "code",
   "execution_count": 62,
   "metadata": {},
   "outputs": [
    {
     "name": "stdout",
     "output_type": "stream",
     "text": [
      "Compare ROOT\n",
      "/ punct\n",
      "contrast dobj\n",
      "a det\n",
      "random amod\n",
      "forest dobj\n",
      "and cc\n",
      "an det\n",
      "isolation compound\n",
      "tree conj\n"
     ]
    }
   ],
   "source": [
    "sent = \"Compare/contrast a random forest and an isolation tree\"\n",
    "doc=nlp(sent)\n",
    "for tok in doc:\n",
    "    print(tok,tok.dep_)"
   ]
  },
  {
   "cell_type": "code",
   "execution_count": null,
   "metadata": {
    "collapsed": true
   },
   "outputs": [],
   "source": []
  }
 ],
 "metadata": {
  "kernelspec": {
   "display_name": "Python 3",
   "language": "python",
   "name": "python3"
  },
  "language_info": {
   "codemirror_mode": {
    "name": "ipython",
    "version": 3
   },
   "file_extension": ".py",
   "mimetype": "text/x-python",
   "name": "python",
   "nbconvert_exporter": "python",
   "pygments_lexer": "ipython3",
   "version": "3.6.2"
  }
 },
 "nbformat": 4,
 "nbformat_minor": 2
}
